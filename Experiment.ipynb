{
 "cells": [
  {
   "metadata": {
    "ExecuteTime": {
     "end_time": "2024-09-14T02:44:23.283247Z",
     "start_time": "2024-09-14T02:44:23.281560Z"
    }
   },
   "cell_type": "code",
   "source": [
    "import requests\n",
    "import pandas as pd \n",
    "import json\n",
    "import numpy as np"
   ],
   "id": "32b20a0b5f4f41ca",
   "outputs": [],
   "execution_count": 2
  },
  {
   "cell_type": "code",
   "id": "initial_id",
   "metadata": {
    "collapsed": true,
    "ExecuteTime": {
     "end_time": "2024-09-14T02:44:31.938975Z",
     "start_time": "2024-09-14T02:44:30.786981Z"
    }
   },
   "source": [
    "ticker = 'AAPL'\n",
    "params = {\n",
    "    'interval' : '1d',\n",
    "    'start_date' : '2010-01-01',\n",
    "    'end_date' : '2024-01-01',\n",
    "}\n",
    "response = requests.get(f\"http://localhost:8000/dataset_manager/get_stock_data/{ticker}\", params=params)\n",
    "\n",
    "df = pd.DataFrame(response.json()).T"
   ],
   "outputs": [],
   "execution_count": 4
  },
  {
   "metadata": {
    "ExecuteTime": {
     "end_time": "2024-09-14T02:44:32.897102Z",
     "start_time": "2024-09-14T02:44:32.891812Z"
    }
   },
   "cell_type": "code",
   "source": "df.iloc[2044:2045]['pctChgclose+2']",
   "id": "b072439624fc5364",
   "outputs": [
    {
     "data": {
      "text/plain": [
       "2018-02-15 00:00:00+00:00   -0.336361\n",
       "Name: pctChgclose+2, dtype: float64"
      ]
     },
     "execution_count": 5,
     "metadata": {},
     "output_type": "execute_result"
    }
   ],
   "execution_count": 5
  },
  {
   "metadata": {
    "ExecuteTime": {
     "end_time": "2024-09-14T02:44:33.804025Z",
     "start_time": "2024-09-14T02:44:33.802210Z"
    }
   },
   "cell_type": "code",
   "source": [
    "\n",
    "url = 'http://localhost:8000/sequenceset_manager/get_sequence_data'\n",
    "# features = ['pctChgclose', 'pctChgvolume', 'opHi', 'opCl','hiCl','loCl','opLo',\"pctDiff+ema5_close\", \"pctDiff+ema10_close\", \"pctDiff+ema20_close\",'pctDiff+ema50_close', 'pctDiff+ema100_close',\n",
    "# 'pctDiff+ema200_close','pctDiff+bb_high_close10', 'pctDiff+bb_low_close10', 'pctDiff+smaVol10_volume', 'pctDiff+smaVol20_volume', 'pctChgClOp', 'macd_signal','bb_indicator20',\"bb_indicator50\",\n",
    "#             ]\n",
    "# features = ['open', 'high', 'low', 'close', 'volume']\n",
    "\n",
    "# features = ['pctChgclose','pctChgvolume','opHi', 'opCl','hiCl','loCl','opLo']\n",
    "# target_features = ['pctChgclose+{}'.format(i) for i in range(1, 2) ]\n",
    "target_features = ['cumPctChg+{}'.format(i) for i in range(2, 3) ]"
   ],
   "id": "c994875e7c7753d9",
   "outputs": [],
   "execution_count": 6
  },
  {
   "metadata": {
    "ExecuteTime": {
     "end_time": "2024-09-14T02:44:34.748294Z",
     "start_time": "2024-09-14T02:44:34.425861Z"
    }
   },
   "cell_type": "code",
   "source": [
    "# tickers = ['BB' ]\n",
    "tickers = ['AAPL']\n",
    "sequence_lengths = [10]\n",
    "all_sequences = []\n",
    "\n",
    "all_params = []\n",
    "\n",
    "for ticker in tickers:\n",
    "    for sequence_length in sequence_lengths:\n",
    "        all_params.append({\n",
    "            'ticker': ticker,\n",
    "            'features': target_features,\n",
    "            'interval': '1d',\n",
    "            'sequence_length': sequence_length\n",
    "        })\n",
    "for params in all_params:\n",
    "\n",
    "    response = requests.get(url, params=params)\n",
    "    if response.status_code == 200:\n",
    "        try:\n",
    "            data = response.json()\n",
    "            all_sequences.append(data)\n",
    "        except json.JSONDecodeError as e:\n",
    "            print(f\"Failed to decode JSON: {e}\")\n",
    "            print(\"Response text:\", response.text)\n",
    "    else:\n",
    "        print(f\"Request failed with status code {response.status_code}\")"
   ],
   "id": "af6ed01e0c491230",
   "outputs": [],
   "execution_count": 7
  },
  {
   "metadata": {
    "ExecuteTime": {
     "end_time": "2024-09-14T02:44:35.276524Z",
     "start_time": "2024-09-14T02:44:35.274748Z"
    }
   },
   "cell_type": "code",
   "source": "sequences = all_sequences[0]",
   "id": "b1f268daa966a26",
   "outputs": [],
   "execution_count": 8
  },
  {
   "metadata": {
    "ExecuteTime": {
     "end_time": "2024-09-14T02:44:35.793421Z",
     "start_time": "2024-09-14T02:44:35.791452Z"
    }
   },
   "cell_type": "code",
   "source": "print(len(sequences))",
   "id": "915c0cfd54cbfaf2",
   "outputs": [
    {
     "name": "stdout",
     "output_type": "stream",
     "text": [
      "11021\n"
     ]
    }
   ],
   "execution_count": 9
  },
  {
   "metadata": {
    "ExecuteTime": {
     "end_time": "2024-09-14T02:44:36.308540Z",
     "start_time": "2024-09-14T02:44:36.303497Z"
    }
   },
   "cell_type": "code",
   "source": [
    "y = np.zeros((len(sequences), 1))\n",
    "for i, sequence in enumerate(sequences):\n",
    "    y[i] = sequence['sliced_data'][0]"
   ],
   "id": "ade22de680e0bb1e",
   "outputs": [],
   "execution_count": 10
  },
  {
   "metadata": {
    "ExecuteTime": {
     "end_time": "2024-09-14T02:44:37.092250Z",
     "start_time": "2024-09-14T02:44:36.833875Z"
    }
   },
   "cell_type": "code",
   "source": [
    "# plot y \n",
    "import matplotlib.pyplot as plt\n",
    "plt.plot(y)"
   ],
   "id": "41ecda3d66600b83",
   "outputs": [
    {
     "data": {
      "text/plain": [
       "[<matplotlib.lines.Line2D at 0x30f57a810>]"
      ]
     },
     "execution_count": 11,
     "metadata": {},
     "output_type": "execute_result"
    },
    {
     "data": {
      "text/plain": [
       "<Figure size 640x480 with 1 Axes>"
      ],
      "image/png": "[encoded data removed]"
     },
     "metadata": {},
     "output_type": "display_data"
    }
   ],
   "execution_count": 11
  },
  {
   "metadata": {},
   "cell_type": "code",
   "source": [
    "import os\n",
    "import django\n",
    "\n",
    "# Set the Django settings module (replace 'your_project_name' with the actual project name)\n",
    "os.environ.setdefault('DJANGO_SETTINGS_MODULE', 'TradeLens.settings')\n",
    "\n",
    "# Set up Django\n",
    "django.setup()\n",
    "import sys\n",
    "\n",
    "# Replace this path with the path to your Django project\n",
    "sys.path.append('/Users/andrewpassero/Documents/TradeLensForcast')"
   ],
   "id": "5f88701b1359eb52",
   "outputs": [],
   "execution_count": null
  },
  {
   "metadata": {},
   "cell_type": "code",
   "source": [
    "from sequenceset_manager.models import StockSequence, FeatureDict\n",
    "from asgiref.sync import sync_to_async"
   ],
   "id": "9d83a4deb1e2fd38",
   "outputs": [],
   "execution_count": null
  },
  {
   "metadata": {},
   "cell_type": "code",
   "source": [
    "@sync_to_async\n",
    "def get_first(index):\n",
    "    seqs = StockSequence.objects.filter(ticker=ticker, sequence_length = 20).order_by('start_timestamp')\n",
    "    print(len(seqs))\n",
    "    return seqs[index], FeatureDict.objects.first()"
   ],
   "id": "1549263f77735780",
   "outputs": [],
   "execution_count": null
  },
  {
   "metadata": {},
   "cell_type": "code",
   "source": [
    "async def main(index):\n",
    "    obj, diction = await get_first(index)\n",
    "    return obj, diction"
   ],
   "id": "5de50d7af327a75c",
   "outputs": [],
   "execution_count": null
  },
  {
   "metadata": {},
   "cell_type": "code",
   "source": [
    "index = 5\n",
    "first, diction = await main(index)"
   ],
   "id": "824f4dcb5a02800b",
   "outputs": [],
   "execution_count": null
  },
  {
   "metadata": {},
   "cell_type": "code",
   "source": [
    "print(sequences[index][\"ticker\"])\n",
    "print(sequences[index][\"start_timestamp\"])\n",
    "print(sequences[index][\"end_timestamp\"])"
   ],
   "id": "1939992584511e14",
   "outputs": [],
   "execution_count": null
  },
  {
   "metadata": {},
   "cell_type": "code",
   "source": "print(first.sequence_length)",
   "id": "8f6fe561ad37a3b5",
   "outputs": [],
   "execution_count": null
  },
  {
   "metadata": {},
   "cell_type": "code",
   "source": [
    "feature_dict = diction.feature_dict\n",
    "feature_dict = (sorted(feature_dict.items(), key=lambda item: item[1]))\n",
    "feature_dict = dict(feature_dict)"
   ],
   "id": "8fab14e5f11051d9",
   "outputs": [],
   "execution_count": null
  },
  {
   "metadata": {},
   "cell_type": "code",
   "source": "arr = np.array(first.sequence_data).T",
   "id": "c67be42c4e72b90",
   "outputs": [],
   "execution_count": null
  },
  {
   "metadata": {},
   "cell_type": "code",
   "source": [
    "print(first.ticker)\n",
    "print(first.start_timestamp)\n",
    "print(first.end_timestamp)"
   ],
   "id": "366933d57eb539d",
   "outputs": [],
   "execution_count": null
  },
  {
   "metadata": {},
   "cell_type": "code",
   "source": "arr[:,feature_dict['close+1']]",
   "id": "2162f8901a572f9b",
   "outputs": [],
   "execution_count": null
  },
  {
   "metadata": {},
   "cell_type": "code",
   "source": "",
   "id": "4b4372364b630b41",
   "outputs": [],
   "execution_count": null
  }
 ],
 "metadata": {
  "kernelspec": {
   "display_name": "Python 3",
   "language": "python",
   "name": "python3"
  },
  "language_info": {
   "codemirror_mode": {
    "name": "ipython",
    "version": 2
   },
   "file_extension": ".py",
   "mimetype": "text/x-python",
   "name": "python",
   "nbconvert_exporter": "python",
   "pygments_lexer": "ipython2",
   "version": "2.7.6"
  }
 },
 "nbformat": 4,
 "nbformat_minor": 5
}
