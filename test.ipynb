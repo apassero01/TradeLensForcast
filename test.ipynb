{
 "cells": [
  {
   "cell_type": "code",
   "execution_count": null,
   "metadata": {},
   "outputs": [],
   "source": [
    "import requests\n",
    "import json \n",
    "import sys\n",
    "import numpy as np\n",
    "from tslearn.preprocessing import TimeSeriesScalerMeanVariance\n",
    "from matplotlib import pyplot as plt\n",
    "from sklearn.model_selection import train_test_split\n",
    "import sklearn as sk\n",
    "import test_utils_models"
   ]
  },
  {
   "cell_type": "code",
   "execution_count": null,
   "metadata": {},
   "outputs": [],
   "source": [
    "url = 'http://localhost:8000/sequenceset_manager/get_sequence_data'\n",
    "\n",
    "features = ['pctChgclose', 'pctChgvolume', 'pctDiff+ema50_close', 'pctDiff+ema100_close',\n",
    "'pctDiff+ema200_close', 'pctDiff+smaVol10_volume', 'pctDiff+smaVol20_volume',\n",
    "'pctDiff+bb_high_close10', 'pctDiff+bb_low_close10', 'rsi10', 'rsi20',\n",
    "'opHi', 'opCl', 'pctChgClOp', 'macd_signal']\n",
    "\n",
    "target_features = ['pctChgclose+{}'.format(i) for i in range(1, 16) ]\n",
    "\n",
    "\n",
    "indices_seq = list(range(len(features + target_features)))\n",
    "\n",
    "feature_dict = {col: index for col, index in zip(features+target_features, indices_seq)}\n"
   ]
  },
  {
   "cell_type": "code",
   "execution_count": null,
   "metadata": {},
   "outputs": [],
   "source": [
    "tickers = ['AAPL', 'SPY', \"QQQ\"]"
   ]
  },
  {
   "cell_type": "code",
   "execution_count": null,
   "metadata": {},
   "outputs": [],
   "source": [
    "all_sequences = []\n",
    "for ticker in tickers:\n",
    "    params = {\n",
    "        'ticker': ticker,\n",
    "        'features': features + target_features,\n",
    "        'interval': '1d',\n",
    "    }\n",
    "\n",
    "    response = requests.get(url, params=params)\n",
    "    if response.status_code == 200:\n",
    "        try:\n",
    "            data = response.json()\n",
    "            all_sequences.append(data)\n",
    "        except json.JSONDecodeError as e:\n",
    "            print(f\"Failed to decode JSON: {e}\")\n",
    "            print(\"Response text:\", response.text)\n",
    "    else:\n",
    "        print(f\"Request failed with status code {response.status_code}\")"
   ]
  },
  {
   "cell_type": "code",
   "execution_count": null,
   "metadata": {},
   "outputs": [],
   "source": [
    "print(len(all_sequences))"
   ]
  },
  {
   "cell_type": "code",
   "execution_count": null,
   "metadata": {},
   "outputs": [],
   "source": [
    "def create_3d_array(stock_sequences):\n",
    "    # Create a 3D array to store the sequences\n",
    "    # The array will have the shape (num_sequences, sequence_length, num_features)\n",
    "    # stock sequences is a list of sequence_dicts where each sequence_dict is a dictionary \n",
    "    # we are extracting 'sliced_data' from each sequence_dict and creating 3d np array\n",
    "\n",
    "    num_sequences = len(stock_sequences)\n",
    "    sequence_length = len(stock_sequences[0]['sliced_data'])\n",
    "    num_features = len(features)\n",
    "    X = np.zeros((num_sequences, sequence_length, num_features))\n",
    "    y = np.zeros((num_sequences, len(target_features)))\n",
    "    for i, sequence_dict in enumerate(stock_sequences):\n",
    "        X_cols = [feature_dict[col] for col in features]\n",
    "        y_cols = [feature_dict[col] for col in target_features]\n",
    "\n",
    "        X[i, :, :] = np.array(sequence_dict['sliced_data'])[:, X_cols]\n",
    "        y[i, :] = np.array(sequence_dict['sliced_data'])[-1, y_cols]\n",
    "\n",
    "\n",
    "    return X, y"
   ]
  },
  {
   "cell_type": "code",
   "execution_count": null,
   "metadata": {},
   "outputs": [],
   "source": [
    "print(all_sequences[0][0])"
   ]
  },
  {
   "cell_type": "code",
   "execution_count": null,
   "metadata": {},
   "outputs": [],
   "source": [
    "def preprocess_multi_stock(all_sequences, test_size=0.2):\n",
    "    X_train = np.zeros((0, 0, 0))\n",
    "    X_test = np.zeros((0, 0, 0))\n",
    "    y_train = np.zeros((0, 0))\n",
    "    y_test = np.zeros((0, 0))\n",
    "    for sequences in all_sequences:\n",
    "        print(len(sequences))\n",
    "        X, y = create_3d_array(sequences)\n",
    "\n",
    "        for i in range(len(X)-1, 0, -1):\n",
    "            if np.isnan(y[i]).any():\n",
    "                X = np.delete(X, i, axis=0)\n",
    "                y = np.delete(y, i, axis=0)\n",
    "\n",
    "        X_train_cur, X_test_cur, y_train_cur, y_test_cur = train_test_split(X, y, test_size=test_size, random_state=42)\n",
    "        X_train = np.concatenate((X_train, X_train_cur), axis=0)\n",
    "        X_test = np.concatenate((X_test, X_test_cur), axis=0)\n",
    "        y_train = np.concatenate((y_train, y_train_cur), axis=0)\n",
    "        y_test = np.concatenate((y_test, y_test_cur), axis=0)\n",
    "    \n",
    "    return X_train, X_test, y_train, y_test\n"
   ]
  },
  {
   "cell_type": "code",
   "execution_count": null,
   "metadata": {},
   "outputs": [],
   "source": [
    "X_train, X_test, y_train, y_test = preprocess_multi_stock(all_sequences)"
   ]
  },
  {
   "cell_type": "code",
   "execution_count": null,
   "metadata": {},
   "outputs": [],
   "source": [
    "size_in_bytes = X.nbytes\n",
    "size_in_mb = size_in_bytes / 1024 / 1024\n",
    "size_in_gb = size_in_mb / 1024\n",
    "print(f\"Size of the array in memory: {size_in_gb:.2f} gb\")"
   ]
  },
  {
   "cell_type": "code",
   "execution_count": null,
   "metadata": {},
   "outputs": [],
   "source": [
    "X_train, X_test, y_train, y_test = train_test_split(X, y, test_size=0.2, random_state=42)"
   ]
  },
  {
   "cell_type": "code",
   "execution_count": null,
   "metadata": {},
   "outputs": [],
   "source": [
    "print(X_train.shape, y_train.shape, X_test.shape, y_test.shape)"
   ]
  },
  {
   "cell_type": "code",
   "execution_count": null,
   "metadata": {},
   "outputs": [],
   "source": [
    "scaler = TimeSeriesScalerMeanVariance(mu=0.0, std=1.0)\n",
    "X_train_scaled = scaler.fit_transform(X_train)\n",
    "X_test_scaled = scaler.transform(X_test)\n",
    "\n",
    "y_scaler = sk.preprocessing.StandardScaler()\n",
    "y_train_scaled = y_scaler.fit_transform(y_train)\n",
    "y_test_scaled = y_scaler.transform(y_test)"
   ]
  },
  {
   "cell_type": "code",
   "execution_count": null,
   "metadata": {},
   "outputs": [],
   "source": [
    "feature_values_test = X_test[:, :, 0]\n",
    "feature_values_test_scaled = X_test_scaled[:, :, 0]\n",
    "\n",
    "flattened_values_test = feature_values_test.flatten()\n",
    "flattened_values_test_scaled = feature_values_test_scaled.flatten()\n",
    "\n",
    "# Create side-by-side plots\n",
    "fig, axes = plt.subplots(1, 2, figsize=(12, 5))  # 1 row, 2 columns\n",
    "\n",
    "# Plot the original feature values\n",
    "axes[0].hist(flattened_values_test, bins=50, alpha=0.7, color='blue', edgecolor='black')\n",
    "axes[0].set_title('Original Feature Values')\n",
    "axes[0].set_xlabel('Feature Value')\n",
    "axes[0].set_ylabel('Frequency')\n",
    "\n",
    "# Plot the scaled feature values\n",
    "axes[1].hist(flattened_values_test_scaled, bins=50, alpha=0.7, color='green', edgecolor='black')\n",
    "axes[1].set_title('Scaled Feature Values')\n",
    "axes[1].set_xlabel('Feature Value')\n",
    "axes[1].set_ylabel('Frequency')\n",
    "\n",
    "# Adjust layout and show plot\n",
    "plt.tight_layout()\n",
    "plt.show()"
   ]
  },
  {
   "cell_type": "code",
   "execution_count": null,
   "metadata": {},
   "outputs": [],
   "source": [
    "y_train_filtered = np.expand_dims(y_train_scaled, axis=-1)\n",
    "y_test_filtered = np.expand_dims(y_test_scaled, axis=-1)"
   ]
  },
  {
   "cell_type": "code",
   "execution_count": null,
   "metadata": {},
   "outputs": [],
   "source": [
    "model "
   ]
  }
 ],
 "metadata": {
  "kernelspec": {
   "display_name": "TradeLens",
   "language": "python",
   "name": "python3"
  },
  "language_info": {
   "codemirror_mode": {
    "name": "ipython",
    "version": 3
   },
   "file_extension": ".py",
   "mimetype": "text/x-python",
   "name": "python",
   "nbconvert_exporter": "python",
   "pygments_lexer": "ipython3",
   "version": "3.12.4"
  }
 },
 "nbformat": 4,
 "nbformat_minor": 2
}
