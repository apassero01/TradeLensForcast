{
 "cells": [
  {
   "cell_type": "code",
   "id": "initial_id",
   "metadata": {
    "collapsed": true,
    "ExecuteTime": {
     "end_time": "2024-09-28T23:32:40.885129Z",
     "start_time": "2024-09-28T23:32:40.881137Z"
    }
   },
   "source": [
    "import requests\n",
    "import json\n",
    "import sys\n",
    "import numpy as np\n",
    "from tslearn.preprocessing import TimeSeriesScalerMeanVariance\n",
    "from matplotlib import pyplot as plt\n",
    "from sklearn.model_selection import train_test_split\n",
    "import sklearn as sk\n",
    "import torch\n",
    "import test_utils_models\n",
    "from importlib import reload\n",
    "from torch.utils.data import DataLoader, TensorDataset\n",
    "import Transformer\n",
    "import TransformerV3\n",
    "import TransformerServiceV2\n",
    "import torch.optim as optim\n",
    "import torch.nn as nn\n",
    "import test_utils\n",
    "import DataVisualizations\n",
    "import Utilities"
   ],
   "outputs": [],
   "execution_count": 36
  },
  {
   "metadata": {
    "ExecuteTime": {
     "end_time": "2024-09-28T23:30:30.116520Z",
     "start_time": "2024-09-28T23:30:30.114183Z"
    }
   },
   "cell_type": "code",
   "source": [
    "url = 'http://localhost:8000/sequenceset_manager/get_sequence_data'\n",
    "\n",
    "# features = ['pctChgclose', 'pctChgvolume', 'opHi', 'opCl','hiCl','loCl','opLo',\"pctDiff+ema5_close\", \"pctDiff+ema10_close\", \"pctDiff+ema20_close\",'pctDiff+ema50_close', 'pctDiff+ema100_close',\n",
    "# 'pctDiff+ema200_close','pctDiff+bb_high_close10', 'pctDiff+bb_low_close10', 'pctDiff+smaVol10_volume', 'pctDiff+smaVol20_volume', 'pctChgClOp', 'macd_signal','bb_indicator20',\"bb_indicator50\",\n",
    "#             ]\n",
    "# struct_features = ['open', 'high', 'low', 'close', 'ema20', 'ema50', 'ema100']\n",
    "# struct_features = ['close']\n",
    "struct_features = []\n",
    "# features = ['pctChgclose','pctChgvolume','opHi', 'opCl','hiCl','loCl','opLo']\n",
    "# features = ['pctChgclose']\n",
    "features = ['open', 'high', 'low', 'close', 'ema20', 'ema50', 'ema100']\n",
    "# target_features = ['pctChgclose+{}'.format(i) for i in range(1, 3) ]\n",
    "target_features = ['close+{}'.format(i) for i in range(1, 15) ]\n",
    "# target_features = ['cumPctChg+{}'.format(i) for i in range(1,11) ]\n",
    "\n",
    "indices_seq = list(range(len(features + struct_features + target_features)))\n",
    "\n",
    "feature_dict = {col: index for col, index in zip(features+struct_features + target_features, indices_seq)}\n"
   ],
   "id": "57ac927fda1812",
   "outputs": [],
   "execution_count": 4
  },
  {
   "metadata": {
    "ExecuteTime": {
     "end_time": "2024-09-28T23:30:31.589922Z",
     "start_time": "2024-09-28T23:30:31.588184Z"
    }
   },
   "cell_type": "code",
   "source": "print(feature_dict)",
   "id": "7757611afbc4bb60",
   "outputs": [
    {
     "name": "stdout",
     "output_type": "stream",
     "text": [
      "{'open': 0, 'high': 1, 'low': 2, 'close': 3, 'ema20': 4, 'ema50': 5, 'ema100': 6, 'close+1': 7, 'close+2': 8, 'close+3': 9, 'close+4': 10, 'close+5': 11, 'close+6': 12, 'close+7': 13, 'close+8': 14, 'close+9': 15, 'close+10': 16, 'close+11': 17, 'close+12': 18, 'close+13': 19, 'close+14': 20}\n"
     ]
    }
   ],
   "execution_count": 5
  },
  {
   "metadata": {
    "ExecuteTime": {
     "end_time": "2024-09-28T23:30:46.639797Z",
     "start_time": "2024-09-28T23:30:45.172526Z"
    }
   },
   "cell_type": "code",
   "source": [
    "# tickers = ['MSFT', 'AAPL', 'AMZN','QQQ','SPY','F', 'TSLA', \"BAC\", \"LLY\", \"PEP\" ]\n",
    "tickers = ['AAPL', 'MSFT']\n",
    "# tickers = [\"AAPL\", \"SPY\", \"QQQ\", \"XOM\", \"MSFT\", \"AMZN\", \"BB\", 'F', 'TSLA', 'GE',\n",
    "#            \"JPM\", \"BAC\", \"LLY\", \"NKE\", \"WMT\", \"PEP\"]\n",
    "sequence_lengths = [20]\n",
    "all_sequences = []\n",
    "\n",
    "all_params = []\n",
    "\n",
    "for ticker in tickers:\n",
    "    for sequence_length in sequence_lengths:\n",
    "        all_params.append({\n",
    "            'ticker': ticker,\n",
    "            'features': features + struct_features + target_features,\n",
    "            'interval': '1d',\n",
    "            'start_date': '2018-01-01',\n",
    "            'sequence_length': sequence_length\n",
    "        })\n",
    "for params in all_params:\n",
    "\n",
    "    response = requests.get(url, params=params)\n",
    "    if response.status_code == 200:\n",
    "        try:\n",
    "            data = response.json()\n",
    "            all_sequences.append(data)\n",
    "        except json.JSONDecodeError as e:\n",
    "            print(f\"Failed to decode JSON: {e}\")\n",
    "            print(\"Response text:\", response.text)\n",
    "    else:\n",
    "        print(f\"Request failed with status code {response.status_code}\")"
   ],
   "id": "559d09e2c0c4af5c",
   "outputs": [],
   "execution_count": 7
  },
  {
   "metadata": {
    "ExecuteTime": {
     "end_time": "2024-09-28T23:30:47.334854Z",
     "start_time": "2024-09-28T23:30:47.333243Z"
    }
   },
   "cell_type": "code",
   "source": "",
   "id": "ba0a61a118ebc476",
   "outputs": [],
   "execution_count": null
  },
  {
   "metadata": {
    "ExecuteTime": {
     "end_time": "2024-09-28T23:30:47.507342Z",
     "start_time": "2024-09-28T23:30:47.505748Z"
    }
   },
   "cell_type": "code",
   "source": "print(len(all_sequences))",
   "id": "85779c2cad87264f",
   "outputs": [
    {
     "name": "stdout",
     "output_type": "stream",
     "text": [
      "2\n"
     ]
    }
   ],
   "execution_count": 8
  },
  {
   "metadata": {
    "ExecuteTime": {
     "end_time": "2024-09-28T23:30:47.655917Z",
     "start_time": "2024-09-28T23:30:47.654223Z"
    }
   },
   "cell_type": "code",
   "source": [
    "print(all_sequences[-1][-500]['end_timestamp'])\n",
    "print(all_sequences[-1][-500]['start_timestamp'])\n"
   ],
   "id": "cd73de3b4d9a5b9a",
   "outputs": [
    {
     "name": "stdout",
     "output_type": "stream",
     "text": [
      "2022-09-19T00:00:00Z\n",
      "2022-08-22T00:00:00Z\n"
     ]
    }
   ],
   "execution_count": 9
  },
  {
   "metadata": {
    "ExecuteTime": {
     "end_time": "2024-09-28T23:30:47.813376Z",
     "start_time": "2024-09-28T23:30:47.811609Z"
    }
   },
   "cell_type": "code",
   "source": [
    "target_feauture_index = [feature_dict[col] for col in target_features]\n",
    "for index in target_feauture_index:\n",
    "    print(all_sequences[-1][-500]['sliced_data'][-1][index])"
   ],
   "id": "1e7e9ae6a8a246c6",
   "outputs": [
    {
     "name": "stdout",
     "output_type": "stream",
     "text": [
      "242.4499969482422\n",
      "238.9499969482422\n",
      "240.97999572753906\n",
      "237.9199981689453\n",
      "237.4499969482422\n",
      "236.41000366210938\n",
      "241.07000732421875\n",
      "237.5\n",
      "232.89999389648438\n",
      "240.74000549316406\n",
      "248.8800048828125\n",
      "249.1999969482422\n",
      "246.7899932861328\n",
      "234.24000549316406\n"
     ]
    }
   ],
   "execution_count": 10
  },
  {
   "metadata": {
    "ExecuteTime": {
     "end_time": "2024-09-28T23:30:47.956146Z",
     "start_time": "2024-09-28T23:30:47.953795Z"
    }
   },
   "cell_type": "code",
   "source": [
    "def create_3d_array(stock_sequences, max_len_seq):\n",
    "    # Create a 3D array to store the sequences\n",
    "    # The array will have the shape (num_sequences, sequence_length, num_features)\n",
    "    # stock sequences is a list of sequence_dicts where each sequence_dict is a dictionary\n",
    "    # we are extracting 'sliced_data' from each sequence_dict and creating 3d np array\n",
    "\n",
    "    num_features = len(features) + len(struct_features)\n",
    "\n",
    "    sequence_steps = len(stock_sequences[0]['sliced_data'])\n",
    "\n",
    "    num_sequences = len(stock_sequences)\n",
    "    X = np.zeros((num_sequences, sequence_steps, num_features))\n",
    "    y = np.zeros((num_sequences, len(target_features)))\n",
    "\n",
    "    indices_map = {}\n",
    "    cur_index = 0\n",
    "    for i, sequence_dict in enumerate(stock_sequences):\n",
    "        X_cols = [feature_dict[col] for col in features + struct_features]\n",
    "        y_cols = [feature_dict[col] for col in target_features]\n",
    "\n",
    "        X[i, :, :] = np.array(sequence_dict['sliced_data'])[:, X_cols]\n",
    "        X_padded = np.zeros((num_sequences, max_len_seq, num_features))\n",
    "        X_padded[:, :sequence_steps, :] = X\n",
    "        y[i, :] = np.array(sequence_dict['sliced_data'])[-1, y_cols]\n",
    "\n",
    "\n",
    "\n",
    "\n",
    "    return X_padded, y"
   ],
   "id": "87626cdad6efb7bc",
   "outputs": [],
   "execution_count": 11
  },
  {
   "metadata": {
    "ExecuteTime": {
     "end_time": "2024-09-28T23:30:48.176940Z",
     "start_time": "2024-09-28T23:30:48.173702Z"
    }
   },
   "cell_type": "code",
   "source": [
    "def preprocess_multi_stock(all_sequences, max_seq_length, test_size=0.1):\n",
    "    X_train = np.zeros((0, 0, 0))\n",
    "    X_test = np.zeros((0, 0, 0))\n",
    "    y_train = np.zeros((0, 0))\n",
    "    y_test = np.zeros((0, 0))\n",
    "    \n",
    "    test_seq_objs = []\n",
    "    train_seq_objs = []\n",
    "    for sequences in all_sequences:\n",
    "        print(len(sequences))\n",
    "        X, y = create_3d_array(sequences,max_seq_length)\n",
    "        print(X.shape)\n",
    "\n",
    "        for i in range(len(X)-1, 0, -1):\n",
    "            if np.isnan(y[i]).any():\n",
    "                X = np.delete(X, i, axis=0)\n",
    "                y = np.delete(y, i, axis=0)\n",
    "\n",
    "        X_train_cur, X_test_cur, y_train_cur, y_test_cur = train_test_split(X, y, test_size=test_size, shuffle=False)\n",
    "        \n",
    "        train_seq_objs += [sequences[i] for i in range(len(X_train_cur))]\n",
    "        test_seq_objs += [sequences[i] for i in range(len(X_train_cur), len(X_train_cur)+len(X_test_cur))]\n",
    "\n",
    "        # scaler = TimeSeriesScalerMeanVariance(mu=0., std=1.)\n",
    "        # X_train_cur = scaler.fit_transform(X_train_cur)\n",
    "        # X_test_cur = scaler.transform(X_test_cur)\n",
    "        # \n",
    "        y_scaler = sk.preprocessing.StandardScaler()\n",
    "        # y_train_cur = y_scaler.fit_transform(y_train_cur)\n",
    "        # y_test_cur = y_scaler.transform(y_test_cur)\n",
    "        \n",
    "        # X_train_cur = X_train_cur[0:-25, :, :]\n",
    "        # y_train_cur = y_train_cur[0:-25, :]\n",
    "        # X_test_cur = X_test_cur[0:-25, :, :]\n",
    "        # y_test_cur = y_test_cur[0:-25, :]\n",
    "\n",
    "\n",
    "        if X_train.shape[0] == 0:\n",
    "            X_train = X_train_cur\n",
    "            X_test = X_test_cur\n",
    "            y_train = y_train_cur\n",
    "            y_test = y_test_cur\n",
    "        else:\n",
    "            X_train = np.concatenate((X_train, X_train_cur), axis=0)\n",
    "            X_test = np.concatenate((X_test, X_test_cur), axis=0)\n",
    "            y_train = np.concatenate((y_train, y_train_cur), axis=0)\n",
    "            y_test = np.concatenate((y_test, y_test_cur), axis=0)\n",
    "\n",
    "    return X_train, X_test, y_train, y_test, y_scaler, train_seq_objs, test_seq_objs\n"
   ],
   "id": "3f1357d2ce14d113",
   "outputs": [],
   "execution_count": 12
  },
  {
   "metadata": {
    "ExecuteTime": {
     "end_time": "2024-09-28T23:30:48.979788Z",
     "start_time": "2024-09-28T23:30:48.579738Z"
    }
   },
   "cell_type": "code",
   "source": "X_train_whole, X_test, y_train_whole, y_test, y_scaler,train_seq_objs, test_seq_objs = preprocess_multi_stock(all_sequences, max(sequence_lengths))",
   "id": "89aebd90a51c9e85",
   "outputs": [
    {
     "name": "stdout",
     "output_type": "stream",
     "text": [
      "1667\n",
      "(1667, 20, 7)\n",
      "1667\n",
      "(1667, 20, 7)\n"
     ]
    }
   ],
   "execution_count": 13
  },
  {
   "metadata": {
    "ExecuteTime": {
     "end_time": "2024-09-28T23:30:49.137727Z",
     "start_time": "2024-09-28T23:30:49.135632Z"
    }
   },
   "cell_type": "code",
   "source": [
    "def sample_training_data(X_train, y_train, percentage=0.3):\n",
    "    # Get the number of samples\n",
    "    num_samples = X_train.shape[0]\n",
    "\n",
    "    # Calculate the number of samples for 30%\n",
    "    num_samples_to_sample = int(percentage * num_samples)\n",
    "\n",
    "    # Randomly sample indices (without replacement)\n",
    "    sampled_indices = np.random.choice(num_samples, num_samples_to_sample, replace=False)\n",
    "\n",
    "    # Extract the same indices from both X_train and y_train\n",
    "    X_sampled = X_train[sampled_indices]\n",
    "    y_sampled = y_train[sampled_indices]\n",
    "\n",
    "    return X_sampled, y_sampled"
   ],
   "id": "67ca728d11e35920",
   "outputs": [],
   "execution_count": 14
  },
  {
   "metadata": {
    "ExecuteTime": {
     "end_time": "2024-09-28T23:30:49.468478Z",
     "start_time": "2024-09-28T23:30:49.465883Z"
    }
   },
   "cell_type": "code",
   "source": [
    "## sample random 30% of the sequences for training set and get rid of the rest\n",
    "X_train, y_train = sample_training_data(X_train_whole, y_train_whole, percentage=1)"
   ],
   "id": "1e0a4a859000f40c",
   "outputs": [],
   "execution_count": 15
  },
  {
   "metadata": {
    "ExecuteTime": {
     "end_time": "2024-09-28T23:30:49.737856Z",
     "start_time": "2024-09-28T23:30:49.736042Z"
    }
   },
   "cell_type": "code",
   "source": [
    "\n",
    "\n",
    "print(X_train.shape, X_test.shape, y_train.shape, y_test.shape)"
   ],
   "id": "d10807c09be62fb9",
   "outputs": [
    {
     "name": "stdout",
     "output_type": "stream",
     "text": [
      "(2974, 20, 7) (332, 20, 7) (2974, 14) (332, 14)\n"
     ]
    }
   ],
   "execution_count": 16
  },
  {
   "metadata": {
    "ExecuteTime": {
     "end_time": "2024-09-28T23:30:49.912163Z",
     "start_time": "2024-09-28T23:30:49.910350Z"
    }
   },
   "cell_type": "code",
   "source": "print(feature_dict)",
   "id": "38a30c1275afd314",
   "outputs": [
    {
     "name": "stdout",
     "output_type": "stream",
     "text": [
      "{'open': 0, 'high': 1, 'low': 2, 'close': 3, 'ema20': 4, 'ema50': 5, 'ema100': 6, 'close+1': 7, 'close+2': 8, 'close+3': 9, 'close+4': 10, 'close+5': 11, 'close+6': 12, 'close+7': 13, 'close+8': 14, 'close+9': 15, 'close+10': 16, 'close+11': 17, 'close+12': 18, 'close+13': 19, 'close+14': 20}\n"
     ]
    }
   ],
   "execution_count": 17
  },
  {
   "metadata": {
    "ExecuteTime": {
     "end_time": "2024-09-28T23:30:50.348378Z",
     "start_time": "2024-09-28T23:30:50.346259Z"
    }
   },
   "cell_type": "code",
   "source": [
    "if len(struct_features) > 0:\n",
    "    X_train_scaled = Utilities.scale_sequence_by_group(struct_features, feature_dict, X_train)\n",
    "    X_test_scaled = Utilities.scale_sequence_by_group(struct_features, feature_dict, X_test)\n",
    "else:\n",
    "    X_train_scaled = X_train\n",
    "    X_test_scaled = X_test"
   ],
   "id": "b587e62543e97732",
   "outputs": [],
   "execution_count": 18
  },
  {
   "metadata": {
    "ExecuteTime": {
     "end_time": "2024-09-28T23:30:50.535261Z",
     "start_time": "2024-09-28T23:30:50.533411Z"
    }
   },
   "cell_type": "code",
   "source": [
    "x_indices = [feature_dict[col] for col in features]\n",
    "\n",
    "# scaler = TimeSeriesScalerMeanVariance(mu=0., std=1.)\n",
    "# X_train_scaled[:,:,x_indices] = scaler.fit_transform(X_train[:,:,x_indices])\n",
    "# X_test_scaled[:,:,x_indices] = scaler.transform(X_test[:,:,x_indices])\n",
    "# \n",
    "# y_train_scaled = y_scaler.fit_transform(y_train)\n",
    "# y_test_scaled = y_scaler.transform(y_test)\n",
    "X_train_scaled = X_train\n",
    "X_test_scaled = X_test\n",
    "y_train_scaled = y_train\n",
    "y_test_scaled = y_test"
   ],
   "id": "f70fc92c085d71dd",
   "outputs": [],
   "execution_count": 19
  },
  {
   "metadata": {
    "ExecuteTime": {
     "end_time": "2024-09-28T23:30:50.898854Z",
     "start_time": "2024-09-28T23:30:50.896289Z"
    }
   },
   "cell_type": "code",
   "source": [
    "y_train_scaled = np.expand_dims(y_train_scaled, axis=2)\n",
    "y_test_scaled = np.expand_dims(y_test_scaled, axis=2)\n",
    "print(y_train_scaled.shape, y_test_scaled.shape)"
   ],
   "id": "b62d31936fa9a093",
   "outputs": [
    {
     "name": "stdout",
     "output_type": "stream",
     "text": [
      "(2974, 14, 1) (332, 14, 1)\n"
     ]
    }
   ],
   "execution_count": 20
  },
  {
   "metadata": {
    "ExecuteTime": {
     "end_time": "2024-09-28T23:30:51.039430Z",
     "start_time": "2024-09-28T23:30:51.037841Z"
    }
   },
   "cell_type": "code",
   "source": "print(X_train_scaled.shape, X_test_scaled.shape)",
   "id": "3137e3d5d343227c",
   "outputs": [
    {
     "name": "stdout",
     "output_type": "stream",
     "text": [
      "(2974, 20, 7) (332, 20, 7)\n"
     ]
    }
   ],
   "execution_count": 21
  },
  {
   "metadata": {
    "ExecuteTime": {
     "end_time": "2024-09-28T23:30:51.745758Z",
     "start_time": "2024-09-28T23:30:51.743878Z"
    }
   },
   "cell_type": "code",
   "source": "print(X_train_scaled[0,:,-1])",
   "id": "974480e985995b9c",
   "outputs": [
    {
     "name": "stdout",
     "output_type": "stream",
     "text": [
      "[52.57562023 52.69927131 52.82606794 52.97065072 53.10964777 53.26183293\n",
      " 53.41298476 53.57599497 53.74800499 53.88809397 54.0252604  54.18693838\n",
      " 54.38036538 54.57827894 54.77044175 54.95934385 55.1553469  55.35098367\n",
      " 55.55294445 55.74971779]\n"
     ]
    }
   ],
   "execution_count": 22
  },
  {
   "metadata": {
    "ExecuteTime": {
     "end_time": "2024-09-28T23:30:52.921673Z",
     "start_time": "2024-09-28T23:30:52.920158Z"
    }
   },
   "cell_type": "code",
   "source": "# DataVisualizations.plot_feature_histograms(X_test_scaled, features + struct_features, feature_dict)\n",
   "id": "e6fa9d9c9a8a3131",
   "outputs": [],
   "execution_count": 23
  },
  {
   "metadata": {
    "ExecuteTime": {
     "end_time": "2024-09-28T23:30:53.458918Z",
     "start_time": "2024-09-28T23:30:53.457324Z"
    }
   },
   "cell_type": "code",
   "source": "# DataVisualizations.plot_y_feature_histograms(y_train_scaled, target_features)",
   "id": "b5cfafa2de90b207",
   "outputs": [],
   "execution_count": 24
  },
  {
   "metadata": {
    "ExecuteTime": {
     "end_time": "2024-09-28T23:30:53.900123Z",
     "start_time": "2024-09-28T23:30:53.898721Z"
    }
   },
   "cell_type": "code",
   "source": "# DataVisualizations.plot_y_feature_histograms(y_test_scaled, target_features)",
   "id": "e31fa8088e8aa850",
   "outputs": [],
   "execution_count": 25
  },
  {
   "metadata": {
    "ExecuteTime": {
     "end_time": "2024-09-28T23:30:54.406899Z",
     "start_time": "2024-09-28T23:30:54.405539Z"
    }
   },
   "cell_type": "code",
   "source": "# DataVisualizations.plot_y_feature_histograms(np.expand_dims(y_scaler.inverse_transform(y_train_scaled.squeeze()),-1), target_features)\n",
   "id": "d362a2e3b3e18d64",
   "outputs": [],
   "execution_count": 26
  },
  {
   "metadata": {
    "ExecuteTime": {
     "end_time": "2024-09-28T23:30:54.859831Z",
     "start_time": "2024-09-28T23:30:54.858424Z"
    }
   },
   "cell_type": "code",
   "source": "# DataVisualizations.plot_y_feature_histograms(np.expand_dims(y_train,-1), target_features)\n",
   "id": "889eb6dddffc5a62",
   "outputs": [],
   "execution_count": 27
  },
  {
   "metadata": {
    "ExecuteTime": {
     "end_time": "2024-09-28T23:30:55.248312Z",
     "start_time": "2024-09-28T23:30:55.245120Z"
    }
   },
   "cell_type": "code",
   "source": "reload(DataVisualizations)",
   "id": "be9b4063afef1868",
   "outputs": [
    {
     "data": {
      "text/plain": [
       "<module 'DataVisualizations' from '/Users/andrewpassero/Documents/TradeLensForcast/DataVisualizations.py'>"
      ]
     },
     "execution_count": 28,
     "metadata": {},
     "output_type": "execute_result"
    }
   ],
   "execution_count": 28
  },
  {
   "metadata": {
    "ExecuteTime": {
     "end_time": "2024-09-28T23:30:55.802040Z",
     "start_time": "2024-09-28T23:30:55.771325Z"
    }
   },
   "cell_type": "code",
   "source": [
    "if not torch.backends.mps.is_available():\n",
    "    if not torch.backends.mps.is_built():\n",
    "        print(\"MPS not available because the current PyTorch install was not \"\n",
    "              \"built with MPS enabled.\")\n",
    "    else:\n",
    "        print(\"MPS not available because the current MacOS version is not 12.3+ \"\n",
    "              \"and/or you do not have an MPS-enabled device on this machine.\")\n",
    "\n",
    "else:\n",
    "    print(\"MPS is available. Setting as default device.\")\n",
    "    device = torch.device(\"mps\")\n",
    "    torch.set_default_device(device)\n",
    "\n",
    "print(f\"Using device: {device}\")\n",
    "batch_size = 64\n",
    "\n",
    "# Convert data to tensors and move them to the appropriate device\n",
    "print(X_train_scaled.shape)\n",
    "print(y_train_scaled.shape)\n",
    "# X_train_scaled_concat = np.concatenate((X_train_scaled, y_train_scaled), axis=-1)\n",
    "# print(X_train_scaled_concat.shape)\n",
    "# X_test_scaled_concat = np.concatenate((X_test_scaled, y_test_scaled), axis=-1)\n",
    "X_train_tensor = torch.tensor(X_train_scaled, dtype=torch.float32).to(device)\n",
    "X_test_tensor = torch.tensor(X_test_scaled, dtype=torch.float32).to(device)\n",
    "y_train_tensor = torch.tensor(y_train_scaled, dtype=torch.float32).to(device)\n",
    "y_test_tensor = torch.tensor(y_test_scaled, dtype=torch.float32).to(device)\n",
    "\n",
    "print(X_train_tensor.device, X_test_tensor.device, y_train_tensor.device, y_test_tensor.device)\n",
    "\n",
    "# Create TensorDataset and DataLoader\n",
    "train_dataset = TensorDataset(X_train_tensor, y_train_tensor)\n",
    "test_dataset = TensorDataset(X_test_tensor, y_test_tensor)\n",
    "\n",
    "generator = torch.Generator(device=device)\n",
    "\n",
    "train_dataloader = DataLoader(train_dataset, batch_size=batch_size, shuffle=True, generator=generator)\n",
    "test_dataloader = DataLoader(test_dataset, batch_size=batch_size, shuffle=False)"
   ],
   "id": "f6ca04281a671546",
   "outputs": [
    {
     "name": "stdout",
     "output_type": "stream",
     "text": [
      "MPS is available. Setting as default device.\n",
      "Using device: mps\n",
      "(2974, 20, 7)\n",
      "(2974, 14, 1)\n",
      "mps:0 mps:0 mps:0 mps:0\n"
     ]
    }
   ],
   "execution_count": 29
  },
  {
   "metadata": {
    "ExecuteTime": {
     "end_time": "2024-09-28T23:30:56.178947Z",
     "start_time": "2024-09-28T23:30:56.177137Z"
    }
   },
   "cell_type": "code",
   "source": "print(X_train_tensor.shape, y_train_tensor.shape, X_test_tensor.shape, y_test_tensor.shape)",
   "id": "6d0644c05552d008",
   "outputs": [
    {
     "name": "stdout",
     "output_type": "stream",
     "text": [
      "torch.Size([2974, 20, 7]) torch.Size([2974, 14, 1]) torch.Size([332, 20, 7]) torch.Size([332, 14, 1])\n"
     ]
    }
   ],
   "execution_count": 30
  },
  {
   "metadata": {
    "ExecuteTime": {
     "end_time": "2024-09-28T23:39:21.854278Z",
     "start_time": "2024-09-28T23:39:21.845848Z"
    }
   },
   "cell_type": "code",
   "source": [
    "num_layers = 1\n",
    "d_model = 64\n",
    "num_heads = 2\n",
    "d_ff = 128\n",
    "input_dim = X_train_tensor.shape[2]  # Number of features in X_train\n",
    "output_dim = y_train.shape[1]  # Since y_train has shape (batch, output_steps, 1)\n",
    "\n",
    "# Initialize the Transformer models\n",
    "model = TransformerV3.Transformer(\n",
    "    num_layers=num_layers,\n",
    "    d_model=d_model,\n",
    "    num_heads=num_heads,\n",
    "    d_ff=d_ff,\n",
    "    encoder_input_dim=input_dim,\n",
    "    decoder_input_dim=output_dim,\n",
    "    dropout=.2\n",
    ").to(device)\n",
    "print(next(model.parameters()).device)\n",
    "\n",
    "def count_parameters(model):\n",
    "    return sum(p.numel() for p in model.parameters())\n",
    "\n",
    "print(f'The model has {count_parameters(model):,} trainable parameters')"
   ],
   "id": "79a8d5461c27c4f7",
   "outputs": [
    {
     "name": "stdout",
     "output_type": "stream",
     "text": [
      "Initializing TransformerEncoder with 1 layers\n",
      "PositionalEncoding initialized with shape: torch.Size([1, 200, 64])\n",
      "TransformerEncoder initialized with 1 layers\n",
      "Transformer initialized with 1 layers\n",
      "mps:0\n",
      "The model has 84,418 trainable parameters\n"
     ]
    }
   ],
   "execution_count": 56
  },
  {
   "metadata": {
    "ExecuteTime": {
     "end_time": "2024-09-29T00:44:44.147069Z",
     "start_time": "2024-09-29T00:44:44.144998Z"
    }
   },
   "cell_type": "code",
   "source": [
    "optimizer = optim.Adam(model.parameters(), lr=0.001)\n",
    "# base_optimizer = optim.Adam\n",
    "# optimizer = torch.optim.SGD(models.parameters(), lr=1e-3, momentum=0.9)\n",
    "\n",
    "# optimizer = Transformer.SAM(models.parameters(), base_optimizer, rho=0.3, lr=0.01)\n",
    "# criterion = nn.MSELoss()\n",
    "# get mae criterian \n",
    "# criterion = nn.L1Loss()\n",
    "# criterion = nn.HuberLoss(delta=1.0)\n",
    "criterion = Transformer.gaussian_nll_loss\n",
    "# Initialize the Trainer with the device\n",
    "trainer = TransformerServiceV2.Trainer(\n",
    "    model=model,\n",
    "    optimizer=optimizer,\n",
    "    criterion=criterion,\n",
    "    device=device,\n",
    "    max_length=14,\n",
    "    start_token_value=-999 # Start token value, adjust if necessary\n",
    ")"
   ],
   "id": "b33c5cbe9afb9401",
   "outputs": [],
   "execution_count": 209
  },
  {
   "metadata": {
    "ExecuteTime": {
     "end_time": "2024-09-29T00:44:45.104004Z",
     "start_time": "2024-09-29T00:44:45.098297Z"
    }
   },
   "cell_type": "code",
   "source": [
    "from importlib import reload\n",
    "reload(Transformer)\n",
    "reload(TransformerServiceV2)\n",
    "reload(TransformerV3)"
   ],
   "id": "357135dcee39cbb1",
   "outputs": [
    {
     "data": {
      "text/plain": [
       "<module 'TransformerV3' from '/Users/andrewpassero/Documents/TradeLensForcast/TransformerV3.py'>"
      ]
     },
     "execution_count": 210,
     "metadata": {},
     "output_type": "execute_result"
    }
   ],
   "execution_count": 210
  },
  {
   "metadata": {
    "ExecuteTime": {
     "end_time": "2024-09-29T00:49:47.882523Z",
     "start_time": "2024-09-29T00:44:45.171189Z"
    }
   },
   "cell_type": "code",
   "source": [
    "epochs = 2000\n",
    "\n",
    "# Train the models\n",
    "\n",
    "trainer.fit(train_dataloader, test_dataloader, epochs=epochs, clip_value=1)"
   ],
   "id": "db634b78cdd27d7",
   "outputs": [
    {
     "name": "stdout",
     "output_type": "stream",
     "text": [
      "Epoch 1 | Train Loss: 3.319 | Val Loss: 4.767\n",
      "Epoch 2 | Train Loss: 3.276 | Val Loss: 4.888\n",
      "Epoch 3 | Train Loss: 3.273 | Val Loss: 5.960\n",
      "Epoch 4 | Train Loss: 3.274 | Val Loss: 5.497\n",
      "Epoch 5 | Train Loss: 3.246 | Val Loss: 5.635\n",
      "Epoch 6 | Train Loss: 3.274 | Val Loss: 5.311\n",
      "Epoch 7 | Train Loss: 3.266 | Val Loss: 4.770\n",
      "Epoch 8 | Train Loss: 3.308 | Val Loss: 5.152\n",
      "Epoch 9 | Train Loss: 3.273 | Val Loss: 5.779\n",
      "Epoch 10 | Train Loss: 3.351 | Val Loss: 7.557\n",
      "Epoch 11 | Train Loss: 3.263 | Val Loss: 4.945\n",
      "Epoch 12 | Train Loss: 3.241 | Val Loss: 6.170\n",
      "Epoch 13 | Train Loss: 3.259 | Val Loss: 4.733\n",
      "Epoch 14 | Train Loss: 3.239 | Val Loss: 5.028\n",
      "Epoch 15 | Train Loss: 3.244 | Val Loss: 5.930\n",
      "Epoch 16 | Train Loss: 3.291 | Val Loss: 5.432\n",
      "Epoch 17 | Train Loss: 3.261 | Val Loss: 6.032\n",
      "Epoch 18 | Train Loss: 3.234 | Val Loss: 4.815\n",
      "Epoch 19 | Train Loss: 3.262 | Val Loss: 4.943\n",
      "Epoch 20 | Train Loss: 3.267 | Val Loss: 4.977\n",
      "Epoch 21 | Train Loss: 3.254 | Val Loss: 6.004\n",
      "Epoch 22 | Train Loss: 3.240 | Val Loss: 4.962\n",
      "Epoch 23 | Train Loss: 3.297 | Val Loss: 6.243\n",
      "Epoch 24 | Train Loss: 3.264 | Val Loss: 4.960\n",
      "Epoch 25 | Train Loss: 3.255 | Val Loss: 4.962\n",
      "Epoch 26 | Train Loss: 3.257 | Val Loss: 4.871\n",
      "Epoch 27 | Train Loss: 3.252 | Val Loss: 5.723\n",
      "Epoch 28 | Train Loss: 3.266 | Val Loss: 5.712\n",
      "Epoch 29 | Train Loss: 3.260 | Val Loss: 5.262\n",
      "Epoch 30 | Train Loss: 3.279 | Val Loss: 6.443\n",
      "Epoch 31 | Train Loss: 3.259 | Val Loss: 5.443\n",
      "Epoch 32 | Train Loss: 3.245 | Val Loss: 5.911\n",
      "Epoch 33 | Train Loss: 3.240 | Val Loss: 4.920\n",
      "Epoch 34 | Train Loss: 3.275 | Val Loss: 4.795\n",
      "Epoch 35 | Train Loss: 3.253 | Val Loss: 5.451\n",
      "Epoch 36 | Train Loss: 3.282 | Val Loss: 5.048\n",
      "Epoch 37 | Train Loss: 3.250 | Val Loss: 5.730\n",
      "Epoch 38 | Train Loss: 3.257 | Val Loss: 5.027\n",
      "Epoch 39 | Train Loss: 3.256 | Val Loss: 5.541\n",
      "Epoch 40 | Train Loss: 3.294 | Val Loss: 5.579\n",
      "Epoch 41 | Train Loss: 3.264 | Val Loss: 5.491\n",
      "Epoch 42 | Train Loss: 3.271 | Val Loss: 4.759\n",
      "Epoch 43 | Train Loss: 3.253 | Val Loss: 5.572\n",
      "Epoch 44 | Train Loss: 3.288 | Val Loss: 5.562\n",
      "Epoch 45 | Train Loss: 3.315 | Val Loss: 6.055\n",
      "Epoch 46 | Train Loss: 3.264 | Val Loss: 6.007\n",
      "Epoch 47 | Train Loss: 3.235 | Val Loss: 5.052\n",
      "Epoch 48 | Train Loss: 3.243 | Val Loss: 5.561\n",
      "Epoch 49 | Train Loss: 3.246 | Val Loss: 4.852\n",
      "Epoch 50 | Train Loss: 3.249 | Val Loss: 5.054\n",
      "Epoch 51 | Train Loss: 3.255 | Val Loss: 6.048\n",
      "Epoch 52 | Train Loss: 3.254 | Val Loss: 4.872\n",
      "Epoch 53 | Train Loss: 3.247 | Val Loss: 5.435\n",
      "Epoch 54 | Train Loss: 3.237 | Val Loss: 5.520\n",
      "Epoch 55 | Train Loss: 3.249 | Val Loss: 6.492\n",
      "Epoch 56 | Train Loss: 3.255 | Val Loss: 5.464\n",
      "Epoch 57 | Train Loss: 3.248 | Val Loss: 6.693\n",
      "Epoch 58 | Train Loss: 3.281 | Val Loss: 5.098\n",
      "Epoch 59 | Train Loss: 3.247 | Val Loss: 5.285\n",
      "Epoch 60 | Train Loss: 3.238 | Val Loss: 6.966\n",
      "Epoch 61 | Train Loss: 3.270 | Val Loss: 5.364\n",
      "Epoch 62 | Train Loss: 3.245 | Val Loss: 4.666\n",
      "Epoch 63 | Train Loss: 3.266 | Val Loss: 4.266\n",
      "Epoch 64 | Train Loss: 3.262 | Val Loss: 5.205\n",
      "Epoch 65 | Train Loss: 3.317 | Val Loss: 5.013\n",
      "Epoch 66 | Train Loss: 3.253 | Val Loss: 5.729\n",
      "Epoch 67 | Train Loss: 3.255 | Val Loss: 5.147\n",
      "Epoch 68 | Train Loss: 3.249 | Val Loss: 4.941\n",
      "Epoch 69 | Train Loss: 3.268 | Val Loss: 4.919\n",
      "Epoch 70 | Train Loss: 3.266 | Val Loss: 6.135\n",
      "Epoch 71 | Train Loss: 3.247 | Val Loss: 4.779\n",
      "Epoch 72 | Train Loss: 3.273 | Val Loss: 5.168\n",
      "Epoch 73 | Train Loss: 3.245 | Val Loss: 4.684\n",
      "Epoch 74 | Train Loss: 3.241 | Val Loss: 4.613\n",
      "Epoch 75 | Train Loss: 3.251 | Val Loss: 4.449\n",
      "Epoch 76 | Train Loss: 3.281 | Val Loss: 5.399\n",
      "Epoch 77 | Train Loss: 3.241 | Val Loss: 5.170\n",
      "Epoch 78 | Train Loss: 3.324 | Val Loss: 4.547\n",
      "Epoch 79 | Train Loss: 3.291 | Val Loss: 5.646\n",
      "Epoch 80 | Train Loss: 3.270 | Val Loss: 5.178\n",
      "Epoch 81 | Train Loss: 3.265 | Val Loss: 5.610\n",
      "Epoch 82 | Train Loss: 3.227 | Val Loss: 4.973\n",
      "Epoch 83 | Train Loss: 3.240 | Val Loss: 4.781\n",
      "Epoch 84 | Train Loss: 3.244 | Val Loss: 5.224\n",
      "Epoch 85 | Train Loss: 3.247 | Val Loss: 4.351\n",
      "Epoch 86 | Train Loss: 3.257 | Val Loss: 4.257\n",
      "Epoch 87 | Train Loss: 3.245 | Val Loss: 5.633\n",
      "Epoch 88 | Train Loss: 3.265 | Val Loss: 5.731\n",
      "Epoch 89 | Train Loss: 3.242 | Val Loss: 5.679\n",
      "Epoch 90 | Train Loss: 3.247 | Val Loss: 5.882\n",
      "Epoch 91 | Train Loss: 3.247 | Val Loss: 4.746\n",
      "Epoch 92 | Train Loss: 3.266 | Val Loss: 5.615\n",
      "Epoch 93 | Train Loss: 3.254 | Val Loss: 7.030\n",
      "Epoch 94 | Train Loss: 3.258 | Val Loss: 5.853\n",
      "Epoch 95 | Train Loss: 3.290 | Val Loss: 5.395\n",
      "Epoch 96 | Train Loss: 3.261 | Val Loss: 5.272\n",
      "Epoch 97 | Train Loss: 3.254 | Val Loss: 4.958\n",
      "Epoch 98 | Train Loss: 3.259 | Val Loss: 5.107\n",
      "Epoch 99 | Train Loss: 3.233 | Val Loss: 5.650\n",
      "Epoch 100 | Train Loss: 3.250 | Val Loss: 5.495\n",
      "Epoch 101 | Train Loss: 3.278 | Val Loss: 5.869\n",
      "Epoch 102 | Train Loss: 3.244 | Val Loss: 6.949\n",
      "Epoch 103 | Train Loss: 3.224 | Val Loss: 5.309\n",
      "Epoch 104 | Train Loss: 3.244 | Val Loss: 4.970\n",
      "Epoch 105 | Train Loss: 3.223 | Val Loss: 4.558\n",
      "Epoch 106 | Train Loss: 3.273 | Val Loss: 4.253\n",
      "Epoch 107 | Train Loss: 3.292 | Val Loss: 5.324\n",
      "Epoch 108 | Train Loss: 3.259 | Val Loss: 5.756\n",
      "Epoch 109 | Train Loss: 3.258 | Val Loss: 6.315\n",
      "Epoch 110 | Train Loss: 3.254 | Val Loss: 5.952\n",
      "Epoch 111 | Train Loss: 3.274 | Val Loss: 4.727\n",
      "Epoch 112 | Train Loss: 3.230 | Val Loss: 5.111\n",
      "Epoch 113 | Train Loss: 3.231 | Val Loss: 5.682\n",
      "Epoch 114 | Train Loss: 3.253 | Val Loss: 5.285\n",
      "Epoch 115 | Train Loss: 3.236 | Val Loss: 5.456\n",
      "Epoch 116 | Train Loss: 3.240 | Val Loss: 5.021\n",
      "Epoch 117 | Train Loss: 3.250 | Val Loss: 5.331\n",
      "Epoch 118 | Train Loss: 3.228 | Val Loss: 5.303\n",
      "Epoch 119 | Train Loss: 3.247 | Val Loss: 4.625\n",
      "Epoch 120 | Train Loss: 3.238 | Val Loss: 5.488\n",
      "Epoch 121 | Train Loss: 3.223 | Val Loss: 6.437\n",
      "Epoch 122 | Train Loss: 3.240 | Val Loss: 5.549\n"
     ]
    },
    {
     "ename": "KeyboardInterrupt",
     "evalue": "",
     "output_type": "error",
     "traceback": [
      "\u001B[0;31m---------------------------------------------------------------------------\u001B[0m",
      "\u001B[0;31mKeyboardInterrupt\u001B[0m                         Traceback (most recent call last)",
      "Cell \u001B[0;32mIn[211], line 5\u001B[0m\n\u001B[1;32m      1\u001B[0m epochs \u001B[38;5;241m=\u001B[39m \u001B[38;5;241m2000\u001B[39m\n\u001B[1;32m      3\u001B[0m \u001B[38;5;66;03m# Train the model\u001B[39;00m\n\u001B[0;32m----> 5\u001B[0m trainer\u001B[38;5;241m.\u001B[39mfit(train_dataloader, test_dataloader, epochs\u001B[38;5;241m=\u001B[39mepochs, clip_value\u001B[38;5;241m=\u001B[39m\u001B[38;5;241m1\u001B[39m)\n",
      "File \u001B[0;32m~/Documents/TradeLensForcast/TransformerServiceV2.py:97\u001B[0m, in \u001B[0;36mTrainer.fit\u001B[0;34m(self, train_dataloader, val_dataloader, epochs, clip_value)\u001B[0m\n\u001B[1;32m     95\u001B[0m \u001B[38;5;28;01mdef\u001B[39;00m \u001B[38;5;21mfit\u001B[39m(\u001B[38;5;28mself\u001B[39m, train_dataloader, val_dataloader, epochs, clip_value\u001B[38;5;241m=\u001B[39m\u001B[38;5;28;01mNone\u001B[39;00m):\n\u001B[1;32m     96\u001B[0m     \u001B[38;5;28;01mfor\u001B[39;00m epoch \u001B[38;5;129;01min\u001B[39;00m \u001B[38;5;28mrange\u001B[39m(epochs):\n\u001B[0;32m---> 97\u001B[0m         train_loss \u001B[38;5;241m=\u001B[39m \u001B[38;5;28mself\u001B[39m\u001B[38;5;241m.\u001B[39mtrain_epoch(train_dataloader, clip_value)\n\u001B[1;32m     98\u001B[0m         val_loss \u001B[38;5;241m=\u001B[39m \u001B[38;5;28mself\u001B[39m\u001B[38;5;241m.\u001B[39mevaluate(val_dataloader)\n\u001B[1;32m    100\u001B[0m         \u001B[38;5;28mprint\u001B[39m(\u001B[38;5;124mf\u001B[39m\u001B[38;5;124m\"\u001B[39m\u001B[38;5;124mEpoch \u001B[39m\u001B[38;5;132;01m{\u001B[39;00mepoch\u001B[38;5;250m \u001B[39m\u001B[38;5;241m+\u001B[39m\u001B[38;5;250m \u001B[39m\u001B[38;5;241m1\u001B[39m\u001B[38;5;132;01m}\u001B[39;00m\u001B[38;5;124m | Train Loss: \u001B[39m\u001B[38;5;132;01m{\u001B[39;00mtrain_loss\u001B[38;5;132;01m:\u001B[39;00m\u001B[38;5;124m.3f\u001B[39m\u001B[38;5;132;01m}\u001B[39;00m\u001B[38;5;124m | Val Loss: \u001B[39m\u001B[38;5;132;01m{\u001B[39;00mval_loss\u001B[38;5;132;01m:\u001B[39;00m\u001B[38;5;124m.3f\u001B[39m\u001B[38;5;132;01m}\u001B[39;00m\u001B[38;5;124m\"\u001B[39m)\n",
      "File \u001B[0;32m~/Documents/TradeLensForcast/TransformerServiceV2.py:60\u001B[0m, in \u001B[0;36mTrainer.train_epoch\u001B[0;34m(self, dataloader, clip_value)\u001B[0m\n\u001B[1;32m     57\u001B[0m     \u001B[38;5;28;01mif\u001B[39;00m clip_value:\n\u001B[1;32m     58\u001B[0m         torch\u001B[38;5;241m.\u001B[39mnn\u001B[38;5;241m.\u001B[39mutils\u001B[38;5;241m.\u001B[39mclip_grad_norm_(\u001B[38;5;28mself\u001B[39m\u001B[38;5;241m.\u001B[39mmodel\u001B[38;5;241m.\u001B[39mparameters(), clip_value)\n\u001B[0;32m---> 60\u001B[0m     \u001B[38;5;28mself\u001B[39m\u001B[38;5;241m.\u001B[39moptimizer\u001B[38;5;241m.\u001B[39mstep()\n\u001B[1;32m     62\u001B[0m     epoch_loss \u001B[38;5;241m+\u001B[39m\u001B[38;5;241m=\u001B[39m loss\u001B[38;5;241m.\u001B[39mitem()\n\u001B[1;32m     64\u001B[0m \u001B[38;5;28;01mreturn\u001B[39;00m epoch_loss \u001B[38;5;241m/\u001B[39m \u001B[38;5;28mlen\u001B[39m(dataloader)\n",
      "File \u001B[0;32m~/miniforge3/envs/TradeLens/lib/python3.12/site-packages/torch/optim/optimizer.py:484\u001B[0m, in \u001B[0;36mOptimizer.profile_hook_step.<locals>.wrapper\u001B[0;34m(*args, **kwargs)\u001B[0m\n\u001B[1;32m    479\u001B[0m         \u001B[38;5;28;01melse\u001B[39;00m:\n\u001B[1;32m    480\u001B[0m             \u001B[38;5;28;01mraise\u001B[39;00m \u001B[38;5;167;01mRuntimeError\u001B[39;00m(\n\u001B[1;32m    481\u001B[0m                 \u001B[38;5;124mf\u001B[39m\u001B[38;5;124m\"\u001B[39m\u001B[38;5;132;01m{\u001B[39;00mfunc\u001B[38;5;132;01m}\u001B[39;00m\u001B[38;5;124m must return None or a tuple of (new_args, new_kwargs), but got \u001B[39m\u001B[38;5;132;01m{\u001B[39;00mresult\u001B[38;5;132;01m}\u001B[39;00m\u001B[38;5;124m.\u001B[39m\u001B[38;5;124m\"\u001B[39m\n\u001B[1;32m    482\u001B[0m             )\n\u001B[0;32m--> 484\u001B[0m out \u001B[38;5;241m=\u001B[39m func(\u001B[38;5;241m*\u001B[39margs, \u001B[38;5;241m*\u001B[39m\u001B[38;5;241m*\u001B[39mkwargs)\n\u001B[1;32m    485\u001B[0m \u001B[38;5;28mself\u001B[39m\u001B[38;5;241m.\u001B[39m_optimizer_step_code()\n\u001B[1;32m    487\u001B[0m \u001B[38;5;66;03m# call optimizer step post hooks\u001B[39;00m\n",
      "File \u001B[0;32m~/miniforge3/envs/TradeLens/lib/python3.12/site-packages/torch/optim/optimizer.py:89\u001B[0m, in \u001B[0;36m_use_grad_for_differentiable.<locals>._use_grad\u001B[0;34m(self, *args, **kwargs)\u001B[0m\n\u001B[1;32m     87\u001B[0m     torch\u001B[38;5;241m.\u001B[39mset_grad_enabled(\u001B[38;5;28mself\u001B[39m\u001B[38;5;241m.\u001B[39mdefaults[\u001B[38;5;124m\"\u001B[39m\u001B[38;5;124mdifferentiable\u001B[39m\u001B[38;5;124m\"\u001B[39m])\n\u001B[1;32m     88\u001B[0m     torch\u001B[38;5;241m.\u001B[39m_dynamo\u001B[38;5;241m.\u001B[39mgraph_break()\n\u001B[0;32m---> 89\u001B[0m     ret \u001B[38;5;241m=\u001B[39m func(\u001B[38;5;28mself\u001B[39m, \u001B[38;5;241m*\u001B[39margs, \u001B[38;5;241m*\u001B[39m\u001B[38;5;241m*\u001B[39mkwargs)\n\u001B[1;32m     90\u001B[0m \u001B[38;5;28;01mfinally\u001B[39;00m:\n\u001B[1;32m     91\u001B[0m     torch\u001B[38;5;241m.\u001B[39m_dynamo\u001B[38;5;241m.\u001B[39mgraph_break()\n",
      "File \u001B[0;32m~/miniforge3/envs/TradeLens/lib/python3.12/site-packages/torch/optim/adam.py:226\u001B[0m, in \u001B[0;36mAdam.step\u001B[0;34m(self, closure)\u001B[0m\n\u001B[1;32m    214\u001B[0m     beta1, beta2 \u001B[38;5;241m=\u001B[39m group[\u001B[38;5;124m\"\u001B[39m\u001B[38;5;124mbetas\u001B[39m\u001B[38;5;124m\"\u001B[39m]\n\u001B[1;32m    216\u001B[0m     has_complex \u001B[38;5;241m=\u001B[39m \u001B[38;5;28mself\u001B[39m\u001B[38;5;241m.\u001B[39m_init_group(\n\u001B[1;32m    217\u001B[0m         group,\n\u001B[1;32m    218\u001B[0m         params_with_grad,\n\u001B[0;32m   (...)\u001B[0m\n\u001B[1;32m    223\u001B[0m         state_steps,\n\u001B[1;32m    224\u001B[0m     )\n\u001B[0;32m--> 226\u001B[0m     adam(\n\u001B[1;32m    227\u001B[0m         params_with_grad,\n\u001B[1;32m    228\u001B[0m         grads,\n\u001B[1;32m    229\u001B[0m         exp_avgs,\n\u001B[1;32m    230\u001B[0m         exp_avg_sqs,\n\u001B[1;32m    231\u001B[0m         max_exp_avg_sqs,\n\u001B[1;32m    232\u001B[0m         state_steps,\n\u001B[1;32m    233\u001B[0m         amsgrad\u001B[38;5;241m=\u001B[39mgroup[\u001B[38;5;124m\"\u001B[39m\u001B[38;5;124mamsgrad\u001B[39m\u001B[38;5;124m\"\u001B[39m],\n\u001B[1;32m    234\u001B[0m         has_complex\u001B[38;5;241m=\u001B[39mhas_complex,\n\u001B[1;32m    235\u001B[0m         beta1\u001B[38;5;241m=\u001B[39mbeta1,\n\u001B[1;32m    236\u001B[0m         beta2\u001B[38;5;241m=\u001B[39mbeta2,\n\u001B[1;32m    237\u001B[0m         lr\u001B[38;5;241m=\u001B[39mgroup[\u001B[38;5;124m\"\u001B[39m\u001B[38;5;124mlr\u001B[39m\u001B[38;5;124m\"\u001B[39m],\n\u001B[1;32m    238\u001B[0m         weight_decay\u001B[38;5;241m=\u001B[39mgroup[\u001B[38;5;124m\"\u001B[39m\u001B[38;5;124mweight_decay\u001B[39m\u001B[38;5;124m\"\u001B[39m],\n\u001B[1;32m    239\u001B[0m         eps\u001B[38;5;241m=\u001B[39mgroup[\u001B[38;5;124m\"\u001B[39m\u001B[38;5;124meps\u001B[39m\u001B[38;5;124m\"\u001B[39m],\n\u001B[1;32m    240\u001B[0m         maximize\u001B[38;5;241m=\u001B[39mgroup[\u001B[38;5;124m\"\u001B[39m\u001B[38;5;124mmaximize\u001B[39m\u001B[38;5;124m\"\u001B[39m],\n\u001B[1;32m    241\u001B[0m         foreach\u001B[38;5;241m=\u001B[39mgroup[\u001B[38;5;124m\"\u001B[39m\u001B[38;5;124mforeach\u001B[39m\u001B[38;5;124m\"\u001B[39m],\n\u001B[1;32m    242\u001B[0m         capturable\u001B[38;5;241m=\u001B[39mgroup[\u001B[38;5;124m\"\u001B[39m\u001B[38;5;124mcapturable\u001B[39m\u001B[38;5;124m\"\u001B[39m],\n\u001B[1;32m    243\u001B[0m         differentiable\u001B[38;5;241m=\u001B[39mgroup[\u001B[38;5;124m\"\u001B[39m\u001B[38;5;124mdifferentiable\u001B[39m\u001B[38;5;124m\"\u001B[39m],\n\u001B[1;32m    244\u001B[0m         fused\u001B[38;5;241m=\u001B[39mgroup[\u001B[38;5;124m\"\u001B[39m\u001B[38;5;124mfused\u001B[39m\u001B[38;5;124m\"\u001B[39m],\n\u001B[1;32m    245\u001B[0m         grad_scale\u001B[38;5;241m=\u001B[39m\u001B[38;5;28mgetattr\u001B[39m(\u001B[38;5;28mself\u001B[39m, \u001B[38;5;124m\"\u001B[39m\u001B[38;5;124mgrad_scale\u001B[39m\u001B[38;5;124m\"\u001B[39m, \u001B[38;5;28;01mNone\u001B[39;00m),\n\u001B[1;32m    246\u001B[0m         found_inf\u001B[38;5;241m=\u001B[39m\u001B[38;5;28mgetattr\u001B[39m(\u001B[38;5;28mself\u001B[39m, \u001B[38;5;124m\"\u001B[39m\u001B[38;5;124mfound_inf\u001B[39m\u001B[38;5;124m\"\u001B[39m, \u001B[38;5;28;01mNone\u001B[39;00m),\n\u001B[1;32m    247\u001B[0m     )\n\u001B[1;32m    249\u001B[0m \u001B[38;5;28;01mreturn\u001B[39;00m loss\n",
      "File \u001B[0;32m~/miniforge3/envs/TradeLens/lib/python3.12/site-packages/torch/optim/optimizer.py:161\u001B[0m, in \u001B[0;36m_disable_dynamo_if_unsupported.<locals>.wrapper.<locals>.maybe_fallback\u001B[0;34m(*args, **kwargs)\u001B[0m\n\u001B[1;32m    159\u001B[0m     \u001B[38;5;28;01mreturn\u001B[39;00m disabled_func(\u001B[38;5;241m*\u001B[39margs, \u001B[38;5;241m*\u001B[39m\u001B[38;5;241m*\u001B[39mkwargs)\n\u001B[1;32m    160\u001B[0m \u001B[38;5;28;01melse\u001B[39;00m:\n\u001B[0;32m--> 161\u001B[0m     \u001B[38;5;28;01mreturn\u001B[39;00m func(\u001B[38;5;241m*\u001B[39margs, \u001B[38;5;241m*\u001B[39m\u001B[38;5;241m*\u001B[39mkwargs)\n",
      "File \u001B[0;32m~/miniforge3/envs/TradeLens/lib/python3.12/site-packages/torch/optim/adam.py:766\u001B[0m, in \u001B[0;36madam\u001B[0;34m(params, grads, exp_avgs, exp_avg_sqs, max_exp_avg_sqs, state_steps, foreach, capturable, differentiable, fused, grad_scale, found_inf, has_complex, amsgrad, beta1, beta2, lr, weight_decay, eps, maximize)\u001B[0m\n\u001B[1;32m    763\u001B[0m \u001B[38;5;28;01melse\u001B[39;00m:\n\u001B[1;32m    764\u001B[0m     func \u001B[38;5;241m=\u001B[39m _single_tensor_adam\n\u001B[0;32m--> 766\u001B[0m func(\n\u001B[1;32m    767\u001B[0m     params,\n\u001B[1;32m    768\u001B[0m     grads,\n\u001B[1;32m    769\u001B[0m     exp_avgs,\n\u001B[1;32m    770\u001B[0m     exp_avg_sqs,\n\u001B[1;32m    771\u001B[0m     max_exp_avg_sqs,\n\u001B[1;32m    772\u001B[0m     state_steps,\n\u001B[1;32m    773\u001B[0m     amsgrad\u001B[38;5;241m=\u001B[39mamsgrad,\n\u001B[1;32m    774\u001B[0m     has_complex\u001B[38;5;241m=\u001B[39mhas_complex,\n\u001B[1;32m    775\u001B[0m     beta1\u001B[38;5;241m=\u001B[39mbeta1,\n\u001B[1;32m    776\u001B[0m     beta2\u001B[38;5;241m=\u001B[39mbeta2,\n\u001B[1;32m    777\u001B[0m     lr\u001B[38;5;241m=\u001B[39mlr,\n\u001B[1;32m    778\u001B[0m     weight_decay\u001B[38;5;241m=\u001B[39mweight_decay,\n\u001B[1;32m    779\u001B[0m     eps\u001B[38;5;241m=\u001B[39meps,\n\u001B[1;32m    780\u001B[0m     maximize\u001B[38;5;241m=\u001B[39mmaximize,\n\u001B[1;32m    781\u001B[0m     capturable\u001B[38;5;241m=\u001B[39mcapturable,\n\u001B[1;32m    782\u001B[0m     differentiable\u001B[38;5;241m=\u001B[39mdifferentiable,\n\u001B[1;32m    783\u001B[0m     grad_scale\u001B[38;5;241m=\u001B[39mgrad_scale,\n\u001B[1;32m    784\u001B[0m     found_inf\u001B[38;5;241m=\u001B[39mfound_inf,\n\u001B[1;32m    785\u001B[0m )\n",
      "File \u001B[0;32m~/miniforge3/envs/TradeLens/lib/python3.12/site-packages/torch/optim/adam.py:415\u001B[0m, in \u001B[0;36m_single_tensor_adam\u001B[0;34m(params, grads, exp_avgs, exp_avg_sqs, max_exp_avg_sqs, state_steps, grad_scale, found_inf, amsgrad, has_complex, beta1, beta2, lr, weight_decay, eps, maximize, capturable, differentiable)\u001B[0m\n\u001B[1;32m    413\u001B[0m     param\u001B[38;5;241m.\u001B[39maddcdiv_(exp_avg, denom)\n\u001B[1;32m    414\u001B[0m \u001B[38;5;28;01melse\u001B[39;00m:\n\u001B[0;32m--> 415\u001B[0m     step \u001B[38;5;241m=\u001B[39m _get_value(step_t)\n\u001B[1;32m    417\u001B[0m     bias_correction1 \u001B[38;5;241m=\u001B[39m \u001B[38;5;241m1\u001B[39m \u001B[38;5;241m-\u001B[39m beta1\u001B[38;5;241m*\u001B[39m\u001B[38;5;241m*\u001B[39mstep\n\u001B[1;32m    418\u001B[0m     bias_correction2 \u001B[38;5;241m=\u001B[39m \u001B[38;5;241m1\u001B[39m \u001B[38;5;241m-\u001B[39m beta2\u001B[38;5;241m*\u001B[39m\u001B[38;5;241m*\u001B[39mstep\n",
      "File \u001B[0;32m~/miniforge3/envs/TradeLens/lib/python3.12/site-packages/torch/optim/optimizer.py:104\u001B[0m, in \u001B[0;36m_get_value\u001B[0;34m(x)\u001B[0m\n\u001B[1;32m    102\u001B[0m     \u001B[38;5;28;01mreturn\u001B[39;00m x\n\u001B[1;32m    103\u001B[0m \u001B[38;5;28;01melse\u001B[39;00m:\n\u001B[0;32m--> 104\u001B[0m     \u001B[38;5;28;01mreturn\u001B[39;00m x\u001B[38;5;241m.\u001B[39mitem() \u001B[38;5;28;01mif\u001B[39;00m \u001B[38;5;28misinstance\u001B[39m(x, torch\u001B[38;5;241m.\u001B[39mTensor) \u001B[38;5;28;01melse\u001B[39;00m x\n",
      "File \u001B[0;32m~/miniforge3/envs/TradeLens/lib/python3.12/site-packages/torch/utils/_device.py:79\u001B[0m, in \u001B[0;36mDeviceContext.__torch_function__\u001B[0;34m(self, func, types, args, kwargs)\u001B[0m\n\u001B[1;32m     77\u001B[0m \u001B[38;5;28;01mif\u001B[39;00m func \u001B[38;5;129;01min\u001B[39;00m _device_constructors() \u001B[38;5;129;01mand\u001B[39;00m kwargs\u001B[38;5;241m.\u001B[39mget(\u001B[38;5;124m'\u001B[39m\u001B[38;5;124mdevice\u001B[39m\u001B[38;5;124m'\u001B[39m) \u001B[38;5;129;01mis\u001B[39;00m \u001B[38;5;28;01mNone\u001B[39;00m:\n\u001B[1;32m     78\u001B[0m     kwargs[\u001B[38;5;124m'\u001B[39m\u001B[38;5;124mdevice\u001B[39m\u001B[38;5;124m'\u001B[39m] \u001B[38;5;241m=\u001B[39m \u001B[38;5;28mself\u001B[39m\u001B[38;5;241m.\u001B[39mdevice\n\u001B[0;32m---> 79\u001B[0m \u001B[38;5;28;01mreturn\u001B[39;00m func(\u001B[38;5;241m*\u001B[39margs, \u001B[38;5;241m*\u001B[39m\u001B[38;5;241m*\u001B[39mkwargs)\n",
      "\u001B[0;31mKeyboardInterrupt\u001B[0m: "
     ]
    }
   ],
   "execution_count": 211
  },
  {
   "metadata": {
    "ExecuteTime": {
     "end_time": "2024-09-28T22:20:12.313932Z",
     "start_time": "2024-09-28T22:20:12.233418Z"
    }
   },
   "cell_type": "code",
   "source": [
    "# file_path = \"saved_models/model_weights20240928_171203.pth\"\n",
    "# models.load_state_dict(torch.load(file_path, map_location=device))"
   ],
   "id": "187b6a8c1206a1e3",
   "outputs": [
    {
     "name": "stderr",
     "output_type": "stream",
     "text": [
      "/var/folders/d8/cz684bdx7pbc12fnsyp2z9mm0000gn/T/ipykernel_42368/3875937369.py:2: FutureWarning:\n",
      "\n",
      "You are using `torch.load` with `weights_only=False` (the current default value), which uses the default pickle module implicitly. It is possible to construct malicious pickle data which will execute arbitrary code during unpickling (See https://github.com/pytorch/pytorch/blob/main/SECURITY.md#untrusted-models for more details). In a future release, the default value for `weights_only` will be flipped to `True`. This limits the functions that could be executed during unpickling. Arbitrary objects will no longer be allowed to be loaded via this mode unless they are explicitly allowlisted by the user via `torch.serialization.add_safe_globals`. We recommend you start setting `weights_only=True` for any use case where you don't have full control of the loaded file. Please open an issue on GitHub for any issues related to this experimental feature.\n",
      "\n"
     ]
    },
    {
     "data": {
      "text/plain": [
       "<All keys matched successfully>"
      ]
     },
     "execution_count": 220,
     "metadata": {},
     "output_type": "execute_result"
    }
   ],
   "execution_count": 220
  },
  {
   "metadata": {
    "ExecuteTime": {
     "end_time": "2024-09-29T00:43:40.071495Z",
     "start_time": "2024-09-29T00:43:39.824083Z"
    }
   },
   "cell_type": "code",
   "source": [
    "gradient_test_X = X_train_tensor[-64:]\n",
    "gradient_test_y = y_train_tensor[-64:]\n",
    "\n",
    "gradients = trainer.log_gradients_with_names(gradient_test_X, gradient_test_y)\n",
    "DataVisualizations.visualize_gradients(gradients)"
   ],
   "id": "1d7f4c48961cf499",
   "outputs": [
    {
     "data": {
      "text/plain": [
       "<Figure size 1200x600 with 1 Axes>"
      ],
      "image/png": "[encoded data removed]"
     },
     "metadata": {},
     "output_type": "display_data"
    }
   ],
   "execution_count": 190
  },
  {
   "metadata": {
    "ExecuteTime": {
     "end_time": "2024-09-29T00:43:46.571314Z",
     "start_time": "2024-09-29T00:43:46.538722Z"
    }
   },
   "cell_type": "code",
   "source": [
    "# y_pred = trainer.predict(X_test_tensor)\n",
    "y_pred = trainer.predict(X_train_tensor[:64])\n",
    "# y_pred = trainer.sequence_predictions\n",
    "print(y_pred.shape)"
   ],
   "id": "f0eba76faeee1545",
   "outputs": [
    {
     "name": "stdout",
     "output_type": "stream",
     "text": [
      "Predictions shape: torch.Size([64, 14, 2])\n",
      "torch.Size([64, 14, 2])\n"
     ]
    }
   ],
   "execution_count": 191
  },
  {
   "metadata": {
    "ExecuteTime": {
     "end_time": "2024-09-29T00:43:47.664703Z",
     "start_time": "2024-09-29T00:43:47.662503Z"
    }
   },
   "cell_type": "code",
   "source": [
    "mu_pred = y_pred[:, :, 0]\n",
    "log_var_pred = y_pred[:, :, 1]\n",
    "variance_pred = torch.exp(log_var_pred)\n",
    "std_pred = torch.sqrt(variance_pred)\n",
    "print(mu_pred.shape, std_pred.shape)\n"
   ],
   "id": "28d0ebb7af460a19",
   "outputs": [
    {
     "name": "stdout",
     "output_type": "stream",
     "text": [
      "torch.Size([64, 14]) torch.Size([64, 14])\n"
     ]
    }
   ],
   "execution_count": 192
  },
  {
   "metadata": {
    "ExecuteTime": {
     "end_time": "2024-09-29T00:43:47.728562Z",
     "start_time": "2024-09-29T00:43:47.725537Z"
    }
   },
   "cell_type": "code",
   "source": [
    "# mu_pred_denorm = y_scaler.inverse_transform(mu_pred.detach().cpu().numpy())\n",
    "# std_pred_denorm = y_scaler.inverse_transform(std_pred.detach().cpu().numpy())\n",
    "mu_pred_denorm = mu_pred.detach().cpu().numpy()\n",
    "std_pred_denorm = std_pred.detach().cpu().numpy()"
   ],
   "id": "51f3c5243797b690",
   "outputs": [],
   "execution_count": 193
  },
  {
   "metadata": {
    "ExecuteTime": {
     "end_time": "2024-09-29T00:43:48.939489Z",
     "start_time": "2024-09-29T00:43:48.937916Z"
    }
   },
   "cell_type": "code",
   "source": "trainer.generate_model_architecture()",
   "id": "411ff0d2181a4e6d",
   "outputs": [
    {
     "name": "stdout",
     "output_type": "stream",
     "text": [
      "Model Architecture:\n",
      "------------------\n",
      "'transformer_encoder'\n",
      "'transformer_encoder:encoder_layer0'\n",
      "'transformer_encoder:encoder_layer0:multi_head_attention'\n",
      "\n"
     ]
    }
   ],
   "execution_count": 194
  },
  {
   "metadata": {
    "ExecuteTime": {
     "end_time": "2024-09-29T00:43:50.117094Z",
     "start_time": "2024-09-29T00:43:50.115237Z"
    }
   },
   "cell_type": "code",
   "source": [
    "# retrieval_list = [\"transformer_encoder:encoder_layer0:multi_head_attention\",\n",
    "# \"transformer_encoder:encoder_layer1:multi_head_attention\",\n",
    "# \"transformer_decoder:decoder_layer0:self_attention\",\n",
    "# \"transformer_decoder:decoder_layer0:cross_attention\",\n",
    "# \"transformer_decoder:decoder_layer1:self_attention\",\n",
    "# \"transformer_decoder:decoder_layer1:cross_attention\"]\n",
    "retrieval_list = ['transformer_encoder:encoder_layer0:multi_head_attention',\"transformer_decoder:decoder_layer0:cross_attention\"]\n",
    "retrieval_dict = trainer.retreive_attention_scores(retrieval_list)"
   ],
   "id": "b5490160af87fa26",
   "outputs": [],
   "execution_count": 195
  },
  {
   "metadata": {
    "ExecuteTime": {
     "end_time": "2024-09-29T00:43:51.383120Z",
     "start_time": "2024-09-29T00:43:51.381377Z"
    }
   },
   "cell_type": "code",
   "source": [
    "print(retrieval_dict['transformer_encoder:encoder_layer0:multi_head_attention'].shape)\n",
    "print(len(retrieval_dict))"
   ],
   "id": "f40b0d5272278336",
   "outputs": [
    {
     "name": "stdout",
     "output_type": "stream",
     "text": [
      "torch.Size([64, 20, 64])\n",
      "1\n"
     ]
    }
   ],
   "execution_count": 196
  },
  {
   "metadata": {
    "ExecuteTime": {
     "end_time": "2024-09-29T00:43:52.671230Z",
     "start_time": "2024-09-29T00:43:52.669641Z"
    }
   },
   "cell_type": "code",
   "source": [
    "retrieval_list = ['transformer_encoder:encoder_layer0', 'transformer_decoder:decoder_layer0']\n",
    "output_dict = trainer.retrieve_output(retrieval_list)"
   ],
   "id": "e2e85507a7a6cd33",
   "outputs": [],
   "execution_count": 197
  },
  {
   "metadata": {
    "ExecuteTime": {
     "end_time": "2024-09-29T00:43:53.780984Z",
     "start_time": "2024-09-29T00:43:53.779425Z"
    }
   },
   "cell_type": "code",
   "source": "",
   "id": "2b0e7761631a0262",
   "outputs": [],
   "execution_count": null
  },
  {
   "metadata": {
    "ExecuteTime": {
     "end_time": "2024-09-29T00:43:55.031264Z",
     "start_time": "2024-09-29T00:43:55.029421Z"
    }
   },
   "cell_type": "code",
   "source": "print(y_pred.shape)",
   "id": "4039b1a0f9ca539a",
   "outputs": [
    {
     "name": "stdout",
     "output_type": "stream",
     "text": [
      "torch.Size([64, 14, 2])\n"
     ]
    }
   ],
   "execution_count": 198
  },
  {
   "metadata": {
    "ExecuteTime": {
     "end_time": "2024-09-29T00:43:56.256015Z",
     "start_time": "2024-09-29T00:43:56.249348Z"
    }
   },
   "cell_type": "code",
   "source": [
    "reload(test_utils)\n",
    "reload(Transformer)\n",
    "reload(TransformerV3)\n",
    "reload(TransformerServiceV2)\n",
    "reload(DataVisualizations)"
   ],
   "id": "ac8c3d7a092126fc",
   "outputs": [
    {
     "data": {
      "text/plain": [
       "<module 'DataVisualizations' from '/Users/andrewpassero/Documents/TradeLensForcast/DataVisualizations.py'>"
      ]
     },
     "execution_count": 199,
     "metadata": {},
     "output_type": "execute_result"
    }
   ],
   "execution_count": 199
  },
  {
   "metadata": {
    "ExecuteTime": {
     "end_time": "2024-09-29T00:43:57.307020Z",
     "start_time": "2024-09-29T00:43:57.305343Z"
    }
   },
   "cell_type": "code",
   "source": [
    "mu_pred = mu_pred_denorm.squeeze()\n",
    "std_pred = std_pred_denorm.squeeze()"
   ],
   "id": "82944ede155d8ee9",
   "outputs": [],
   "execution_count": 200
  },
  {
   "metadata": {
    "ExecuteTime": {
     "end_time": "2024-09-29T00:43:58.097630Z",
     "start_time": "2024-09-29T00:43:58.095988Z"
    }
   },
   "cell_type": "code",
   "source": "print(mu_pred.shape)",
   "id": "32d86fe4e9c36666",
   "outputs": [
    {
     "name": "stdout",
     "output_type": "stream",
     "text": [
      "(64, 14)\n"
     ]
    }
   ],
   "execution_count": 201
  },
  {
   "metadata": {
    "ExecuteTime": {
     "end_time": "2024-09-29T00:43:58.889318Z",
     "start_time": "2024-09-29T00:43:58.882240Z"
    }
   },
   "cell_type": "code",
   "source": "output_string, results, predicted_y_old = test_utils.eval_model(y_train[:64], mu_pred, num_days = y_pred.shape[1], alreadyCum=True)",
   "id": "d3ce59324e455851",
   "outputs": [
    {
     "name": "stdout",
     "output_type": "stream",
     "text": [
      "(64, 14)\n",
      "14\n"
     ]
    }
   ],
   "execution_count": 202
  },
  {
   "metadata": {
    "ExecuteTime": {
     "end_time": "2024-09-29T00:43:59.694822Z",
     "start_time": "2024-09-29T00:43:59.693174Z"
    }
   },
   "cell_type": "code",
   "source": "print(output_string)",
   "id": "bf3b8972a5b091e9",
   "outputs": [
    {
     "name": "stdout",
     "output_type": "stream",
     "text": [
      "Cluster Number:\n",
      "Accuracy1D 100.0% PredictedRet: 153.82766723632812 ActRet: 155.96281164884567\n",
      "Accuracy2D 100.0% PredictedRet: 154.572021484375 ActRet: 155.32816302776337\n",
      "Accuracy3D 100.0% PredictedRet: 154.6158447265625 ActRet: 155.59156209230423\n",
      "Accuracy4D 100.0% PredictedRet: 154.78567504882812 ActRet: 155.10191386938095\n",
      "Accuracy5D 100.0% PredictedRet: 154.63104248046875 ActRet: 154.97132855653763\n",
      "Accuracy6D 100.0% PredictedRet: 154.65728759765625 ActRet: 155.42746078968048\n",
      "Accuracy7D 100.0% PredictedRet: 154.71466064453125 ActRet: 154.80230498313904\n",
      "Accuracy8D 100.0% PredictedRet: 154.7581787109375 ActRet: 155.82300865650177\n",
      "Accuracy9D 100.0% PredictedRet: 154.85977172851562 ActRet: 155.61250030994415\n",
      "Accuracy10D 100.0% PredictedRet: 154.97293090820312 ActRet: 154.86562556028366\n",
      "Accuracy11D 100.0% PredictedRet: 155.01402282714844 ActRet: 155.53746151924133\n",
      "Accuracy12D 100.0% PredictedRet: 155.10018920898438 ActRet: 156.53742170333862\n",
      "Accuracy13D 100.0% PredictedRet: 155.01040649414062 ActRet: 156.19671857357025\n",
      "Accuracy14D 100.0% PredictedRet: 155.0953369140625 ActRet: 155.90183526277542\n",
      "Train set length:  Test set length: 64\n",
      "\n"
     ]
    }
   ],
   "execution_count": 203
  },
  {
   "metadata": {
    "ExecuteTime": {
     "end_time": "2024-09-29T00:44:00.470763Z",
     "start_time": "2024-09-29T00:44:00.462358Z"
    }
   },
   "cell_type": "code",
   "source": "test_utils.visualize_future_distribution(results)",
   "id": "783da5c5b2d5bbcc",
   "outputs": [
    {
     "name": "stdout",
     "output_type": "stream",
     "text": [
      "(64, 29)\n"
     ]
    },
    {
     "data": {
      "application/vnd.plotly.v1+json": {
       "data": [
        {
         "name": "Predicted 0",
         "y": [
          63.75094985961914,
          283.52587890625,
          39.3369026184082,
          329.3602294921875,
          153.5680389404297,
          113.23709106445312,
          141.54698181152344,
          43.7495231628418,
          50.44684600830078,
          271.7638244628906,
          240.4833221435547,
          54.048274993896484,
          151.27447509765625,
          98.82942199707031,
          150.1108856201172,
          39.536136627197266,
          152.9746856689453,
          123.50323486328125,
          63.882877349853516,
          140.71112060546875,
          216.9375,
          300.04510498046875,
          52.872344970703125,
          326.7672119140625,
          134.162353515625,
          45.121944427490234,
          311.4869079589844,
          40.024288177490234,
          97.9782943725586,
          274.14727783203125,
          139.6485137939453,
          119.32058715820312,
          298.3966064453125,
          144.31886291503906,
          134.73928833007812,
          37.777191162109375,
          171.09437561035156,
          55.778594970703125,
          272.4124755859375,
          59.74435043334961,
          299.2247009277344,
          174.47824096679688,
          288.0832824707031,
          249.62184143066406,
          304.4783935546875,
          289.7149658203125,
          122.04302215576172,
          147.69674682617188,
          143.63571166992188,
          185.09072875976562,
          238.16542053222656,
          61.97379684448242,
          89.42688751220703,
          295.09259033203125,
          175.47328186035156,
          76.02970886230469,
          252.14181518554688,
          78.90522766113281,
          54.3562126159668,
          44.14302062988281,
          112.43646240234375,
          134.36611938476562,
          39.275508880615234,
          50.70279312133789
         ],
         "type": "box"
        },
        {
         "name": "Real 0",
         "y": [
          66.11750030517578,
          280.5199890136719,
          43.560001373291016,
          330.2200012207031,
          152.9499969482422,
          112.12999725341797,
          146.9199981689453,
          42.817501068115234,
          50.96500015258789,
          266.69000244140625,
          243.02999877929688,
          53.772499084472656,
          157.64999389648438,
          113.90249633789062,
          151.60000610351562,
          39.07500076293945,
          165.3800048828125,
          125.27999877929688,
          68.33999633789062,
          142.05999755859375,
          214.2899932861328,
          283.5199890136719,
          55.1974983215332,
          328.3900146484375,
          133.97999572753906,
          45.97999954223633,
          312.30999755859375,
          43.247501373291016,
          109.66500091552734,
          280.80999755859375,
          149.63999938964844,
          121.41999816894531,
          301.3699951171875,
          145.92999267578125,
          134.72000122070312,
          41.51750183105469,
          176.27999877929688,
          54.7400016784668,
          274.7300109863281,
          58.83000183105469,
          299.3500061035156,
          170.88999938964844,
          278.9100036621094,
          249.67999267578125,
          299.8699951171875,
          296.30999755859375,
          131.39999389648438,
          142.94000244140625,
          156.89999389648438,
          186.00999450683594,
          240.74000549316406,
          69.49250030517578,
          93.58000183105469,
          311.2099914550781,
          176.3800048828125,
          79.23999786376953,
          258.0899963378906,
          78.28500366210938,
          54.560001373291016,
          44.459999084472656,
          112.36000061035156,
          134.42999267578125,
          42.157501220703125,
          54.82749938964844
         ],
         "type": "box"
        },
        {
         "name": "Predicted 1",
         "y": [
          64.26264953613281,
          285.35711669921875,
          39.369503021240234,
          332.0904541015625,
          155.76124572753906,
          112.63842010498047,
          142.57130432128906,
          44.2603645324707,
          49.450355529785156,
          270.522705078125,
          239.52163696289062,
          53.55575942993164,
          152.18136596679688,
          100.22599792480469,
          151.13656616210938,
          39.608856201171875,
          154.5887451171875,
          124.6237564086914,
          66.14086151123047,
          141.81594848632812,
          216.8240966796875,
          300.6172790527344,
          52.296443939208984,
          329.1024475097656,
          134.9656219482422,
          45.13266372680664,
          314.96392822265625,
          40.14198684692383,
          99.20365142822266,
          275.8785705566406,
          141.60848999023438,
          118.55577850341797,
          299.1938781738281,
          146.84765625,
          136.54043579101562,
          37.91558074951172,
          171.64108276367188,
          54.060890197753906,
          272.7279052734375,
          59.41112518310547,
          303.01239013671875,
          176.07928466796875,
          289.1363830566406,
          252.0660858154297,
          305.8024597167969,
          291.05279541015625,
          121.44600677490234,
          147.77651977539062,
          143.44296264648438,
          186.5513153076172,
          239.0026397705078,
          63.3723030090332,
          89.44937896728516,
          296.4496154785156,
          176.4252471923828,
          77.20614624023438,
          251.68991088867188,
          79.89913177490234,
          53.908138275146484,
          44.5738639831543,
          112.96248626708984,
          133.95040893554688,
          39.330196380615234,
          50.71120834350586
         ],
         "type": "box"
        },
        {
         "name": "Real 1",
         "y": [
          65.66000366210938,
          285.29998779296875,
          45.23500061035156,
          329.05999755859375,
          151.60000610351562,
          110.8499984741211,
          145.3699951171875,
          42.212501525878906,
          51.13249969482422,
          265.0199890136719,
          248.14999389648438,
          54.95000076293945,
          157.9600067138672,
          111.11250305175781,
          152.8699951171875,
          38.66999816894531,
          168.82000732421875,
          124.61000061035156,
          74.70249938964844,
          137.08999633789062,
          216.00999450683594,
          284.0,
          55.54750061035156,
          332.5799865722656,
          133.6999969482422,
          46.349998474121094,
          310.1099853515625,
          43.10749816894531,
          110.0625,
          274.0299987792969,
          148.83999633789062,
          116.36000061035156,
          296.9700012207031,
          143.0,
          134.38999938964844,
          40.22249984741211,
          180.3300018310547,
          55.20500183105469,
          264.5799865722656,
          58.592498779296875,
          294.1700134277344,
          168.07000732421875,
          275.8500061035156,
          247.39999389648438,
          294.29998779296875,
          302.75,
          132.60000610351562,
          143.42999267578125,
          153.72000122070312,
          184.9199981689453,
          248.8800048828125,
          60.5525016784668,
          93.08000183105469,
          302.3800048828125,
          178.61000061035156,
          78.16999816894531,
          258.5199890136719,
          79.80750274658203,
          54.592498779296875,
          43.20000076293945,
          112.16999816894531,
          132.02999877929688,
          42.275001525878906,
          55.162498474121094
         ],
         "type": "box"
        },
        {
         "name": "Predicted 2",
         "y": [
          64.34038543701172,
          285.2499084472656,
          39.936458587646484,
          333.16107177734375,
          156.43063354492188,
          111.83618927001953,
          141.94204711914062,
          44.34391403198242,
          49.47376251220703,
          270.7884216308594,
          239.70556640625,
          53.182640075683594,
          152.31466674804688,
          100.57706451416016,
          151.29364013671875,
          39.61466598510742,
          154.25003051757812,
          124.78379821777344,
          65.56135559082031,
          142.00086975097656,
          218.0187225341797,
          300.8470458984375,
          52.3560676574707,
          329.4676818847656,
          134.96124267578125,
          44.89891052246094,
          314.5910339355469,
          40.18790817260742,
          99.41682434082031,
          276.1437072753906,
          141.9088592529297,
          118.69300079345703,
          299.6152038574219,
          146.74099731445312,
          136.3525390625,
          37.936824798583984,
          170.901123046875,
          54.03322219848633,
          273.6246337890625,
          59.30392074584961,
          301.56207275390625,
          176.35739135742188,
          289.5825500488281,
          253.0230255126953,
          303.5872802734375,
          291.2421875,
          122.6252212524414,
          147.62484741210938,
          143.58154296875,
          186.74771118164062,
          240.1511688232422,
          61.5814094543457,
          89.64042663574219,
          296.1204833984375,
          176.63938903808594,
          77.38665008544922,
          251.02490234375,
          80.05152893066406,
          53.74317169189453,
          44.655391693115234,
          113.1543197631836,
          134.4987335205078,
          39.24671173095703,
          50.799522399902344
         ],
         "type": "box"
        },
        {
         "name": "Real 2",
         "y": [
          66.44000244140625,
          286.3599853515625,
          44.88750076293945,
          328.6499938964844,
          156.7899932861328,
          112.26000213623047,
          141.91000366210938,
          41.23500061035156,
          51.869998931884766,
          268.7200012207031,
          245.17999267578125,
          54.07500076293945,
          159.47999572753906,
          112.72750091552734,
          150.58999633789062,
          41.3125,
          170.2100067138672,
          124.27999877929688,
          72.33000183105469,
          131.9600067138672,
          211.8000030517578,
          281.9200134277344,
          55.10499954223633,
          335.3999938964844,
          133.41000366210938,
          46.99250030517578,
          308.9700012207031,
          42.962501525878906,
          113.90249633789062,
          280.7200012207031,
          148.7100067138672,
          121.08999633789062,
          285.260009765625,
          144.2899932861328,
          133.5800018310547,
          39.20750045776367,
          179.2899932861328,
          56.752498626708984,
          269.5,
          58.81999969482422,
          283.5199890136719,
          170.1699981689453,
          288.5,
          247.3000030517578,
          294.79998779296875,
          304.2099914550781,
          132.10000610351562,
          145.85000610351562,
          152.74000549316406,
          185.00999450683594,
          249.1999969482422,
          63.21500015258789,
          94.16999816894531,
          295.0400085449219,
          180.19000244140625,
          77.83499908447266,
          264.4599914550781,
          79.2125015258789,
          55.00749969482422,
          41.43000030517578,
          112.02999877929688,
          134.5,
          42.73749923706055,
          55.682498931884766
         ],
         "type": "box"
        },
        {
         "name": "Predicted 3",
         "y": [
          64.35313415527344,
          285.1905212402344,
          39.945945739746094,
          331.8194274902344,
          156.48822021484375,
          111.80643463134766,
          141.9311981201172,
          44.35475158691406,
          49.484683990478516,
          270.82666015625,
          240.29486083984375,
          53.14533615112305,
          152.3365478515625,
          101.10074615478516,
          151.31532287597656,
          39.615638732910156,
          156.0845947265625,
          125.58953857421875,
          67.9498519897461,
          142.21514892578125,
          218.04185485839844,
          300.95831298828125,
          52.73053741455078,
          330.07135009765625,
          135.28968811035156,
          44.89323806762695,
          313.58856201171875,
          40.1967887878418,
          99.83646392822266,
          274.3909606933594,
          142.73294067382812,
          118.7119140625,
          299.6732482910156,
          146.905517578125,
          136.1622314453125,
          37.93973922729492,
          171.94203186035156,
          54.22031021118164,
          275.0608215332031,
          59.1904182434082,
          300.3509216308594,
          175.39581298828125,
          289.3496398925781,
          253.17300415039062,
          303.10101318359375,
          293.5078125,
          122.28518676757812,
          147.9730987548828,
          143.60061645507812,
          186.78164672851562,
          240.22067260742188,
          61.85019302368164,
          89.64947509765625,
          298.3822021484375,
          176.68878173828125,
          77.41160583496094,
          251.70538330078125,
          80.07308959960938,
          53.61078643798828,
          44.6612434387207,
          113.18079376220703,
          134.90960693359375,
          39.22135543823242,
          50.81330108642578
         ],
         "type": "box"
        },
        {
         "name": "Real 3",
         "y": [
          66.7750015258789,
          280.80999755859375,
          44.64500045776367,
          320.7699890136719,
          157.35000610351562,
          106.16000366210938,
          142.8300018310547,
          43.192501068115234,
          51.790000915527344,
          271.3999938964844,
          243.0800018310547,
          53.060001373291016,
          166.02000427246094,
          109.375,
          148.5,
          41.61000061035156,
          174.07000732421875,
          125.05999755859375,
          75.68499755859375,
          134.13999938964844,
          210.52000427246094,
          289.1000061035156,
          56.23749923706055,
          335.94000244140625,
          133.11000061035156,
          47.64500045776367,
          309.4599914550781,
          42.76750183105469,
          111.11250305175781,
          270.2200012207031,
          151.2100067138672,
          119.9800033569336,
          282.05999755859375,
          145.42999267578125,
          133.47999572753906,
          37.682498931884766,
          179.3800048828125,
          56.76499938964844,
          260.54998779296875,
          59.102500915527344,
          284.0,
          158.17999267578125,
          285.5899963378906,
          245.7100067138672,
          298.5799865722656,
          307.2900085449219,
          131.49000549316406,
          146.8300018310547,
          150.42999267578125,
          183.9600067138672,
          246.7899932861328,
          61.66749954223633,
          96.06999969482422,
          295.0,
          184.1199951171875,
          78.80999755859375,
          266.6499938964844,
          79.72250366210938,
          54.415000915527344,
          41.310001373291016,
          112.52999877929688,
          134.16000366210938,
          41.369998931884766,
          53.772499084472656
         ],
         "type": "box"
        },
        {
         "name": "Predicted 4",
         "y": [
          64.35233306884766,
          285.1802062988281,
          39.363651275634766,
          332.199462890625,
          156.4971466064453,
          111.85909271240234,
          141.32022094726562,
          44.350284576416016,
          49.48545455932617,
          270.9131774902344,
          240.45050048828125,
          53.26576232910156,
          152.3659210205078,
          100.99732208251953,
          151.31838989257812,
          38.69124984741211,
          155.27096557617188,
          125.59318542480469,
          67.38729858398438,
          142.3516387939453,
          217.76190185546875,
          301.2516784667969,
          53.13611602783203,
          329.6247253417969,
          135.34251403808594,
          44.85017395019531,
          313.42266845703125,
          40.20599365234375,
          100.02974700927734,
          274.2740173339844,
          141.94476318359375,
          118.71495819091797,
          299.68115234375,
          146.90867614746094,
          135.04153442382812,
          37.94013214111328,
          171.45974731445312,
          54.47844314575195,
          276.58050537109375,
          58.96040344238281,
          300.32135009765625,
          172.38397216796875,
          289.36444091796875,
          253.4968719482422,
          303.14166259765625,
          293.08416748046875,
          121.76900482177734,
          147.97666931152344,
          143.60324096679688,
          185.92208862304688,
          241.08274841308594,
          61.56172180175781,
          89.65065002441406,
          296.2674865722656,
          176.70217895507812,
          77.41509246826172,
          251.8990478515625,
          80.07603454589844,
          53.36520004272461,
          44.729793548583984,
          113.18437957763672,
          134.4746551513672,
          39.217411041259766,
          50.87376022338867
         ],
         "type": "box"
        },
        {
         "name": "Real 4",
         "y": [
          66.57250213623047,
          274.0299987792969,
          46.20500183105469,
          319.5299987792969,
          162.50999450683594,
          105.91000366210938,
          141.5,
          42.084999084472656,
          51.31999969482422,
          270.8999938964844,
          243.1199951171875,
          53.32500076293945,
          156.77000427246094,
          113.01000213623047,
          150.47000122070312,
          41.630001068115234,
          174.72000122070312,
          123.54000091552734,
          73.2300033569336,
          134.99000549316406,
          213.25999450683594,
          283.1099853515625,
          56.435001373291016,
          333.67999267578125,
          134.77999877929688,
          47.587501525878906,
          311.739990234375,
          43.125,
          112.72750091552734,
          283.2200012207031,
          145.3800048828125,
          121.95999908447266,
          287.6199951171875,
          150.82000732421875,
          131.4600067138672,
          36.70750045776367,
          178.1999969482422,
          56.099998474121094,
          255.35000610351562,
          60.127498626708984,
          281.9200134277344,
          162.00999450683594,
          280.07000732421875,
          250.7899932861328,
          299.55999755859375,
          308.2300109863281,
          132.32000732421875,
          146.9199981689453,
          150.77000427246094,
          187.0,
          234.24000549316406,
          61.19499969482422,
          96.44000244140625,
          300.4700012207031,
          187.64999389648438,
          79.68250274658203,
          251.99000549316406,
          79.18250274658203,
          55.1974983215332,
          40.73500061035156,
          112.26000213623047,
          134.83999633789062,
          40.98500061035156,
          54.95000076293945
         ],
         "type": "box"
        },
        {
         "name": "Predicted 5",
         "y": [
          64.35502624511719,
          285.1785888671875,
          39.363365173339844,
          330.4740295410156,
          156.49630737304688,
          112.20519256591797,
          141.20358276367188,
          44.34724044799805,
          49.485591888427734,
          271.3545837402344,
          240.52296447753906,
          53.2495231628418,
          152.43978881835938,
          101.19650268554688,
          151.3187713623047,
          39.4652214050293,
          155.25912475585938,
          125.59679412841797,
          68.34888458251953,
          142.3848876953125,
          217.75762939453125,
          303.0089416503906,
          53.29047775268555,
          329.84814453125,
          135.35592651367188,
          44.860355377197266,
          315.58978271484375,
          40.28360366821289,
          100.6572036743164,
          274.25640869140625,
          141.95526123046875,
          118.7662124633789,
          299.68218994140625,
          146.8801727294922,
          134.892333984375,
          37.94020462036133,
          172.52537536621094,
          55.942054748535156,
          273.85736083984375,
          59.045013427734375,
          300.4115905761719,
          173.35888671875,
          289.2271423339844,
          250.65692138671875,
          303.5231628417969,
          292.1512756347656,
          121.62823486328125,
          147.9782257080078,
          143.603759765625,
          185.82962036132812,
          240.18734741210938,
          60.37688446044922,
          89.65080261230469,
          296.2772521972656,
          176.7135467529297,
          77.41576385498047,
          251.8946990966797,
          80.07649230957031,
          53.61021041870117,
          44.73006820678711,
          113.18487548828125,
          134.84799194335938,
          39.21686553955078,
          50.87502670288086
         ],
         "type": "box"
        },
        {
         "name": "Real 5",
         "y": [
          65.79750061035156,
          280.7200012207031,
          44.17250061035156,
          317.010009765625,
          161.50999450683594,
          109.56999969482422,
          142.64999389648438,
          41.619998931884766,
          51.07500076293945,
          271.6000061035156,
          246.47999572753906,
          54.71500015258789,
          157.27999877929688,
          115.01000213623047,
          152.58999633789062,
          42.8125,
          175.60000610351562,
          125.88999938964844,
          72.25749969482422,
          133.94000244140625,
          214.1999969482422,
          288.760009765625,
          56.814998626708984,
          323.3800048828125,
          136.3300018310547,
          46.970001220703125,
          314.0,
          43.875,
          109.375,
          289.6300048828125,
          146.13999938964844,
          121.02999877929688,
          279.8299865722656,
          154.5,
          132.5399932861328,
          39.29249954223633,
          177.57000732421875,
          56.75749969482422,
          261.1199951171875,
          59.9900016784668,
          289.1000061035156,
          172.7899932861328,
          276.44000244140625,
          253.80999755859375,
          299.3500061035156,
          307.4100036621094,
          132.4499969482422,
          145.3699951171875,
          151.75999450683594,
          186.67999267578125,
          229.25,
          57.310001373291016,
          96.11000061035156,
          299.5,
          187.8699951171875,
          79.14250183105469,
          252.22000122070312,
          79.52749633789062,
          55.54750061035156,
          40.912498474121094,
          111.69999694824219,
          133.11000061035156,
          41.51750183105469,
          54.07500076293945
         ],
         "type": "box"
        },
        {
         "name": "Predicted 6",
         "y": [
          64.35565185546875,
          283.38848876953125,
          39.363346099853516,
          331.7958679199219,
          157.4220428466797,
          112.46570587158203,
          141.07467651367188,
          44.350528717041016,
          49.485836029052734,
          270.8326721191406,
          240.61489868164062,
          53.160682678222656,
          152.45367431640625,
          101.22371673583984,
          151.31881713867188,
          39.66225814819336,
          155.1983642578125,
          125.59237670898438,
          68.57476806640625,
          141.29840087890625,
          217.78790283203125,
          305.0212707519531,
          53.288185119628906,
          330.20635986328125,
          135.3650360107422,
          44.81376266479492,
          315.4177551269531,
          40.51893997192383,
          100.56375885009766,
          274.2542419433594,
          142.59205627441406,
          119.26872253417969,
          299.19061279296875,
          146.19143676757812,
          134.88446044921875,
          37.94021224975586,
          171.43536376953125,
          55.9503059387207,
          273.969482421875,
          59.27992630004883,
          300.8119201660156,
          172.48497009277344,
          290.4610290527344,
          252.09613037109375,
          305.49578857421875,
          292.147705078125,
          121.6282958984375,
          147.47666931152344,
          142.53125,
          186.05810546875,
          239.0393524169922,
          60.417320251464844,
          90.72090911865234,
          296.277587890625,
          176.370849609375,
          77.41595458984375,
          251.89547729492188,
          80.07657623291016,
          53.66927719116211,
          44.73014450073242,
          113.18494415283203,
          134.94825744628906,
          39.216793060302734,
          51.0098991394043
         ],
         "type": "box"
        },
        {
         "name": "Real 6",
         "y": [
          65.50250244140625,
          270.2200012207031,
          43.68000030517578,
          317.5400085449219,
          160.00999450683594,
          107.5999984741211,
          139.13999938964844,
          41.94499969482422,
          51.15250015258789,
          277.6499938964844,
          245.1699981689453,
          55.55500030517578,
          152.05999755859375,
          114.90750122070312,
          152.99000549316406,
          43.54499816894531,
          178.9600067138672,
          125.9000015258789,
          66.5425033569336,
          137.38999938964844,
          214.1300048828125,
          293.1099853515625,
          57.31999969482422,
          325.260009765625,
          136.9600067138672,
          47.75749969482422,
          318.5199890136719,
          44.74250030517578,
          113.01000213623047,
          277.5199890136719,
          148.7100067138672,
          123.98999786376953,
          280.5199890136719,
          151.72999572753906,
          127.8499984741211,
          39.037498474121094,
          182.00999450683594,
          57.522499084472656,
          261.5,
          60.79499816894531,
          283.1099853515625,
          164.50999450683594,
          287.1499938964844,
          252.57000732421875,
          294.1700134277344,
          310.760009765625,
          132.85000610351562,
          141.91000366210938,
          149.83999633789062,
          185.27000427246094,
          225.41000366210938,
          56.092498779296875,
          95.0,
          290.7300109863281,
          189.4600067138672,
          79.42500305175781,
          245.3800048828125,
          79.5625,
          55.10499954223633,
          41.05500030517578,
          111.75,
          133.5,
          40.22249984741211,
          53.060001373291016
         ],
         "type": "box"
        },
        {
         "name": "Predicted 7",
         "y": [
          64.35624694824219,
          283.26715087890625,
          39.36334228515625,
          330.52716064453125,
          157.67933654785156,
          112.52930450439453,
          140.97816467285156,
          44.35634994506836,
          49.48870849609375,
          271.2665710449219,
          240.71592712402344,
          53.15212631225586,
          152.47930908203125,
          101.24614715576172,
          151.31881713867188,
          39.663936614990234,
          155.09939575195312,
          125.63957214355469,
          68.03079986572266,
          142.24783325195312,
          217.9614715576172,
          304.0245361328125,
          53.07313919067383,
          330.0494689941406,
          135.37423706054688,
          44.80508041381836,
          315.68170166015625,
          40.673770904541016,
          100.78652954101562,
          274.9360656738281,
          141.9568328857422,
          120.60125732421875,
          299.1751708984375,
          145.2986297607422,
          134.92349243164062,
          37.94021224975586,
          171.57080078125,
          55.3666877746582,
          274.6995849609375,
          59.15260314941406,
          303.08929443359375,
          171.7705535888672,
          289.3795471191406,
          253.44920349121094,
          305.63214111328125,
          292.1476745605469,
          121.64854431152344,
          147.43894958496094,
          142.58299255371094,
          186.9971160888672,
          239.0340118408203,
          60.69466781616211,
          90.77240753173828,
          295.48175048828125,
          175.8551025390625,
          77.42230987548828,
          252.24258422851562,
          80.07665252685547,
          54.01931381225586,
          44.7304801940918,
          113.18494415283203,
          135.1771240234375,
          39.2167854309082,
          51.021915435791016
         ],
         "type": "box"
        },
        {
         "name": "Real 7",
         "y": [
          65.44499969482422,
          283.2200012207031,
          42.122501373291016,
          312.1400146484375,
          166.1300048828125,
          111.0,
          141.11000061035156,
          41.66999816894531,
          50.16749954223633,
          277.6600036621094,
          250.77999877929688,
          51.869998931884766,
          154.50999450683594,
          114.60749816894531,
          155.85000610351562,
          43.560001373291016,
          177.77000427246094,
          126.73999786376953,
          71.33499908447266,
          136.75999450683594,
          219.27999877929688,
          294.8500061035156,
          58.01750183105469,
          326.7900085449219,
          137.27000427246094,
          47.83250045776367,
          318.3399963378906,
          44.59749984741211,
          115.01000213623047,
          284.4700012207031,
          147.9600067138672,
          125.56999969482422,
          285.29998779296875,
          154.64999389648438,
          128.10000610351562,
          39.057498931884766,
          179.6999969482422,
          59.0525016784668,
          266.82000732421875,
          60.89500045776367,
          288.760009765625,
          170.5500030517578,
          294.3900146484375,
          253.58999633789062,
          283.5199890136719,
          309.1600036621094,
          135.16000366210938,
          142.8300018310547,
          142.47999572753906,
          188.05999755859375,
          225.75,
          61.720001220703125,
          95.3499984741211,
          287.92999267578125,
          189.6999969482422,
          79.80750274658203,
          244.74000549316406,
          79.48500061035156,
          56.23749923706055,
          40.58000183105469,
          110.38999938964844,
          131.94000244140625,
          39.20750045776367,
          53.32500076293945
         ],
         "type": "box"
        },
        {
         "name": "Predicted 8",
         "y": [
          64.35627746582031,
          283.2487487792969,
          39.36334228515625,
          333.11383056640625,
          157.71890258789062,
          112.71611785888672,
          140.7265625,
          44.352420806884766,
          49.50271224975586,
          270.9726867675781,
          240.81268310546875,
          53.11689376831055,
          152.47628784179688,
          101.13461303710938,
          151.31883239746094,
          39.66435241699219,
          155.1022186279297,
          126.0879898071289,
          68.59861755371094,
          142.12611389160156,
          218.00381469726562,
          304.51470947265625,
          52.77946090698242,
          330.0456237792969,
          135.47122192382812,
          44.82638931274414,
          316.4718933105469,
          41.06437301635742,
          100.82528686523438,
          274.26568603515625,
          142.59410095214844,
          120.61046600341797,
          298.26202392578125,
          145.4280242919922,
          134.87228393554688,
          37.94019317626953,
          170.64166259765625,
          55.449363708496094,
          275.189453125,
          59.12944412231445,
          304.4983825683594,
          171.52505493164062,
          289.4836730957031,
          252.56834411621094,
          304.3886413574219,
          293.322998046875,
          121.6314926147461,
          147.09429931640625,
          143.37521362304688,
          187.0013427734375,
          239.0431671142578,
          61.83879470825195,
          89.65243530273438,
          297.84393310546875,
          175.87594604492188,
          77.4229736328125,
          251.57408142089844,
          80.0766372680664,
          54.52312469482422,
          44.73062515258789,
          113.18494415283203,
          134.9500732421875,
          39.21678161621094,
          51.306671142578125
         ],
         "type": "box"
        },
        {
         "name": "Real 8",
         "y": [
          66.59249877929688,
          289.6300048828125,
          42.400001525878906,
          312.7900085449219,
          165.80999755859375,
          110.70999908447266,
          142.0,
          42.09749984741211,
          52.630001068115234,
          279.92999267578125,
          251.72000122070312,
          50.397499084472656,
          146.5,
          115.5625,
          155.0,
          42.73500061035156,
          174.61000061035156,
          127.12999725341797,
          68.85749816894531,
          136.91000366210938,
          219.4199981689453,
          294.8500061035156,
          56.997501373291016,
          331.8500061035156,
          139.9600067138672,
          47.727500915527344,
          321.17999267578125,
          44.529998779296875,
          114.90750122070312,
          281.7799987792969,
          142.63999938964844,
          124.76000213623047,
          286.3599853515625,
          151.9199981689453,
          129.74000549316406,
          39.435001373291016,
          174.9199981689453,
          58.967498779296875,
          254.0800018310547,
          61.64500045776367,
          293.1099853515625,
          166.27000427246094,
          295.2200012207031,
          257.239990234375,
          284.0,
          308.1300048828125,
          135.69000244140625,
          141.5,
          138.1999969482422,
          189.25,
          234.24000549316406,
          61.380001068115234,
          93.12000274658203,
          287.7200012207031,
          182.91000366210938,
          79.57749938964844,
          244.52000427246094,
          80.4625015258789,
          56.435001373291016,
          41.314998626708984,
          110.51000213623047,
          134.32000732421875,
          37.682498931884766,
          54.71500015258789
         ],
         "type": "box"
        },
        {
         "name": "Predicted 9",
         "y": [
          64.35629272460938,
          283.24639892578125,
          39.36334228515625,
          331.6094055175781,
          157.54737854003906,
          112.77009582519531,
          141.50460815429688,
          44.33730697631836,
          49.56740951538086,
          271.5583190917969,
          243.02734375,
          53.45322799682617,
          152.48211669921875,
          101.24747467041016,
          151.31903076171875,
          39.6658935546875,
          155.14718627929688,
          125.86009216308594,
          68.64356231689453,
          140.97747802734375,
          218.08279418945312,
          306.0195007324219,
          52.42167663574219,
          330.039794921875,
          135.3538055419922,
          44.95061111450195,
          317.4209899902344,
          41.073604583740234,
          100.84296417236328,
          274.25628662109375,
          144.03489685058594,
          119.84239196777344,
          299.17034912109375,
          145.50448608398438,
          135.4915313720703,
          37.940181732177734,
          170.61724853515625,
          55.60820007324219,
          274.83123779296875,
          59.5151252746582,
          303.9306640625,
          171.53758239746094,
          288.5415954589844,
          252.1016387939453,
          304.0989074707031,
          294.07794189453125,
          121.62894439697266,
          147.00091552734375,
          143.27383422851562,
          187.00228881835938,
          239.13270568847656,
          64.15569305419922,
          90.7677230834961,
          295.61541748046875,
          175.8992156982422,
          77.51898193359375,
          252.99818420410156,
          80.07666015625,
          54.562076568603516,
          44.73127746582031,
          113.18494415283203,
          135.3549041748047,
          39.21678161621094,
          51.15748596191406
         ],
         "type": "box"
        },
        {
         "name": "Real 9",
         "y": [
          66.07250213623047,
          277.5199890136719,
          42.157501220703125,
          313.6400146484375,
          165.35000610351562,
          108.5,
          143.2899932861328,
          42.90250015258789,
          52.287498474121094,
          277.4200134277344,
          251.49000549316406,
          50.942501068115234,
          142.55999755859375,
          115.7074966430664,
          157.39999389648438,
          42.602500915527344,
          174.30999755859375,
          126.11000061035156,
          62.057498931884766,
          136.00999450683594,
          218.58999633789062,
          294.2300109863281,
          56.0724983215332,
          334.2900085449219,
          142.02000427246094,
          47.86249923706055,
          315.260009765625,
          43.75,
          114.60749816894531,
          289.9800109863281,
          137.1300048828125,
          120.52999877929688,
          280.80999755859375,
          150.8699951171875,
          130.2100067138672,
          39.47999954223633,
          172.0,
          58.83000183105469,
          253.13999938964844,
          62.26250076293945,
          294.8500061035156,
          161.57000732421875,
          300.42999267578125,
          257.8900146484375,
          281.9200134277344,
          310.1099853515625,
          136.9499969482422,
          142.64999389648438,
          142.4499969482422,
          189.58999633789062,
          228.55999755859375,
          64.61000061035156,
          92.30999755859375,
          280.2699890136719,
          177.55999755859375,
          77.23750305175781,
          242.4499969482422,
          80.83499908447266,
          56.814998626708984,
          42.275001525878906,
          112.83000183105469,
          134.72000122070312,
          36.70750045776367,
          55.55500030517578
         ],
         "type": "box"
        },
        {
         "name": "Predicted 10",
         "y": [
          64.35629272460938,
          283.89324951171875,
          39.36332321166992,
          331.60736083984375,
          157.72271728515625,
          112.8075942993164,
          141.83123779296875,
          44.349464416503906,
          49.69367980957031,
          270.9497985839844,
          245.03244018554688,
          53.10935592651367,
          152.48480224609375,
          100.18331909179688,
          152.22039794921875,
          39.66904830932617,
          154.36695861816406,
          126.15206146240234,
          68.64289093017578,
          141.11929321289062,
          218.51026916503906,
          304.60296630859375,
          51.817726135253906,
          330.046142578125,
          134.02011108398438,
          45.06460189819336,
          312.81854248046875,
          41.101688385009766,
          100.72771453857422,
          276.5800476074219,
          144.335205078125,
          119.9951400756836,
          298.2651062011719,
          145.64952087402344,
          135.54376220703125,
          37.940181732177734,
          170.62745666503906,
          55.95865249633789,
          273.8534851074219,
          59.49745559692383,
          304.89794921875,
          171.57186889648438,
          288.50775146484375,
          252.8702392578125,
          305.402587890625,
          294.1112365722656,
          122.73258972167969,
          146.71316528320312,
          143.5911102294922,
          187.01229858398438,
          239.11399841308594,
          65.45015716552734,
          90.77102661132812,
          296.1513977050781,
          176.12548828125,
          77.52344512939453,
          253.96453857421875,
          80.07766723632812,
          54.42502975463867,
          44.744911193847656,
          113.1849594116211,
          135.35621643066406,
          39.21678161621094,
          50.86994934082031
         ],
         "type": "box"
        },
        {
         "name": "Real 10",
         "y": [
          66.95999908447266,
          284.4700012207031,
          42.275001525878906,
          315.75,
          164.8699951171875,
          108.66000366210938,
          142.89999389648438,
          43.20000076293945,
          52.9375,
          277.94000244140625,
          249.30999755859375,
          52.48749923706055,
          147.11000061035156,
          118.2750015258789,
          159.27999877929688,
          42.35749816894531,
          178.44000244140625,
          127.3499984741211,
          69.49250030517578,
          135.38999938964844,
          222.58999633789062,
          292.8800048828125,
          55.942501068115234,
          337.3399963378906,
          144.57000732421875,
          47.599998474121094,
          313.8500061035156,
          44.0525016784668,
          115.5625,
          277.3500061035156,
          131.8800048828125,
          119.98999786376953,
          274.0299987792969,
          151.00999450683594,
          126.8499984741211,
          35.54750061035156,
          172.1699981689453,
          58.592498779296875,
          252.55999755859375,
          60.8224983215332,
          294.8500061035156,
          150.6199951171875,
          299.1600036621094,
          259.8900146484375,
          289.1000061035156,
          323.1700134277344,
          136.97000122070312,
          139.13999938964844,
          146.10000610351562,
          193.97000122070312,
          237.52999877929688,
          61.935001373291016,
          94.26000213623047,
          294.5899963378906,
          178.17999267578125,
          79.42250061035156,
          238.9499969482422,
          81.27999877929688,
          57.31999969482422,
          44.14250183105469,
          113.62000274658203,
          134.38999938964844,
          39.29249954223633,
          51.869998931884766
         ],
         "type": "box"
        },
        {
         "name": "Predicted 11",
         "y": [
          64.3564224243164,
          283.2503662109375,
          39.36333465576172,
          331.58929443359375,
          157.68153381347656,
          112.91316223144531,
          142.75228881835938,
          44.349708557128906,
          49.7275505065918,
          270.8257141113281,
          245.25833129882812,
          52.645938873291016,
          152.58938598632812,
          101.11782836914062,
          152.39315795898438,
          39.67148208618164,
          154.37112426757812,
          125.84121704101562,
          68.63955688476562,
          140.99163818359375,
          219.53448486328125,
          303.46112060546875,
          52.06936264038086,
          330.1640930175781,
          133.9368133544922,
          45.024864196777344,
          315.5845031738281,
          40.9261589050293,
          100.85465240478516,
          276.67791748046875,
          144.22450256347656,
          120.09906768798828,
          297.8734130859375,
          146.85848999023438,
          135.5580291748047,
          37.940181732177734,
          169.91207885742188,
          55.91435241699219,
          274.8079833984375,
          59.48348617553711,
          305.5631103515625,
          171.86300659179688,
          289.760498046875,
          251.53517150878906,
          305.76568603515625,
          294.079345703125,
          122.68263244628906,
          146.536376953125,
          143.6280975341797,
          186.80909729003906,
          239.28099060058594,
          63.68585968017578,
          90.77046203613281,
          297.00018310546875,
          176.96693420410156,
          77.59857177734375,
          254.1368408203125,
          80.09789276123047,
          54.265342712402344,
          44.74581527709961,
          113.1849594116211,
          135.19619750976562,
          39.21678161621094,
          50.807003021240234
         ],
         "type": "box"
        },
        {
         "name": "Real 11",
         "y": [
          66.8125,
          281.7799987792969,
          42.73749923706055,
          321.79998779296875,
          164.9199981689453,
          109.62999725341797,
          142.80999755859375,
          42.095001220703125,
          52.119998931884766,
          277.32000732421875,
          249.67999267578125,
          52.122501373291016,
          145.5399932861328,
          124.37000274658203,
          157.8300018310547,
          42.72249984741211,
          175.05999755859375,
          130.47999572753906,
          60.5525016784668,
          135.1300048828125,
          223.94000244140625,
          296.30999755859375,
          56.717498779296875,
          348.1000061035156,
          143.24000549316406,
          47.970001220703125,
          325.9200134277344,
          44.20500183105469,
          115.7074966430664,
          274.7300109863281,
          132.75999450683594,
          123.38999938964844,
          280.7200012207031,
          153.85000610351562,
          125.91000366210938,
          37.064998626708984,
          172.19000244140625,
          58.81999969482422,
          260.6499938964844,
          60.814998626708984,
          294.2300109863281,
          160.9199981689453,
          304.05999755859375,
          258.3599853515625,
          283.1099853515625,
          324.3500061035156,
          137.77999877929688,
          141.11000061035156,
          146.39999389648438,
          192.4600067138672,
          238.5,
          63.70249938964844,
          95.81999969482422,
          297.30999755859375,
          179.36000061035156,
          81.08499908447266,
          240.97999572753906,
          80.58000183105469,
          58.01750183105469,
          44.22249984741211,
          114.5,
          133.5800018310547,
          39.037498474121094,
          50.397499084472656
         ],
         "type": "box"
        },
        {
         "name": "Predicted 12",
         "y": [
          64.35645294189453,
          283.2464294433594,
          39.363338470458984,
          330.06207275390625,
          157.45333862304688,
          112.83407592773438,
          142.7692108154297,
          44.338802337646484,
          50.497379302978516,
          270.82342529296875,
          244.20669555664062,
          52.76787185668945,
          152.96388244628906,
          101.20441436767578,
          152.4093017578125,
          39.673397064208984,
          155.2272186279297,
          125.83795166015625,
          66.49044036865234,
          140.96568298339844,
          220.1028594970703,
          304.80230712890625,
          51.967655181884766,
          330.61944580078125,
          133.9573974609375,
          44.97105026245117,
          315.65692138671875,
          40.74138641357422,
          99.7177963256836,
          276.6913757324219,
          144.40045166015625,
          120.86647033691406,
          297.13543701171875,
          147.15635681152344,
          135.5581512451172,
          37.940181732177734,
          169.43743896484375,
          55.56242370605469,
          273.8534851074219,
          59.7559928894043,
          304.1504821777344,
          171.93560791015625,
          288.10955810546875,
          250.4888458251953,
          305.8044128417969,
          294.31982421875,
          122.67718505859375,
          146.49349975585938,
          143.6327667236328,
          187.0113525390625,
          239.3065643310547,
          63.62270736694336,
          90.7710952758789,
          297.0006408691406,
          177.78814697265625,
          77.61785125732422,
          254.7469940185547,
          80.21348571777344,
          53.59883499145508,
          44.74583053588867,
          113.1849594116211,
          135.0126190185547,
          39.21678161621094,
          50.829307556152344
         ],
         "type": "box"
        },
        {
         "name": "Real 12",
         "y": [
          66.04000091552734,
          289.9800109863281,
          41.369998931884766,
          313.3900146484375,
          169.24000549316406,
          108.0999984741211,
          141.50999450683594,
          42.51250076293945,
          50.71500015258789,
          280.9800109863281,
          247.39999389648438,
          51.11750030517578,
          149.24000549316406,
          125.85749816894531,
          158.92999267578125,
          42.54499816894531,
          171.8300018310547,
          129.63999938964844,
          63.21500015258789,
          135.3699951171875,
          221.02000427246094,
          302.75,
          54.09000015258789,
          342.3299865722656,
          145.11000061035156,
          47.86000061035156,
          332.8900146484375,
          44.16749954223633,
          118.2750015258789,
          264.5799865722656,
          135.42999267578125,
          122.54000091552734,
          270.2200012207031,
          153.1999969482422,
          122.7699966430664,
          36.98249816894531,
          175.0800018310547,
          59.102500915527344,
          259.6199951171875,
          62.189998626708984,
          292.8800048828125,
          153.6300048828125,
          299.489990234375,
          257.3800048828125,
          288.760009765625,
          331.6199951171875,
          133.42999267578125,
          142.0,
          145.42999267578125,
          191.3300018310547,
          236.47999572753906,
          63.5724983215332,
          93.5199966430664,
          298.7900085449219,
          176.3000030517578,
          80.96749877929688,
          237.9199981689453,
          82.875,
          56.997501373291016,
          45.95750045776367,
          114.58999633789062,
          133.47999572753906,
          39.057498931884766,
          50.942501068115234
         ],
         "type": "box"
        },
        {
         "name": "Predicted 13",
         "y": [
          64.35645294189453,
          285.57208251953125,
          39.36331558227539,
          330.0614013671875,
          156.58815002441406,
          112.81484985351562,
          142.89923095703125,
          44.287899017333984,
          50.46699142456055,
          270.82421875,
          245.21365356445312,
          52.25624084472656,
          152.73239135742188,
          100.12882232666016,
          152.62042236328125,
          39.686012268066406,
          154.37249755859375,
          125.7632064819336,
          66.96487426757812,
          141.49301147460938,
          220.2137451171875,
          303.2159729003906,
          52.43889236450195,
          330.653076171875,
          133.94009399414062,
          44.85846710205078,
          315.13177490234375,
          41.17825698852539,
          100.00308990478516,
          277.58978271484375,
          143.60455322265625,
          120.71314239501953,
          296.8758544921875,
          147.0140838623047,
          135.5582733154297,
          37.940181732177734,
          170.11659240722656,
          55.46806335449219,
          275.5049743652344,
          59.5735969543457,
          303.20513916015625,
          172.02627563476562,
          291.3523864746094,
          252.08883666992188,
          305.8414306640625,
          293.978515625,
          123.4128189086914,
          146.86524963378906,
          143.5232391357422,
          187.01539611816406,
          239.31011962890625,
          63.28829574584961,
          90.7710952758789,
          296.73187255859375,
          177.90237426757812,
          77.64763641357422,
          254.97415161132812,
          80.48835754394531,
          53.39474105834961,
          44.7458610534668,
          113.1849594116211,
          134.27134704589844,
          39.21678161621094,
          50.807247161865234
         ],
         "type": "box"
        },
        {
         "name": "Real 13",
         "y": [
          64.86250305175781,
          277.3500061035156,
          40.98500061035156,
          318.9599914550781,
          168.49000549316406,
          102.31999969482422,
          140.91000366210938,
          43.3125,
          50.724998474121094,
          282.510009765625,
          247.3000030517578,
          48.54249954223633,
          140.82000732421875,
          124.82499694824219,
          160.25,
          42.70000076293945,
          172.13999938964844,
          130.14999389648438,
          61.66749954223633,
          133.19000244140625,
          222.75,
          304.2099914550781,
          53.61249923706055,
          338.04998779296875,
          144.5,
          47.90250015258789,
          331.2099914550781,
          43.75749969482422,
          124.37000274658203,
          269.5,
          130.05999755859375,
          120.08999633789062,
          283.2200012207031,
          155.3300018310547,
          124.97000122070312,
          37.6875,
          175.52999877929688,
          60.127498626708984,
          262.5199890136719,
          63.95500183105469,
          296.30999755859375,
          139.05999755859375,
          304.1000061035156,
          260.8999938964844,
          293.1099853515625,
          329.3699951171875,
          133.92999267578125,
          143.2899932861328,
          140.08999633789062,
          191.80999755859375,
          236.14999389648438,
          60.227500915527344,
          95.0,
          294.95001220703125,
          174.2100067138672,
          77.37750244140625,
          237.4499969482422,
          83.36499786376953,
          56.0724983215332,
          46.290000915527344,
          115.91000366210938,
          131.4600067138672,
          39.435001373291016,
          52.48749923706055
         ],
         "type": "box"
        }
       ],
       "layout": {
        "template": {
         "data": {
          "histogram2dcontour": [
           {
            "type": "histogram2dcontour",
            "colorbar": {
             "outlinewidth": 0,
             "ticks": ""
            },
            "colorscale": [
             [
              0.0,
              "#0d0887"
             ],
             [
              0.1111111111111111,
              "#46039f"
             ],
             [
              0.2222222222222222,
              "#7201a8"
             ],
             [
              0.3333333333333333,
              "#9c179e"
             ],
             [
              0.4444444444444444,
              "#bd3786"
             ],
             [
              0.5555555555555556,
              "#d8576b"
             ],
             [
              0.6666666666666666,
              "#ed7953"
             ],
             [
              0.7777777777777778,
              "#fb9f3a"
             ],
             [
              0.8888888888888888,
              "#fdca26"
             ],
             [
              1.0,
              "#f0f921"
             ]
            ]
           }
          ],
          "choropleth": [
           {
            "type": "choropleth",
            "colorbar": {
             "outlinewidth": 0,
             "ticks": ""
            }
           }
          ],
          "histogram2d": [
           {
            "type": "histogram2d",
            "colorbar": {
             "outlinewidth": 0,
             "ticks": ""
            },
            "colorscale": [
             [
              0.0,
              "#0d0887"
             ],
             [
              0.1111111111111111,
              "#46039f"
             ],
             [
              0.2222222222222222,
              "#7201a8"
             ],
             [
              0.3333333333333333,
              "#9c179e"
             ],
             [
              0.4444444444444444,
              "#bd3786"
             ],
             [
              0.5555555555555556,
              "#d8576b"
             ],
             [
              0.6666666666666666,
              "#ed7953"
             ],
             [
              0.7777777777777778,
              "#fb9f3a"
             ],
             [
              0.8888888888888888,
              "#fdca26"
             ],
             [
              1.0,
              "#f0f921"
             ]
            ]
           }
          ],
          "heatmap": [
           {
            "type": "heatmap",
            "colorbar": {
             "outlinewidth": 0,
             "ticks": ""
            },
            "colorscale": [
             [
              0.0,
              "#0d0887"
             ],
             [
              0.1111111111111111,
              "#46039f"
             ],
             [
              0.2222222222222222,
              "#7201a8"
             ],
             [
              0.3333333333333333,
              "#9c179e"
             ],
             [
              0.4444444444444444,
              "#bd3786"
             ],
             [
              0.5555555555555556,
              "#d8576b"
             ],
             [
              0.6666666666666666,
              "#ed7953"
             ],
             [
              0.7777777777777778,
              "#fb9f3a"
             ],
             [
              0.8888888888888888,
              "#fdca26"
             ],
             [
              1.0,
              "#f0f921"
             ]
            ]
           }
          ],
          "heatmapgl": [
           {
            "type": "heatmapgl",
            "colorbar": {
             "outlinewidth": 0,
             "ticks": ""
            },
            "colorscale": [
             [
              0.0,
              "#0d0887"
             ],
             [
              0.1111111111111111,
              "#46039f"
             ],
             [
              0.2222222222222222,
              "#7201a8"
             ],
             [
              0.3333333333333333,
              "#9c179e"
             ],
             [
              0.4444444444444444,
              "#bd3786"
             ],
             [
              0.5555555555555556,
              "#d8576b"
             ],
             [
              0.6666666666666666,
              "#ed7953"
             ],
             [
              0.7777777777777778,
              "#fb9f3a"
             ],
             [
              0.8888888888888888,
              "#fdca26"
             ],
             [
              1.0,
              "#f0f921"
             ]
            ]
           }
          ],
          "contourcarpet": [
           {
            "type": "contourcarpet",
            "colorbar": {
             "outlinewidth": 0,
             "ticks": ""
            }
           }
          ],
          "contour": [
           {
            "type": "contour",
            "colorbar": {
             "outlinewidth": 0,
             "ticks": ""
            },
            "colorscale": [
             [
              0.0,
              "#0d0887"
             ],
             [
              0.1111111111111111,
              "#46039f"
             ],
             [
              0.2222222222222222,
              "#7201a8"
             ],
             [
              0.3333333333333333,
              "#9c179e"
             ],
             [
              0.4444444444444444,
              "#bd3786"
             ],
             [
              0.5555555555555556,
              "#d8576b"
             ],
             [
              0.6666666666666666,
              "#ed7953"
             ],
             [
              0.7777777777777778,
              "#fb9f3a"
             ],
             [
              0.8888888888888888,
              "#fdca26"
             ],
             [
              1.0,
              "#f0f921"
             ]
            ]
           }
          ],
          "surface": [
           {
            "type": "surface",
            "colorbar": {
             "outlinewidth": 0,
             "ticks": ""
            },
            "colorscale": [
             [
              0.0,
              "#0d0887"
             ],
             [
              0.1111111111111111,
              "#46039f"
             ],
             [
              0.2222222222222222,
              "#7201a8"
             ],
             [
              0.3333333333333333,
              "#9c179e"
             ],
             [
              0.4444444444444444,
              "#bd3786"
             ],
             [
              0.5555555555555556,
              "#d8576b"
             ],
             [
              0.6666666666666666,
              "#ed7953"
             ],
             [
              0.7777777777777778,
              "#fb9f3a"
             ],
             [
              0.8888888888888888,
              "#fdca26"
             ],
             [
              1.0,
              "#f0f921"
             ]
            ]
           }
          ],
          "mesh3d": [
           {
            "type": "mesh3d",
            "colorbar": {
             "outlinewidth": 0,
             "ticks": ""
            }
           }
          ],
          "scatter": [
           {
            "fillpattern": {
             "fillmode": "overlay",
             "size": 10,
             "solidity": 0.2
            },
            "type": "scatter"
           }
          ],
          "parcoords": [
           {
            "type": "parcoords",
            "line": {
             "colorbar": {
              "outlinewidth": 0,
              "ticks": ""
             }
            }
           }
          ],
          "scatterpolargl": [
           {
            "type": "scatterpolargl",
            "marker": {
             "colorbar": {
              "outlinewidth": 0,
              "ticks": ""
             }
            }
           }
          ],
          "bar": [
           {
            "error_x": {
             "color": "#2a3f5f"
            },
            "error_y": {
             "color": "#2a3f5f"
            },
            "marker": {
             "line": {
              "color": "#E5ECF6",
              "width": 0.5
             },
             "pattern": {
              "fillmode": "overlay",
              "size": 10,
              "solidity": 0.2
             }
            },
            "type": "bar"
           }
          ],
          "scattergeo": [
           {
            "type": "scattergeo",
            "marker": {
             "colorbar": {
              "outlinewidth": 0,
              "ticks": ""
             }
            }
           }
          ],
          "scatterpolar": [
           {
            "type": "scatterpolar",
            "marker": {
             "colorbar": {
              "outlinewidth": 0,
              "ticks": ""
             }
            }
           }
          ],
          "histogram": [
           {
            "marker": {
             "pattern": {
              "fillmode": "overlay",
              "size": 10,
              "solidity": 0.2
             }
            },
            "type": "histogram"
           }
          ],
          "scattergl": [
           {
            "type": "scattergl",
            "marker": {
             "colorbar": {
              "outlinewidth": 0,
              "ticks": ""
             }
            }
           }
          ],
          "scatter3d": [
           {
            "type": "scatter3d",
            "line": {
             "colorbar": {
              "outlinewidth": 0,
              "ticks": ""
             }
            },
            "marker": {
             "colorbar": {
              "outlinewidth": 0,
              "ticks": ""
             }
            }
           }
          ],
          "scattermapbox": [
           {
            "type": "scattermapbox",
            "marker": {
             "colorbar": {
              "outlinewidth": 0,
              "ticks": ""
             }
            }
           }
          ],
          "scatterternary": [
           {
            "type": "scatterternary",
            "marker": {
             "colorbar": {
              "outlinewidth": 0,
              "ticks": ""
             }
            }
           }
          ],
          "scattercarpet": [
           {
            "type": "scattercarpet",
            "marker": {
             "colorbar": {
              "outlinewidth": 0,
              "ticks": ""
             }
            }
           }
          ],
          "carpet": [
           {
            "aaxis": {
             "endlinecolor": "#2a3f5f",
             "gridcolor": "white",
             "linecolor": "white",
             "minorgridcolor": "white",
             "startlinecolor": "#2a3f5f"
            },
            "baxis": {
             "endlinecolor": "#2a3f5f",
             "gridcolor": "white",
             "linecolor": "white",
             "minorgridcolor": "white",
             "startlinecolor": "#2a3f5f"
            },
            "type": "carpet"
           }
          ],
          "table": [
           {
            "cells": {
             "fill": {
              "color": "#EBF0F8"
             },
             "line": {
              "color": "white"
             }
            },
            "header": {
             "fill": {
              "color": "#C8D4E3"
             },
             "line": {
              "color": "white"
             }
            },
            "type": "table"
           }
          ],
          "barpolar": [
           {
            "marker": {
             "line": {
              "color": "#E5ECF6",
              "width": 0.5
             },
             "pattern": {
              "fillmode": "overlay",
              "size": 10,
              "solidity": 0.2
             }
            },
            "type": "barpolar"
           }
          ],
          "pie": [
           {
            "automargin": true,
            "type": "pie"
           }
          ]
         },
         "layout": {
          "autotypenumbers": "strict",
          "colorway": [
           "#636efa",
           "#EF553B",
           "#00cc96",
           "#ab63fa",
           "#FFA15A",
           "#19d3f3",
           "#FF6692",
           "#B6E880",
           "#FF97FF",
           "#FECB52"
          ],
          "font": {
           "color": "#2a3f5f"
          },
          "hovermode": "closest",
          "hoverlabel": {
           "align": "left"
          },
          "paper_bgcolor": "white",
          "plot_bgcolor": "#E5ECF6",
          "polar": {
           "bgcolor": "#E5ECF6",
           "angularaxis": {
            "gridcolor": "white",
            "linecolor": "white",
            "ticks": ""
           },
           "radialaxis": {
            "gridcolor": "white",
            "linecolor": "white",
            "ticks": ""
           }
          },
          "ternary": {
           "bgcolor": "#E5ECF6",
           "aaxis": {
            "gridcolor": "white",
            "linecolor": "white",
            "ticks": ""
           },
           "baxis": {
            "gridcolor": "white",
            "linecolor": "white",
            "ticks": ""
           },
           "caxis": {
            "gridcolor": "white",
            "linecolor": "white",
            "ticks": ""
           }
          },
          "coloraxis": {
           "colorbar": {
            "outlinewidth": 0,
            "ticks": ""
           }
          },
          "colorscale": {
           "sequential": [
            [
             0.0,
             "#0d0887"
            ],
            [
             0.1111111111111111,
             "#46039f"
            ],
            [
             0.2222222222222222,
             "#7201a8"
            ],
            [
             0.3333333333333333,
             "#9c179e"
            ],
            [
             0.4444444444444444,
             "#bd3786"
            ],
            [
             0.5555555555555556,
             "#d8576b"
            ],
            [
             0.6666666666666666,
             "#ed7953"
            ],
            [
             0.7777777777777778,
             "#fb9f3a"
            ],
            [
             0.8888888888888888,
             "#fdca26"
            ],
            [
             1.0,
             "#f0f921"
            ]
           ],
           "sequentialminus": [
            [
             0.0,
             "#0d0887"
            ],
            [
             0.1111111111111111,
             "#46039f"
            ],
            [
             0.2222222222222222,
             "#7201a8"
            ],
            [
             0.3333333333333333,
             "#9c179e"
            ],
            [
             0.4444444444444444,
             "#bd3786"
            ],
            [
             0.5555555555555556,
             "#d8576b"
            ],
            [
             0.6666666666666666,
             "#ed7953"
            ],
            [
             0.7777777777777778,
             "#fb9f3a"
            ],
            [
             0.8888888888888888,
             "#fdca26"
            ],
            [
             1.0,
             "#f0f921"
            ]
           ],
           "diverging": [
            [
             0,
             "#8e0152"
            ],
            [
             0.1,
             "#c51b7d"
            ],
            [
             0.2,
             "#de77ae"
            ],
            [
             0.3,
             "#f1b6da"
            ],
            [
             0.4,
             "#fde0ef"
            ],
            [
             0.5,
             "#f7f7f7"
            ],
            [
             0.6,
             "#e6f5d0"
            ],
            [
             0.7,
             "#b8e186"
            ],
            [
             0.8,
             "#7fbc41"
            ],
            [
             0.9,
             "#4d9221"
            ],
            [
             1,
             "#276419"
            ]
           ]
          },
          "xaxis": {
           "gridcolor": "white",
           "linecolor": "white",
           "ticks": "",
           "title": {
            "standoff": 15
           },
           "zerolinecolor": "white",
           "automargin": true,
           "zerolinewidth": 2
          },
          "yaxis": {
           "gridcolor": "white",
           "linecolor": "white",
           "ticks": "",
           "title": {
            "standoff": 15
           },
           "zerolinecolor": "white",
           "automargin": true,
           "zerolinewidth": 2
          },
          "scene": {
           "xaxis": {
            "backgroundcolor": "#E5ECF6",
            "gridcolor": "white",
            "linecolor": "white",
            "showbackground": true,
            "ticks": "",
            "zerolinecolor": "white",
            "gridwidth": 2
           },
           "yaxis": {
            "backgroundcolor": "#E5ECF6",
            "gridcolor": "white",
            "linecolor": "white",
            "showbackground": true,
            "ticks": "",
            "zerolinecolor": "white",
            "gridwidth": 2
           },
           "zaxis": {
            "backgroundcolor": "#E5ECF6",
            "gridcolor": "white",
            "linecolor": "white",
            "showbackground": true,
            "ticks": "",
            "zerolinecolor": "white",
            "gridwidth": 2
           }
          },
          "shapedefaults": {
           "line": {
            "color": "#2a3f5f"
           }
          },
          "annotationdefaults": {
           "arrowcolor": "#2a3f5f",
           "arrowhead": 0,
           "arrowwidth": 1
          },
          "geo": {
           "bgcolor": "white",
           "landcolor": "#E5ECF6",
           "subunitcolor": "white",
           "showland": true,
           "showlakes": true,
           "lakecolor": "white"
          },
          "title": {
           "x": 0.05
          },
          "mapbox": {
           "style": "light"
          }
         }
        },
        "title": {
         "text": "Future Performance of Cluster"
        },
        "xaxis": {
         "title": {
          "text": "Steps in future"
         }
        },
        "yaxis": {
         "title": {
          "text": "Cumulative Percent Change"
         },
         "range": [
          -25,
          25
         ]
        }
       },
       "config": {
        "plotlyServerURL": "https://plot.ly"
       }
      },
      "text/html": [
       "<div>                            <div id=\"0bf8f148-6c60-44c7-bb56-ce0be6f4c130\" class=\"plotly-graph-div\" style=\"height:525px; width:100%;\"></div>            <script type=\"text/javascript\">                require([\"plotly\"], function(Plotly) {                    window.PLOTLYENV=window.PLOTLYENV || {};                                    if (document.getElementById(\"0bf8f148-6c60-44c7-bb56-ce0be6f4c130\")) {                    Plotly.newPlot(                        \"0bf8f148-6c60-44c7-bb56-ce0be6f4c130\",                        [{\"name\":\"Predicted 0\",\"y\":[63.75094985961914,283.52587890625,39.3369026184082,329.3602294921875,153.5680389404297,113.23709106445312,141.54698181152344,43.7495231628418,50.44684600830078,271.7638244628906,240.4833221435547,54.048274993896484,151.27447509765625,98.82942199707031,150.1108856201172,39.536136627197266,152.9746856689453,123.50323486328125,63.882877349853516,140.71112060546875,216.9375,300.04510498046875,52.872344970703125,326.7672119140625,134.162353515625,45.121944427490234,311.4869079589844,40.024288177490234,97.9782943725586,274.14727783203125,139.6485137939453,119.32058715820312,298.3966064453125,144.31886291503906,134.73928833007812,37.777191162109375,171.09437561035156,55.778594970703125,272.4124755859375,59.74435043334961,299.2247009277344,174.47824096679688,288.0832824707031,249.62184143066406,304.4783935546875,289.7149658203125,122.04302215576172,147.69674682617188,143.63571166992188,185.09072875976562,238.16542053222656,61.97379684448242,89.42688751220703,295.09259033203125,175.47328186035156,76.02970886230469,252.14181518554688,78.90522766113281,54.3562126159668,44.14302062988281,112.43646240234375,134.36611938476562,39.275508880615234,50.70279312133789],\"type\":\"box\"},{\"name\":\"Real 0\",\"y\":[66.11750030517578,280.5199890136719,43.560001373291016,330.2200012207031,152.9499969482422,112.12999725341797,146.9199981689453,42.817501068115234,50.96500015258789,266.69000244140625,243.02999877929688,53.772499084472656,157.64999389648438,113.90249633789062,151.60000610351562,39.07500076293945,165.3800048828125,125.27999877929688,68.33999633789062,142.05999755859375,214.2899932861328,283.5199890136719,55.1974983215332,328.3900146484375,133.97999572753906,45.97999954223633,312.30999755859375,43.247501373291016,109.66500091552734,280.80999755859375,149.63999938964844,121.41999816894531,301.3699951171875,145.92999267578125,134.72000122070312,41.51750183105469,176.27999877929688,54.7400016784668,274.7300109863281,58.83000183105469,299.3500061035156,170.88999938964844,278.9100036621094,249.67999267578125,299.8699951171875,296.30999755859375,131.39999389648438,142.94000244140625,156.89999389648438,186.00999450683594,240.74000549316406,69.49250030517578,93.58000183105469,311.2099914550781,176.3800048828125,79.23999786376953,258.0899963378906,78.28500366210938,54.560001373291016,44.459999084472656,112.36000061035156,134.42999267578125,42.157501220703125,54.82749938964844],\"type\":\"box\"},{\"name\":\"Predicted 1\",\"y\":[64.26264953613281,285.35711669921875,39.369503021240234,332.0904541015625,155.76124572753906,112.63842010498047,142.57130432128906,44.2603645324707,49.450355529785156,270.522705078125,239.52163696289062,53.55575942993164,152.18136596679688,100.22599792480469,151.13656616210938,39.608856201171875,154.5887451171875,124.6237564086914,66.14086151123047,141.81594848632812,216.8240966796875,300.6172790527344,52.296443939208984,329.1024475097656,134.9656219482422,45.13266372680664,314.96392822265625,40.14198684692383,99.20365142822266,275.8785705566406,141.60848999023438,118.55577850341797,299.1938781738281,146.84765625,136.54043579101562,37.91558074951172,171.64108276367188,54.060890197753906,272.7279052734375,59.41112518310547,303.01239013671875,176.07928466796875,289.1363830566406,252.0660858154297,305.8024597167969,291.05279541015625,121.44600677490234,147.77651977539062,143.44296264648438,186.5513153076172,239.0026397705078,63.3723030090332,89.44937896728516,296.4496154785156,176.4252471923828,77.20614624023438,251.68991088867188,79.89913177490234,53.908138275146484,44.5738639831543,112.96248626708984,133.95040893554688,39.330196380615234,50.71120834350586],\"type\":\"box\"},{\"name\":\"Real 1\",\"y\":[65.66000366210938,285.29998779296875,45.23500061035156,329.05999755859375,151.60000610351562,110.8499984741211,145.3699951171875,42.212501525878906,51.13249969482422,265.0199890136719,248.14999389648438,54.95000076293945,157.9600067138672,111.11250305175781,152.8699951171875,38.66999816894531,168.82000732421875,124.61000061035156,74.70249938964844,137.08999633789062,216.00999450683594,284.0,55.54750061035156,332.5799865722656,133.6999969482422,46.349998474121094,310.1099853515625,43.10749816894531,110.0625,274.0299987792969,148.83999633789062,116.36000061035156,296.9700012207031,143.0,134.38999938964844,40.22249984741211,180.3300018310547,55.20500183105469,264.5799865722656,58.592498779296875,294.1700134277344,168.07000732421875,275.8500061035156,247.39999389648438,294.29998779296875,302.75,132.60000610351562,143.42999267578125,153.72000122070312,184.9199981689453,248.8800048828125,60.5525016784668,93.08000183105469,302.3800048828125,178.61000061035156,78.16999816894531,258.5199890136719,79.80750274658203,54.592498779296875,43.20000076293945,112.16999816894531,132.02999877929688,42.275001525878906,55.162498474121094],\"type\":\"box\"},{\"name\":\"Predicted 2\",\"y\":[64.34038543701172,285.2499084472656,39.936458587646484,333.16107177734375,156.43063354492188,111.83618927001953,141.94204711914062,44.34391403198242,49.47376251220703,270.7884216308594,239.70556640625,53.182640075683594,152.31466674804688,100.57706451416016,151.29364013671875,39.61466598510742,154.25003051757812,124.78379821777344,65.56135559082031,142.00086975097656,218.0187225341797,300.8470458984375,52.3560676574707,329.4676818847656,134.96124267578125,44.89891052246094,314.5910339355469,40.18790817260742,99.41682434082031,276.1437072753906,141.9088592529297,118.69300079345703,299.6152038574219,146.74099731445312,136.3525390625,37.936824798583984,170.901123046875,54.03322219848633,273.6246337890625,59.30392074584961,301.56207275390625,176.35739135742188,289.5825500488281,253.0230255126953,303.5872802734375,291.2421875,122.6252212524414,147.62484741210938,143.58154296875,186.74771118164062,240.1511688232422,61.5814094543457,89.64042663574219,296.1204833984375,176.63938903808594,77.38665008544922,251.02490234375,80.05152893066406,53.74317169189453,44.655391693115234,113.1543197631836,134.4987335205078,39.24671173095703,50.799522399902344],\"type\":\"box\"},{\"name\":\"Real 2\",\"y\":[66.44000244140625,286.3599853515625,44.88750076293945,328.6499938964844,156.7899932861328,112.26000213623047,141.91000366210938,41.23500061035156,51.869998931884766,268.7200012207031,245.17999267578125,54.07500076293945,159.47999572753906,112.72750091552734,150.58999633789062,41.3125,170.2100067138672,124.27999877929688,72.33000183105469,131.9600067138672,211.8000030517578,281.9200134277344,55.10499954223633,335.3999938964844,133.41000366210938,46.99250030517578,308.9700012207031,42.962501525878906,113.90249633789062,280.7200012207031,148.7100067138672,121.08999633789062,285.260009765625,144.2899932861328,133.5800018310547,39.20750045776367,179.2899932861328,56.752498626708984,269.5,58.81999969482422,283.5199890136719,170.1699981689453,288.5,247.3000030517578,294.79998779296875,304.2099914550781,132.10000610351562,145.85000610351562,152.74000549316406,185.00999450683594,249.1999969482422,63.21500015258789,94.16999816894531,295.0400085449219,180.19000244140625,77.83499908447266,264.4599914550781,79.2125015258789,55.00749969482422,41.43000030517578,112.02999877929688,134.5,42.73749923706055,55.682498931884766],\"type\":\"box\"},{\"name\":\"Predicted 3\",\"y\":[64.35313415527344,285.1905212402344,39.945945739746094,331.8194274902344,156.48822021484375,111.80643463134766,141.9311981201172,44.35475158691406,49.484683990478516,270.82666015625,240.29486083984375,53.14533615112305,152.3365478515625,101.10074615478516,151.31532287597656,39.615638732910156,156.0845947265625,125.58953857421875,67.9498519897461,142.21514892578125,218.04185485839844,300.95831298828125,52.73053741455078,330.07135009765625,135.28968811035156,44.89323806762695,313.58856201171875,40.1967887878418,99.83646392822266,274.3909606933594,142.73294067382812,118.7119140625,299.6732482910156,146.905517578125,136.1622314453125,37.93973922729492,171.94203186035156,54.22031021118164,275.0608215332031,59.1904182434082,300.3509216308594,175.39581298828125,289.3496398925781,253.17300415039062,303.10101318359375,293.5078125,122.28518676757812,147.9730987548828,143.60061645507812,186.78164672851562,240.22067260742188,61.85019302368164,89.64947509765625,298.3822021484375,176.68878173828125,77.41160583496094,251.70538330078125,80.07308959960938,53.61078643798828,44.6612434387207,113.18079376220703,134.90960693359375,39.22135543823242,50.81330108642578],\"type\":\"box\"},{\"name\":\"Real 3\",\"y\":[66.7750015258789,280.80999755859375,44.64500045776367,320.7699890136719,157.35000610351562,106.16000366210938,142.8300018310547,43.192501068115234,51.790000915527344,271.3999938964844,243.0800018310547,53.060001373291016,166.02000427246094,109.375,148.5,41.61000061035156,174.07000732421875,125.05999755859375,75.68499755859375,134.13999938964844,210.52000427246094,289.1000061035156,56.23749923706055,335.94000244140625,133.11000061035156,47.64500045776367,309.4599914550781,42.76750183105469,111.11250305175781,270.2200012207031,151.2100067138672,119.9800033569336,282.05999755859375,145.42999267578125,133.47999572753906,37.682498931884766,179.3800048828125,56.76499938964844,260.54998779296875,59.102500915527344,284.0,158.17999267578125,285.5899963378906,245.7100067138672,298.5799865722656,307.2900085449219,131.49000549316406,146.8300018310547,150.42999267578125,183.9600067138672,246.7899932861328,61.66749954223633,96.06999969482422,295.0,184.1199951171875,78.80999755859375,266.6499938964844,79.72250366210938,54.415000915527344,41.310001373291016,112.52999877929688,134.16000366210938,41.369998931884766,53.772499084472656],\"type\":\"box\"},{\"name\":\"Predicted 4\",\"y\":[64.35233306884766,285.1802062988281,39.363651275634766,332.199462890625,156.4971466064453,111.85909271240234,141.32022094726562,44.350284576416016,49.48545455932617,270.9131774902344,240.45050048828125,53.26576232910156,152.3659210205078,100.99732208251953,151.31838989257812,38.69124984741211,155.27096557617188,125.59318542480469,67.38729858398438,142.3516387939453,217.76190185546875,301.2516784667969,53.13611602783203,329.6247253417969,135.34251403808594,44.85017395019531,313.42266845703125,40.20599365234375,100.02974700927734,274.2740173339844,141.94476318359375,118.71495819091797,299.68115234375,146.90867614746094,135.04153442382812,37.94013214111328,171.45974731445312,54.47844314575195,276.58050537109375,58.96040344238281,300.32135009765625,172.38397216796875,289.36444091796875,253.4968719482422,303.14166259765625,293.08416748046875,121.76900482177734,147.97666931152344,143.60324096679688,185.92208862304688,241.08274841308594,61.56172180175781,89.65065002441406,296.2674865722656,176.70217895507812,77.41509246826172,251.8990478515625,80.07603454589844,53.36520004272461,44.729793548583984,113.18437957763672,134.4746551513672,39.217411041259766,50.87376022338867],\"type\":\"box\"},{\"name\":\"Real 4\",\"y\":[66.57250213623047,274.0299987792969,46.20500183105469,319.5299987792969,162.50999450683594,105.91000366210938,141.5,42.084999084472656,51.31999969482422,270.8999938964844,243.1199951171875,53.32500076293945,156.77000427246094,113.01000213623047,150.47000122070312,41.630001068115234,174.72000122070312,123.54000091552734,73.2300033569336,134.99000549316406,213.25999450683594,283.1099853515625,56.435001373291016,333.67999267578125,134.77999877929688,47.587501525878906,311.739990234375,43.125,112.72750091552734,283.2200012207031,145.3800048828125,121.95999908447266,287.6199951171875,150.82000732421875,131.4600067138672,36.70750045776367,178.1999969482422,56.099998474121094,255.35000610351562,60.127498626708984,281.9200134277344,162.00999450683594,280.07000732421875,250.7899932861328,299.55999755859375,308.2300109863281,132.32000732421875,146.9199981689453,150.77000427246094,187.0,234.24000549316406,61.19499969482422,96.44000244140625,300.4700012207031,187.64999389648438,79.68250274658203,251.99000549316406,79.18250274658203,55.1974983215332,40.73500061035156,112.26000213623047,134.83999633789062,40.98500061035156,54.95000076293945],\"type\":\"box\"},{\"name\":\"Predicted 5\",\"y\":[64.35502624511719,285.1785888671875,39.363365173339844,330.4740295410156,156.49630737304688,112.20519256591797,141.20358276367188,44.34724044799805,49.485591888427734,271.3545837402344,240.52296447753906,53.2495231628418,152.43978881835938,101.19650268554688,151.3187713623047,39.4652214050293,155.25912475585938,125.59679412841797,68.34888458251953,142.3848876953125,217.75762939453125,303.0089416503906,53.29047775268555,329.84814453125,135.35592651367188,44.860355377197266,315.58978271484375,40.28360366821289,100.6572036743164,274.25640869140625,141.95526123046875,118.7662124633789,299.68218994140625,146.8801727294922,134.892333984375,37.94020462036133,172.52537536621094,55.942054748535156,273.85736083984375,59.045013427734375,300.4115905761719,173.35888671875,289.2271423339844,250.65692138671875,303.5231628417969,292.1512756347656,121.62823486328125,147.9782257080078,143.603759765625,185.82962036132812,240.18734741210938,60.37688446044922,89.65080261230469,296.2772521972656,176.7135467529297,77.41576385498047,251.8946990966797,80.07649230957031,53.61021041870117,44.73006820678711,113.18487548828125,134.84799194335938,39.21686553955078,50.87502670288086],\"type\":\"box\"},{\"name\":\"Real 5\",\"y\":[65.79750061035156,280.7200012207031,44.17250061035156,317.010009765625,161.50999450683594,109.56999969482422,142.64999389648438,41.619998931884766,51.07500076293945,271.6000061035156,246.47999572753906,54.71500015258789,157.27999877929688,115.01000213623047,152.58999633789062,42.8125,175.60000610351562,125.88999938964844,72.25749969482422,133.94000244140625,214.1999969482422,288.760009765625,56.814998626708984,323.3800048828125,136.3300018310547,46.970001220703125,314.0,43.875,109.375,289.6300048828125,146.13999938964844,121.02999877929688,279.8299865722656,154.5,132.5399932861328,39.29249954223633,177.57000732421875,56.75749969482422,261.1199951171875,59.9900016784668,289.1000061035156,172.7899932861328,276.44000244140625,253.80999755859375,299.3500061035156,307.4100036621094,132.4499969482422,145.3699951171875,151.75999450683594,186.67999267578125,229.25,57.310001373291016,96.11000061035156,299.5,187.8699951171875,79.14250183105469,252.22000122070312,79.52749633789062,55.54750061035156,40.912498474121094,111.69999694824219,133.11000061035156,41.51750183105469,54.07500076293945],\"type\":\"box\"},{\"name\":\"Predicted 6\",\"y\":[64.35565185546875,283.38848876953125,39.363346099853516,331.7958679199219,157.4220428466797,112.46570587158203,141.07467651367188,44.350528717041016,49.485836029052734,270.8326721191406,240.61489868164062,53.160682678222656,152.45367431640625,101.22371673583984,151.31881713867188,39.66225814819336,155.1983642578125,125.59237670898438,68.57476806640625,141.29840087890625,217.78790283203125,305.0212707519531,53.288185119628906,330.20635986328125,135.3650360107422,44.81376266479492,315.4177551269531,40.51893997192383,100.56375885009766,274.2542419433594,142.59205627441406,119.26872253417969,299.19061279296875,146.19143676757812,134.88446044921875,37.94021224975586,171.43536376953125,55.9503059387207,273.969482421875,59.27992630004883,300.8119201660156,172.48497009277344,290.4610290527344,252.09613037109375,305.49578857421875,292.147705078125,121.6282958984375,147.47666931152344,142.53125,186.05810546875,239.0393524169922,60.417320251464844,90.72090911865234,296.277587890625,176.370849609375,77.41595458984375,251.89547729492188,80.07657623291016,53.66927719116211,44.73014450073242,113.18494415283203,134.94825744628906,39.216793060302734,51.0098991394043],\"type\":\"box\"},{\"name\":\"Real 6\",\"y\":[65.50250244140625,270.2200012207031,43.68000030517578,317.5400085449219,160.00999450683594,107.5999984741211,139.13999938964844,41.94499969482422,51.15250015258789,277.6499938964844,245.1699981689453,55.55500030517578,152.05999755859375,114.90750122070312,152.99000549316406,43.54499816894531,178.9600067138672,125.9000015258789,66.5425033569336,137.38999938964844,214.1300048828125,293.1099853515625,57.31999969482422,325.260009765625,136.9600067138672,47.75749969482422,318.5199890136719,44.74250030517578,113.01000213623047,277.5199890136719,148.7100067138672,123.98999786376953,280.5199890136719,151.72999572753906,127.8499984741211,39.037498474121094,182.00999450683594,57.522499084472656,261.5,60.79499816894531,283.1099853515625,164.50999450683594,287.1499938964844,252.57000732421875,294.1700134277344,310.760009765625,132.85000610351562,141.91000366210938,149.83999633789062,185.27000427246094,225.41000366210938,56.092498779296875,95.0,290.7300109863281,189.4600067138672,79.42500305175781,245.3800048828125,79.5625,55.10499954223633,41.05500030517578,111.75,133.5,40.22249984741211,53.060001373291016],\"type\":\"box\"},{\"name\":\"Predicted 7\",\"y\":[64.35624694824219,283.26715087890625,39.36334228515625,330.52716064453125,157.67933654785156,112.52930450439453,140.97816467285156,44.35634994506836,49.48870849609375,271.2665710449219,240.71592712402344,53.15212631225586,152.47930908203125,101.24614715576172,151.31881713867188,39.663936614990234,155.09939575195312,125.63957214355469,68.03079986572266,142.24783325195312,217.9614715576172,304.0245361328125,53.07313919067383,330.0494689941406,135.37423706054688,44.80508041381836,315.68170166015625,40.673770904541016,100.78652954101562,274.9360656738281,141.9568328857422,120.60125732421875,299.1751708984375,145.2986297607422,134.92349243164062,37.94021224975586,171.57080078125,55.3666877746582,274.6995849609375,59.15260314941406,303.08929443359375,171.7705535888672,289.3795471191406,253.44920349121094,305.63214111328125,292.1476745605469,121.64854431152344,147.43894958496094,142.58299255371094,186.9971160888672,239.0340118408203,60.69466781616211,90.77240753173828,295.48175048828125,175.8551025390625,77.42230987548828,252.24258422851562,80.07665252685547,54.01931381225586,44.7304801940918,113.18494415283203,135.1771240234375,39.2167854309082,51.021915435791016],\"type\":\"box\"},{\"name\":\"Real 7\",\"y\":[65.44499969482422,283.2200012207031,42.122501373291016,312.1400146484375,166.1300048828125,111.0,141.11000061035156,41.66999816894531,50.16749954223633,277.6600036621094,250.77999877929688,51.869998931884766,154.50999450683594,114.60749816894531,155.85000610351562,43.560001373291016,177.77000427246094,126.73999786376953,71.33499908447266,136.75999450683594,219.27999877929688,294.8500061035156,58.01750183105469,326.7900085449219,137.27000427246094,47.83250045776367,318.3399963378906,44.59749984741211,115.01000213623047,284.4700012207031,147.9600067138672,125.56999969482422,285.29998779296875,154.64999389648438,128.10000610351562,39.057498931884766,179.6999969482422,59.0525016784668,266.82000732421875,60.89500045776367,288.760009765625,170.5500030517578,294.3900146484375,253.58999633789062,283.5199890136719,309.1600036621094,135.16000366210938,142.8300018310547,142.47999572753906,188.05999755859375,225.75,61.720001220703125,95.3499984741211,287.92999267578125,189.6999969482422,79.80750274658203,244.74000549316406,79.48500061035156,56.23749923706055,40.58000183105469,110.38999938964844,131.94000244140625,39.20750045776367,53.32500076293945],\"type\":\"box\"},{\"name\":\"Predicted 8\",\"y\":[64.35627746582031,283.2487487792969,39.36334228515625,333.11383056640625,157.71890258789062,112.71611785888672,140.7265625,44.352420806884766,49.50271224975586,270.9726867675781,240.81268310546875,53.11689376831055,152.47628784179688,101.13461303710938,151.31883239746094,39.66435241699219,155.1022186279297,126.0879898071289,68.59861755371094,142.12611389160156,218.00381469726562,304.51470947265625,52.77946090698242,330.0456237792969,135.47122192382812,44.82638931274414,316.4718933105469,41.06437301635742,100.82528686523438,274.26568603515625,142.59410095214844,120.61046600341797,298.26202392578125,145.4280242919922,134.87228393554688,37.94019317626953,170.64166259765625,55.449363708496094,275.189453125,59.12944412231445,304.4983825683594,171.52505493164062,289.4836730957031,252.56834411621094,304.3886413574219,293.322998046875,121.6314926147461,147.09429931640625,143.37521362304688,187.0013427734375,239.0431671142578,61.83879470825195,89.65243530273438,297.84393310546875,175.87594604492188,77.4229736328125,251.57408142089844,80.0766372680664,54.52312469482422,44.73062515258789,113.18494415283203,134.9500732421875,39.21678161621094,51.306671142578125],\"type\":\"box\"},{\"name\":\"Real 8\",\"y\":[66.59249877929688,289.6300048828125,42.400001525878906,312.7900085449219,165.80999755859375,110.70999908447266,142.0,42.09749984741211,52.630001068115234,279.92999267578125,251.72000122070312,50.397499084472656,146.5,115.5625,155.0,42.73500061035156,174.61000061035156,127.12999725341797,68.85749816894531,136.91000366210938,219.4199981689453,294.8500061035156,56.997501373291016,331.8500061035156,139.9600067138672,47.727500915527344,321.17999267578125,44.529998779296875,114.90750122070312,281.7799987792969,142.63999938964844,124.76000213623047,286.3599853515625,151.9199981689453,129.74000549316406,39.435001373291016,174.9199981689453,58.967498779296875,254.0800018310547,61.64500045776367,293.1099853515625,166.27000427246094,295.2200012207031,257.239990234375,284.0,308.1300048828125,135.69000244140625,141.5,138.1999969482422,189.25,234.24000549316406,61.380001068115234,93.12000274658203,287.7200012207031,182.91000366210938,79.57749938964844,244.52000427246094,80.4625015258789,56.435001373291016,41.314998626708984,110.51000213623047,134.32000732421875,37.682498931884766,54.71500015258789],\"type\":\"box\"},{\"name\":\"Predicted 9\",\"y\":[64.35629272460938,283.24639892578125,39.36334228515625,331.6094055175781,157.54737854003906,112.77009582519531,141.50460815429688,44.33730697631836,49.56740951538086,271.5583190917969,243.02734375,53.45322799682617,152.48211669921875,101.24747467041016,151.31903076171875,39.6658935546875,155.14718627929688,125.86009216308594,68.64356231689453,140.97747802734375,218.08279418945312,306.0195007324219,52.42167663574219,330.039794921875,135.3538055419922,44.95061111450195,317.4209899902344,41.073604583740234,100.84296417236328,274.25628662109375,144.03489685058594,119.84239196777344,299.17034912109375,145.50448608398438,135.4915313720703,37.940181732177734,170.61724853515625,55.60820007324219,274.83123779296875,59.5151252746582,303.9306640625,171.53758239746094,288.5415954589844,252.1016387939453,304.0989074707031,294.07794189453125,121.62894439697266,147.00091552734375,143.27383422851562,187.00228881835938,239.13270568847656,64.15569305419922,90.7677230834961,295.61541748046875,175.8992156982422,77.51898193359375,252.99818420410156,80.07666015625,54.562076568603516,44.73127746582031,113.18494415283203,135.3549041748047,39.21678161621094,51.15748596191406],\"type\":\"box\"},{\"name\":\"Real 9\",\"y\":[66.07250213623047,277.5199890136719,42.157501220703125,313.6400146484375,165.35000610351562,108.5,143.2899932861328,42.90250015258789,52.287498474121094,277.4200134277344,251.49000549316406,50.942501068115234,142.55999755859375,115.7074966430664,157.39999389648438,42.602500915527344,174.30999755859375,126.11000061035156,62.057498931884766,136.00999450683594,218.58999633789062,294.2300109863281,56.0724983215332,334.2900085449219,142.02000427246094,47.86249923706055,315.260009765625,43.75,114.60749816894531,289.9800109863281,137.1300048828125,120.52999877929688,280.80999755859375,150.8699951171875,130.2100067138672,39.47999954223633,172.0,58.83000183105469,253.13999938964844,62.26250076293945,294.8500061035156,161.57000732421875,300.42999267578125,257.8900146484375,281.9200134277344,310.1099853515625,136.9499969482422,142.64999389648438,142.4499969482422,189.58999633789062,228.55999755859375,64.61000061035156,92.30999755859375,280.2699890136719,177.55999755859375,77.23750305175781,242.4499969482422,80.83499908447266,56.814998626708984,42.275001525878906,112.83000183105469,134.72000122070312,36.70750045776367,55.55500030517578],\"type\":\"box\"},{\"name\":\"Predicted 10\",\"y\":[64.35629272460938,283.89324951171875,39.36332321166992,331.60736083984375,157.72271728515625,112.8075942993164,141.83123779296875,44.349464416503906,49.69367980957031,270.9497985839844,245.03244018554688,53.10935592651367,152.48480224609375,100.18331909179688,152.22039794921875,39.66904830932617,154.36695861816406,126.15206146240234,68.64289093017578,141.11929321289062,218.51026916503906,304.60296630859375,51.817726135253906,330.046142578125,134.02011108398438,45.06460189819336,312.81854248046875,41.101688385009766,100.72771453857422,276.5800476074219,144.335205078125,119.9951400756836,298.2651062011719,145.64952087402344,135.54376220703125,37.940181732177734,170.62745666503906,55.95865249633789,273.8534851074219,59.49745559692383,304.89794921875,171.57186889648438,288.50775146484375,252.8702392578125,305.402587890625,294.1112365722656,122.73258972167969,146.71316528320312,143.5911102294922,187.01229858398438,239.11399841308594,65.45015716552734,90.77102661132812,296.1513977050781,176.12548828125,77.52344512939453,253.96453857421875,80.07766723632812,54.42502975463867,44.744911193847656,113.1849594116211,135.35621643066406,39.21678161621094,50.86994934082031],\"type\":\"box\"},{\"name\":\"Real 10\",\"y\":[66.95999908447266,284.4700012207031,42.275001525878906,315.75,164.8699951171875,108.66000366210938,142.89999389648438,43.20000076293945,52.9375,277.94000244140625,249.30999755859375,52.48749923706055,147.11000061035156,118.2750015258789,159.27999877929688,42.35749816894531,178.44000244140625,127.3499984741211,69.49250030517578,135.38999938964844,222.58999633789062,292.8800048828125,55.942501068115234,337.3399963378906,144.57000732421875,47.599998474121094,313.8500061035156,44.0525016784668,115.5625,277.3500061035156,131.8800048828125,119.98999786376953,274.0299987792969,151.00999450683594,126.8499984741211,35.54750061035156,172.1699981689453,58.592498779296875,252.55999755859375,60.8224983215332,294.8500061035156,150.6199951171875,299.1600036621094,259.8900146484375,289.1000061035156,323.1700134277344,136.97000122070312,139.13999938964844,146.10000610351562,193.97000122070312,237.52999877929688,61.935001373291016,94.26000213623047,294.5899963378906,178.17999267578125,79.42250061035156,238.9499969482422,81.27999877929688,57.31999969482422,44.14250183105469,113.62000274658203,134.38999938964844,39.29249954223633,51.869998931884766],\"type\":\"box\"},{\"name\":\"Predicted 11\",\"y\":[64.3564224243164,283.2503662109375,39.36333465576172,331.58929443359375,157.68153381347656,112.91316223144531,142.75228881835938,44.349708557128906,49.7275505065918,270.8257141113281,245.25833129882812,52.645938873291016,152.58938598632812,101.11782836914062,152.39315795898438,39.67148208618164,154.37112426757812,125.84121704101562,68.63955688476562,140.99163818359375,219.53448486328125,303.46112060546875,52.06936264038086,330.1640930175781,133.9368133544922,45.024864196777344,315.5845031738281,40.9261589050293,100.85465240478516,276.67791748046875,144.22450256347656,120.09906768798828,297.8734130859375,146.85848999023438,135.5580291748047,37.940181732177734,169.91207885742188,55.91435241699219,274.8079833984375,59.48348617553711,305.5631103515625,171.86300659179688,289.760498046875,251.53517150878906,305.76568603515625,294.079345703125,122.68263244628906,146.536376953125,143.6280975341797,186.80909729003906,239.28099060058594,63.68585968017578,90.77046203613281,297.00018310546875,176.96693420410156,77.59857177734375,254.1368408203125,80.09789276123047,54.265342712402344,44.74581527709961,113.1849594116211,135.19619750976562,39.21678161621094,50.807003021240234],\"type\":\"box\"},{\"name\":\"Real 11\",\"y\":[66.8125,281.7799987792969,42.73749923706055,321.79998779296875,164.9199981689453,109.62999725341797,142.80999755859375,42.095001220703125,52.119998931884766,277.32000732421875,249.67999267578125,52.122501373291016,145.5399932861328,124.37000274658203,157.8300018310547,42.72249984741211,175.05999755859375,130.47999572753906,60.5525016784668,135.1300048828125,223.94000244140625,296.30999755859375,56.717498779296875,348.1000061035156,143.24000549316406,47.970001220703125,325.9200134277344,44.20500183105469,115.7074966430664,274.7300109863281,132.75999450683594,123.38999938964844,280.7200012207031,153.85000610351562,125.91000366210938,37.064998626708984,172.19000244140625,58.81999969482422,260.6499938964844,60.814998626708984,294.2300109863281,160.9199981689453,304.05999755859375,258.3599853515625,283.1099853515625,324.3500061035156,137.77999877929688,141.11000061035156,146.39999389648438,192.4600067138672,238.5,63.70249938964844,95.81999969482422,297.30999755859375,179.36000061035156,81.08499908447266,240.97999572753906,80.58000183105469,58.01750183105469,44.22249984741211,114.5,133.5800018310547,39.037498474121094,50.397499084472656],\"type\":\"box\"},{\"name\":\"Predicted 12\",\"y\":[64.35645294189453,283.2464294433594,39.363338470458984,330.06207275390625,157.45333862304688,112.83407592773438,142.7692108154297,44.338802337646484,50.497379302978516,270.82342529296875,244.20669555664062,52.76787185668945,152.96388244628906,101.20441436767578,152.4093017578125,39.673397064208984,155.2272186279297,125.83795166015625,66.49044036865234,140.96568298339844,220.1028594970703,304.80230712890625,51.967655181884766,330.61944580078125,133.9573974609375,44.97105026245117,315.65692138671875,40.74138641357422,99.7177963256836,276.6913757324219,144.40045166015625,120.86647033691406,297.13543701171875,147.15635681152344,135.5581512451172,37.940181732177734,169.43743896484375,55.56242370605469,273.8534851074219,59.7559928894043,304.1504821777344,171.93560791015625,288.10955810546875,250.4888458251953,305.8044128417969,294.31982421875,122.67718505859375,146.49349975585938,143.6327667236328,187.0113525390625,239.3065643310547,63.62270736694336,90.7710952758789,297.0006408691406,177.78814697265625,77.61785125732422,254.7469940185547,80.21348571777344,53.59883499145508,44.74583053588867,113.1849594116211,135.0126190185547,39.21678161621094,50.829307556152344],\"type\":\"box\"},{\"name\":\"Real 12\",\"y\":[66.04000091552734,289.9800109863281,41.369998931884766,313.3900146484375,169.24000549316406,108.0999984741211,141.50999450683594,42.51250076293945,50.71500015258789,280.9800109863281,247.39999389648438,51.11750030517578,149.24000549316406,125.85749816894531,158.92999267578125,42.54499816894531,171.8300018310547,129.63999938964844,63.21500015258789,135.3699951171875,221.02000427246094,302.75,54.09000015258789,342.3299865722656,145.11000061035156,47.86000061035156,332.8900146484375,44.16749954223633,118.2750015258789,264.5799865722656,135.42999267578125,122.54000091552734,270.2200012207031,153.1999969482422,122.7699966430664,36.98249816894531,175.0800018310547,59.102500915527344,259.6199951171875,62.189998626708984,292.8800048828125,153.6300048828125,299.489990234375,257.3800048828125,288.760009765625,331.6199951171875,133.42999267578125,142.0,145.42999267578125,191.3300018310547,236.47999572753906,63.5724983215332,93.5199966430664,298.7900085449219,176.3000030517578,80.96749877929688,237.9199981689453,82.875,56.997501373291016,45.95750045776367,114.58999633789062,133.47999572753906,39.057498931884766,50.942501068115234],\"type\":\"box\"},{\"name\":\"Predicted 13\",\"y\":[64.35645294189453,285.57208251953125,39.36331558227539,330.0614013671875,156.58815002441406,112.81484985351562,142.89923095703125,44.287899017333984,50.46699142456055,270.82421875,245.21365356445312,52.25624084472656,152.73239135742188,100.12882232666016,152.62042236328125,39.686012268066406,154.37249755859375,125.7632064819336,66.96487426757812,141.49301147460938,220.2137451171875,303.2159729003906,52.43889236450195,330.653076171875,133.94009399414062,44.85846710205078,315.13177490234375,41.17825698852539,100.00308990478516,277.58978271484375,143.60455322265625,120.71314239501953,296.8758544921875,147.0140838623047,135.5582733154297,37.940181732177734,170.11659240722656,55.46806335449219,275.5049743652344,59.5735969543457,303.20513916015625,172.02627563476562,291.3523864746094,252.08883666992188,305.8414306640625,293.978515625,123.4128189086914,146.86524963378906,143.5232391357422,187.01539611816406,239.31011962890625,63.28829574584961,90.7710952758789,296.73187255859375,177.90237426757812,77.64763641357422,254.97415161132812,80.48835754394531,53.39474105834961,44.7458610534668,113.1849594116211,134.27134704589844,39.21678161621094,50.807247161865234],\"type\":\"box\"},{\"name\":\"Real 13\",\"y\":[64.86250305175781,277.3500061035156,40.98500061035156,318.9599914550781,168.49000549316406,102.31999969482422,140.91000366210938,43.3125,50.724998474121094,282.510009765625,247.3000030517578,48.54249954223633,140.82000732421875,124.82499694824219,160.25,42.70000076293945,172.13999938964844,130.14999389648438,61.66749954223633,133.19000244140625,222.75,304.2099914550781,53.61249923706055,338.04998779296875,144.5,47.90250015258789,331.2099914550781,43.75749969482422,124.37000274658203,269.5,130.05999755859375,120.08999633789062,283.2200012207031,155.3300018310547,124.97000122070312,37.6875,175.52999877929688,60.127498626708984,262.5199890136719,63.95500183105469,296.30999755859375,139.05999755859375,304.1000061035156,260.8999938964844,293.1099853515625,329.3699951171875,133.92999267578125,143.2899932861328,140.08999633789062,191.80999755859375,236.14999389648438,60.227500915527344,95.0,294.95001220703125,174.2100067138672,77.37750244140625,237.4499969482422,83.36499786376953,56.0724983215332,46.290000915527344,115.91000366210938,131.4600067138672,39.435001373291016,52.48749923706055],\"type\":\"box\"}],                        {\"template\":{\"data\":{\"histogram2dcontour\":[{\"type\":\"histogram2dcontour\",\"colorbar\":{\"outlinewidth\":0,\"ticks\":\"\"},\"colorscale\":[[0.0,\"#0d0887\"],[0.1111111111111111,\"#46039f\"],[0.2222222222222222,\"#7201a8\"],[0.3333333333333333,\"#9c179e\"],[0.4444444444444444,\"#bd3786\"],[0.5555555555555556,\"#d8576b\"],[0.6666666666666666,\"#ed7953\"],[0.7777777777777778,\"#fb9f3a\"],[0.8888888888888888,\"#fdca26\"],[1.0,\"#f0f921\"]]}],\"choropleth\":[{\"type\":\"choropleth\",\"colorbar\":{\"outlinewidth\":0,\"ticks\":\"\"}}],\"histogram2d\":[{\"type\":\"histogram2d\",\"colorbar\":{\"outlinewidth\":0,\"ticks\":\"\"},\"colorscale\":[[0.0,\"#0d0887\"],[0.1111111111111111,\"#46039f\"],[0.2222222222222222,\"#7201a8\"],[0.3333333333333333,\"#9c179e\"],[0.4444444444444444,\"#bd3786\"],[0.5555555555555556,\"#d8576b\"],[0.6666666666666666,\"#ed7953\"],[0.7777777777777778,\"#fb9f3a\"],[0.8888888888888888,\"#fdca26\"],[1.0,\"#f0f921\"]]}],\"heatmap\":[{\"type\":\"heatmap\",\"colorbar\":{\"outlinewidth\":0,\"ticks\":\"\"},\"colorscale\":[[0.0,\"#0d0887\"],[0.1111111111111111,\"#46039f\"],[0.2222222222222222,\"#7201a8\"],[0.3333333333333333,\"#9c179e\"],[0.4444444444444444,\"#bd3786\"],[0.5555555555555556,\"#d8576b\"],[0.6666666666666666,\"#ed7953\"],[0.7777777777777778,\"#fb9f3a\"],[0.8888888888888888,\"#fdca26\"],[1.0,\"#f0f921\"]]}],\"heatmapgl\":[{\"type\":\"heatmapgl\",\"colorbar\":{\"outlinewidth\":0,\"ticks\":\"\"},\"colorscale\":[[0.0,\"#0d0887\"],[0.1111111111111111,\"#46039f\"],[0.2222222222222222,\"#7201a8\"],[0.3333333333333333,\"#9c179e\"],[0.4444444444444444,\"#bd3786\"],[0.5555555555555556,\"#d8576b\"],[0.6666666666666666,\"#ed7953\"],[0.7777777777777778,\"#fb9f3a\"],[0.8888888888888888,\"#fdca26\"],[1.0,\"#f0f921\"]]}],\"contourcarpet\":[{\"type\":\"contourcarpet\",\"colorbar\":{\"outlinewidth\":0,\"ticks\":\"\"}}],\"contour\":[{\"type\":\"contour\",\"colorbar\":{\"outlinewidth\":0,\"ticks\":\"\"},\"colorscale\":[[0.0,\"#0d0887\"],[0.1111111111111111,\"#46039f\"],[0.2222222222222222,\"#7201a8\"],[0.3333333333333333,\"#9c179e\"],[0.4444444444444444,\"#bd3786\"],[0.5555555555555556,\"#d8576b\"],[0.6666666666666666,\"#ed7953\"],[0.7777777777777778,\"#fb9f3a\"],[0.8888888888888888,\"#fdca26\"],[1.0,\"#f0f921\"]]}],\"surface\":[{\"type\":\"surface\",\"colorbar\":{\"outlinewidth\":0,\"ticks\":\"\"},\"colorscale\":[[0.0,\"#0d0887\"],[0.1111111111111111,\"#46039f\"],[0.2222222222222222,\"#7201a8\"],[0.3333333333333333,\"#9c179e\"],[0.4444444444444444,\"#bd3786\"],[0.5555555555555556,\"#d8576b\"],[0.6666666666666666,\"#ed7953\"],[0.7777777777777778,\"#fb9f3a\"],[0.8888888888888888,\"#fdca26\"],[1.0,\"#f0f921\"]]}],\"mesh3d\":[{\"type\":\"mesh3d\",\"colorbar\":{\"outlinewidth\":0,\"ticks\":\"\"}}],\"scatter\":[{\"fillpattern\":{\"fillmode\":\"overlay\",\"size\":10,\"solidity\":0.2},\"type\":\"scatter\"}],\"parcoords\":[{\"type\":\"parcoords\",\"line\":{\"colorbar\":{\"outlinewidth\":0,\"ticks\":\"\"}}}],\"scatterpolargl\":[{\"type\":\"scatterpolargl\",\"marker\":{\"colorbar\":{\"outlinewidth\":0,\"ticks\":\"\"}}}],\"bar\":[{\"error_x\":{\"color\":\"#2a3f5f\"},\"error_y\":{\"color\":\"#2a3f5f\"},\"marker\":{\"line\":{\"color\":\"#E5ECF6\",\"width\":0.5},\"pattern\":{\"fillmode\":\"overlay\",\"size\":10,\"solidity\":0.2}},\"type\":\"bar\"}],\"scattergeo\":[{\"type\":\"scattergeo\",\"marker\":{\"colorbar\":{\"outlinewidth\":0,\"ticks\":\"\"}}}],\"scatterpolar\":[{\"type\":\"scatterpolar\",\"marker\":{\"colorbar\":{\"outlinewidth\":0,\"ticks\":\"\"}}}],\"histogram\":[{\"marker\":{\"pattern\":{\"fillmode\":\"overlay\",\"size\":10,\"solidity\":0.2}},\"type\":\"histogram\"}],\"scattergl\":[{\"type\":\"scattergl\",\"marker\":{\"colorbar\":{\"outlinewidth\":0,\"ticks\":\"\"}}}],\"scatter3d\":[{\"type\":\"scatter3d\",\"line\":{\"colorbar\":{\"outlinewidth\":0,\"ticks\":\"\"}},\"marker\":{\"colorbar\":{\"outlinewidth\":0,\"ticks\":\"\"}}}],\"scattermapbox\":[{\"type\":\"scattermapbox\",\"marker\":{\"colorbar\":{\"outlinewidth\":0,\"ticks\":\"\"}}}],\"scatterternary\":[{\"type\":\"scatterternary\",\"marker\":{\"colorbar\":{\"outlinewidth\":0,\"ticks\":\"\"}}}],\"scattercarpet\":[{\"type\":\"scattercarpet\",\"marker\":{\"colorbar\":{\"outlinewidth\":0,\"ticks\":\"\"}}}],\"carpet\":[{\"aaxis\":{\"endlinecolor\":\"#2a3f5f\",\"gridcolor\":\"white\",\"linecolor\":\"white\",\"minorgridcolor\":\"white\",\"startlinecolor\":\"#2a3f5f\"},\"baxis\":{\"endlinecolor\":\"#2a3f5f\",\"gridcolor\":\"white\",\"linecolor\":\"white\",\"minorgridcolor\":\"white\",\"startlinecolor\":\"#2a3f5f\"},\"type\":\"carpet\"}],\"table\":[{\"cells\":{\"fill\":{\"color\":\"#EBF0F8\"},\"line\":{\"color\":\"white\"}},\"header\":{\"fill\":{\"color\":\"#C8D4E3\"},\"line\":{\"color\":\"white\"}},\"type\":\"table\"}],\"barpolar\":[{\"marker\":{\"line\":{\"color\":\"#E5ECF6\",\"width\":0.5},\"pattern\":{\"fillmode\":\"overlay\",\"size\":10,\"solidity\":0.2}},\"type\":\"barpolar\"}],\"pie\":[{\"automargin\":true,\"type\":\"pie\"}]},\"layout\":{\"autotypenumbers\":\"strict\",\"colorway\":[\"#636efa\",\"#EF553B\",\"#00cc96\",\"#ab63fa\",\"#FFA15A\",\"#19d3f3\",\"#FF6692\",\"#B6E880\",\"#FF97FF\",\"#FECB52\"],\"font\":{\"color\":\"#2a3f5f\"},\"hovermode\":\"closest\",\"hoverlabel\":{\"align\":\"left\"},\"paper_bgcolor\":\"white\",\"plot_bgcolor\":\"#E5ECF6\",\"polar\":{\"bgcolor\":\"#E5ECF6\",\"angularaxis\":{\"gridcolor\":\"white\",\"linecolor\":\"white\",\"ticks\":\"\"},\"radialaxis\":{\"gridcolor\":\"white\",\"linecolor\":\"white\",\"ticks\":\"\"}},\"ternary\":{\"bgcolor\":\"#E5ECF6\",\"aaxis\":{\"gridcolor\":\"white\",\"linecolor\":\"white\",\"ticks\":\"\"},\"baxis\":{\"gridcolor\":\"white\",\"linecolor\":\"white\",\"ticks\":\"\"},\"caxis\":{\"gridcolor\":\"white\",\"linecolor\":\"white\",\"ticks\":\"\"}},\"coloraxis\":{\"colorbar\":{\"outlinewidth\":0,\"ticks\":\"\"}},\"colorscale\":{\"sequential\":[[0.0,\"#0d0887\"],[0.1111111111111111,\"#46039f\"],[0.2222222222222222,\"#7201a8\"],[0.3333333333333333,\"#9c179e\"],[0.4444444444444444,\"#bd3786\"],[0.5555555555555556,\"#d8576b\"],[0.6666666666666666,\"#ed7953\"],[0.7777777777777778,\"#fb9f3a\"],[0.8888888888888888,\"#fdca26\"],[1.0,\"#f0f921\"]],\"sequentialminus\":[[0.0,\"#0d0887\"],[0.1111111111111111,\"#46039f\"],[0.2222222222222222,\"#7201a8\"],[0.3333333333333333,\"#9c179e\"],[0.4444444444444444,\"#bd3786\"],[0.5555555555555556,\"#d8576b\"],[0.6666666666666666,\"#ed7953\"],[0.7777777777777778,\"#fb9f3a\"],[0.8888888888888888,\"#fdca26\"],[1.0,\"#f0f921\"]],\"diverging\":[[0,\"#8e0152\"],[0.1,\"#c51b7d\"],[0.2,\"#de77ae\"],[0.3,\"#f1b6da\"],[0.4,\"#fde0ef\"],[0.5,\"#f7f7f7\"],[0.6,\"#e6f5d0\"],[0.7,\"#b8e186\"],[0.8,\"#7fbc41\"],[0.9,\"#4d9221\"],[1,\"#276419\"]]},\"xaxis\":{\"gridcolor\":\"white\",\"linecolor\":\"white\",\"ticks\":\"\",\"title\":{\"standoff\":15},\"zerolinecolor\":\"white\",\"automargin\":true,\"zerolinewidth\":2},\"yaxis\":{\"gridcolor\":\"white\",\"linecolor\":\"white\",\"ticks\":\"\",\"title\":{\"standoff\":15},\"zerolinecolor\":\"white\",\"automargin\":true,\"zerolinewidth\":2},\"scene\":{\"xaxis\":{\"backgroundcolor\":\"#E5ECF6\",\"gridcolor\":\"white\",\"linecolor\":\"white\",\"showbackground\":true,\"ticks\":\"\",\"zerolinecolor\":\"white\",\"gridwidth\":2},\"yaxis\":{\"backgroundcolor\":\"#E5ECF6\",\"gridcolor\":\"white\",\"linecolor\":\"white\",\"showbackground\":true,\"ticks\":\"\",\"zerolinecolor\":\"white\",\"gridwidth\":2},\"zaxis\":{\"backgroundcolor\":\"#E5ECF6\",\"gridcolor\":\"white\",\"linecolor\":\"white\",\"showbackground\":true,\"ticks\":\"\",\"zerolinecolor\":\"white\",\"gridwidth\":2}},\"shapedefaults\":{\"line\":{\"color\":\"#2a3f5f\"}},\"annotationdefaults\":{\"arrowcolor\":\"#2a3f5f\",\"arrowhead\":0,\"arrowwidth\":1},\"geo\":{\"bgcolor\":\"white\",\"landcolor\":\"#E5ECF6\",\"subunitcolor\":\"white\",\"showland\":true,\"showlakes\":true,\"lakecolor\":\"white\"},\"title\":{\"x\":0.05},\"mapbox\":{\"style\":\"light\"}}},\"title\":{\"text\":\"Future Performance of Cluster\"},\"xaxis\":{\"title\":{\"text\":\"Steps in future\"}},\"yaxis\":{\"title\":{\"text\":\"Cumulative Percent Change\"},\"range\":[-25,25]}},                        {\"responsive\": true}                    ).then(function(){\n",
       "                            \n",
       "var gd = document.getElementById('0bf8f148-6c60-44c7-bb56-ce0be6f4c130');\n",
       "var x = new MutationObserver(function (mutations, observer) {{\n",
       "        var display = window.getComputedStyle(gd).display;\n",
       "        if (!display || display === 'none') {{\n",
       "            console.log([gd, 'removed!']);\n",
       "            Plotly.purge(gd);\n",
       "            observer.disconnect();\n",
       "        }}\n",
       "}});\n",
       "\n",
       "// Listen for the removal of the full notebook cells\n",
       "var notebookContainer = gd.closest('#notebook-container');\n",
       "if (notebookContainer) {{\n",
       "    x.observe(notebookContainer, {childList: true});\n",
       "}}\n",
       "\n",
       "// Listen for the clearing of the current output cell\n",
       "var outputEl = gd.closest('.output');\n",
       "if (outputEl) {{\n",
       "    x.observe(outputEl, {childList: true});\n",
       "}}\n",
       "\n",
       "                        })                };                });            </script>        </div>"
      ]
     },
     "metadata": {},
     "output_type": "display_data"
    }
   ],
   "execution_count": 204
  },
  {
   "metadata": {
    "ExecuteTime": {
     "end_time": "2024-09-29T00:44:01.365693Z",
     "start_time": "2024-09-29T00:44:01.313299Z"
    }
   },
   "cell_type": "code",
   "source": "DataVisualizations.visualize_step_distribution(mu_pred,y_test)",
   "id": "4e2ea6c32b37f1f8",
   "outputs": [
    {
     "data": {
      "text/plain": [
       "<Figure size 800x600 with 1 Axes>"
      ],
      "image/png": "[encoded data removed]"
     },
     "metadata": {},
     "output_type": "display_data"
    }
   ],
   "execution_count": 205
  },
  {
   "metadata": {
    "ExecuteTime": {
     "end_time": "2024-09-29T00:44:08.807309Z",
     "start_time": "2024-09-29T00:44:08.670809Z"
    }
   },
   "cell_type": "code",
   "source": [
    "# visualize variance\n",
    "DataVisualizations.visualize_std(std_pred)"
   ],
   "id": "68bc51a98fe5acb0",
   "outputs": [
    {
     "data": {
      "text/plain": [
       "<Figure size 1400x600 with 1 Axes>"
      ],
      "image/png": "[encoded data removed]"
     },
     "metadata": {},
     "output_type": "display_data"
    }
   ],
   "execution_count": 207
  },
  {
   "metadata": {
    "ExecuteTime": {
     "end_time": "2024-09-29T00:08:58.742276Z",
     "start_time": "2024-09-29T00:08:58.726682Z"
    }
   },
   "cell_type": "code",
   "source": "DataVisualizations.plot_residuals(y_test ,mu_pred, std_pred)",
   "id": "1deb4775842537f4",
   "outputs": [
    {
     "ename": "ValueError",
     "evalue": "operands could not be broadcast together with shapes (332,14) (64,14) ",
     "output_type": "error",
     "traceback": [
      "\u001B[0;31m---------------------------------------------------------------------------\u001B[0m",
      "\u001B[0;31mValueError\u001B[0m                                Traceback (most recent call last)",
      "Cell \u001B[0;32mIn[179], line 1\u001B[0m\n\u001B[0;32m----> 1\u001B[0m DataVisualizations\u001B[38;5;241m.\u001B[39mplot_residuals(y_test ,mu_pred, std_pred)\n",
      "File \u001B[0;32m~/Documents/TradeLensForcast/DataVisualizations.py:324\u001B[0m, in \u001B[0;36mplot_residuals\u001B[0;34m(y_true, y_pred_mean, y_pred_std)\u001B[0m\n\u001B[1;32m    314\u001B[0m \u001B[38;5;28;01mdef\u001B[39;00m \u001B[38;5;21mplot_residuals\u001B[39m(y_true, y_pred_mean, y_pred_std):\n\u001B[1;32m    315\u001B[0m \u001B[38;5;250m    \u001B[39m\u001B[38;5;124;03m\"\"\"\u001B[39;00m\n\u001B[1;32m    316\u001B[0m \u001B[38;5;124;03m    Plot various residual-related plots in a grid: residuals over time, mean residuals, error histogram,\u001B[39;00m\n\u001B[1;32m    317\u001B[0m \u001B[38;5;124;03m    and Q-Q plot to check the normality of the residuals.\u001B[39;00m\n\u001B[0;32m   (...)\u001B[0m\n\u001B[1;32m    322\u001B[0m \u001B[38;5;124;03m    - y_pred_std: numpy array of predicted standard deviations, shape (elements, output_steps)\u001B[39;00m\n\u001B[1;32m    323\u001B[0m \u001B[38;5;124;03m    \"\"\"\u001B[39;00m\n\u001B[0;32m--> 324\u001B[0m     residuals \u001B[38;5;241m=\u001B[39m y_true \u001B[38;5;241m-\u001B[39m y_pred_mean\n\u001B[1;32m    325\u001B[0m     mean_residuals \u001B[38;5;241m=\u001B[39m residuals\u001B[38;5;241m.\u001B[39mmean(axis\u001B[38;5;241m=\u001B[39m\u001B[38;5;241m0\u001B[39m)\n\u001B[1;32m    327\u001B[0m     \u001B[38;5;66;03m# Create subplots\u001B[39;00m\n",
      "\u001B[0;31mValueError\u001B[0m: operands could not be broadcast together with shapes (332,14) (64,14) "
     ]
    }
   ],
   "execution_count": 179
  },
  {
   "metadata": {
    "ExecuteTime": {
     "end_time": "2024-09-29T00:08:59.980279Z",
     "start_time": "2024-09-29T00:08:59.909838Z"
    }
   },
   "cell_type": "code",
   "source": "DataVisualizations.plot_layer_activations(model, X_test_tensor)",
   "id": "f0c4af49913a9eb",
   "outputs": [
    {
     "ename": "TypeError",
     "evalue": "'Axes' object is not subscriptable",
     "output_type": "error",
     "traceback": [
      "\u001B[0;31m---------------------------------------------------------------------------\u001B[0m",
      "\u001B[0;31mTypeError\u001B[0m                                 Traceback (most recent call last)",
      "Cell \u001B[0;32mIn[180], line 1\u001B[0m\n\u001B[0;32m----> 1\u001B[0m DataVisualizations\u001B[38;5;241m.\u001B[39mplot_layer_activations(model, X_test_tensor)\n",
      "File \u001B[0;32m~/Documents/TradeLensForcast/DataVisualizations.py:384\u001B[0m, in \u001B[0;36mplot_layer_activations\u001B[0;34m(model, encoder_input)\u001B[0m\n\u001B[1;32m    382\u001B[0m \u001B[38;5;28;01mfor\u001B[39;00m i, layer_output \u001B[38;5;129;01min\u001B[39;00m \u001B[38;5;28menumerate\u001B[39m(layer_outputs):\n\u001B[1;32m    383\u001B[0m     mean_activations \u001B[38;5;241m=\u001B[39m np\u001B[38;5;241m.\u001B[39mmean(layer_output, axis\u001B[38;5;241m=\u001B[39m\u001B[38;5;241m-\u001B[39m\u001B[38;5;241m1\u001B[39m)  \u001B[38;5;66;03m# Calculate mean activations across the batch\u001B[39;00m\n\u001B[0;32m--> 384\u001B[0m     axes[i]\u001B[38;5;241m.\u001B[39mhist(mean_activations\u001B[38;5;241m.\u001B[39mflatten(), bins\u001B[38;5;241m=\u001B[39m\u001B[38;5;241m30\u001B[39m)\n\u001B[1;32m    385\u001B[0m     axes[i]\u001B[38;5;241m.\u001B[39mset_title(\u001B[38;5;124mf\u001B[39m\u001B[38;5;124m'\u001B[39m\u001B[38;5;124mLayer \u001B[39m\u001B[38;5;132;01m{\u001B[39;00mi\u001B[38;5;250m \u001B[39m\u001B[38;5;241m+\u001B[39m\u001B[38;5;250m \u001B[39m\u001B[38;5;241m1\u001B[39m\u001B[38;5;132;01m}\u001B[39;00m\u001B[38;5;124m Activations\u001B[39m\u001B[38;5;124m'\u001B[39m)\n\u001B[1;32m    387\u001B[0m plt\u001B[38;5;241m.\u001B[39mtight_layout()\n",
      "\u001B[0;31mTypeError\u001B[0m: 'Axes' object is not subscriptable"
     ]
    },
    {
     "data": {
      "text/plain": [
       "<Figure size 1000x200 with 1 Axes>"
      ],
      "image/png": "[encoded data removed]"
     },
     "metadata": {},
     "output_type": "display_data"
    }
   ],
   "execution_count": 180
  },
  {
   "metadata": {
    "ExecuteTime": {
     "end_time": "2024-09-29T00:44:12.564076Z",
     "start_time": "2024-09-29T00:44:11.970348Z"
    }
   },
   "cell_type": "code",
   "source": [
    "for i in range(0, 1):\n",
    "\n",
    "    # print(test_seq_objs[i]['ticker'])\n",
    "    print(test_seq_objs[i]['start_timestamp'])\n",
    "    print(test_seq_objs[i]['end_timestamp'])\n",
    "    print(y_train[i])\n",
    "    print(mu_pred[i])\n",
    "    DataVisualizations.layer_heatmap(retrieval_dict, i)\n",
    "    DataVisualizations.layer_heatmap(output_dict, i)\n",
    "    DataVisualizations.visualize_future_predictions_with_uncertainty(y_train[i], mu_pred[i], std_pred[i], already_cumulative=True)"
   ],
   "id": "4b14bcabc62d7654",
   "outputs": [
    {
     "name": "stdout",
     "output_type": "stream",
     "text": [
      "2023-11-29T00:00:00Z\n",
      "2023-12-27T00:00:00Z\n",
      "[66.11750031 65.66000366 66.44000244 66.77500153 66.57250214 65.79750061\n",
      " 65.50250244 65.44499969 66.59249878 66.07250214 66.95999908 66.8125\n",
      " 66.04000092 64.86250305]\n",
      "[63.75095  64.26265  64.340385 64.353134 64.35233  64.35503  64.35565\n",
      " 64.35625  64.35628  64.35629  64.35629  64.35642  64.35645  64.35645 ]\n"
     ]
    },
    {
     "data": {
      "text/plain": [
       "<Figure size 1500x500 with 2 Axes>"
      ],
      "image/png": "[encoded data removed]"
     },
     "metadata": {},
     "output_type": "display_data"
    },
    {
     "data": {
      "text/plain": [
       "<Figure size 1500x500 with 2 Axes>"
      ],
      "image/png": "[encoded data removed]"
     },
     "metadata": {},
     "output_type": "display_data"
    },
    {
     "data": {
      "text/plain": [
       "<Figure size 1400x600 with 2 Axes>"
      ],
      "image/png": "[encoded data removed]"
     },
     "metadata": {},
     "output_type": "display_data"
    }
   ],
   "execution_count": 208
  },
  {
   "metadata": {},
   "cell_type": "code",
   "source": "",
   "id": "82f55281d9637942",
   "outputs": [],
   "execution_count": null
  },
  {
   "metadata": {},
   "cell_type": "code",
   "source": [
    "# embeddings = DataVisualizations.extract_embeddings(models, X_test_tensor[:1000])\n",
    "# DataVisualizations.visualize_embeddings(embeddings, method='tsne', perplexity=50)"
   ],
   "id": "3189105a8ba946f8",
   "outputs": [],
   "execution_count": null
  },
  {
   "metadata": {},
   "cell_type": "code",
   "source": "",
   "id": "343246a9d0339e97",
   "outputs": [],
   "execution_count": null
  },
  {
   "metadata": {
    "ExecuteTime": {
     "end_time": "2024-09-28T21:12:03.722533Z",
     "start_time": "2024-09-28T21:12:03.620875Z"
    }
   },
   "cell_type": "code",
   "source": [
    "from datetime import datetime\n",
    "\n",
    "# add date/time to models name\n",
    "model_name = 'model_weights' + datetime.now().strftime(\"%Y%m%d_%H%M%S\")\n",
    "print(model_name)\n",
    "torch.save(model.state_dict(), 'saved_models/' + model_name + '.pth')"
   ],
   "id": "97a03ceeff16ac44",
   "outputs": [
    {
     "name": "stdout",
     "output_type": "stream",
     "text": [
      "model_weights20240928_171203\n"
     ]
    }
   ],
   "execution_count": 60
  },
  {
   "metadata": {},
   "cell_type": "code",
   "source": "",
   "id": "5ba008f9734fd20",
   "outputs": [],
   "execution_count": null
  }
 ],
 "metadata": {
  "kernelspec": {
   "display_name": "Python 3",
   "language": "python",
   "name": "python3"
  },
  "language_info": {
   "codemirror_mode": {
    "name": "ipython",
    "version": 2
   },
   "file_extension": ".py",
   "mimetype": "text/x-python",
   "name": "python",
   "nbconvert_exporter": "python",
   "pygments_lexer": "ipython2",
   "version": "2.7.6"
  }
 },
 "nbformat": 4,
 "nbformat_minor": 5
}
