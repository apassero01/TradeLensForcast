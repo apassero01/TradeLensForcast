{
 "cells": [
  {
   "cell_type": "code",
   "id": "initial_id",
   "metadata": {
    "collapsed": true,
    "ExecuteTime": {
     "end_time": "2024-08-24T16:16:56.272525Z",
     "start_time": "2024-08-24T16:16:56.269093Z"
    }
   },
   "source": [
    "import requests\n",
    "import json \n",
    "import sys\n",
    "import numpy as np\n",
    "from tslearn.preprocessing import TimeSeriesScalerMeanVariance\n",
    "from matplotlib import pyplot as plt\n",
    "from sklearn.model_selection import train_test_split\n",
    "import sklearn as sk\n",
    "import test_utils_models\n",
    "from tensorflow.keras.optimizers import Adam\n",
    "import tensorflow as tf"
   ],
   "outputs": [],
   "execution_count": 22
  },
  {
   "metadata": {
    "ExecuteTime": {
     "end_time": "2024-08-24T16:07:55.645979Z",
     "start_time": "2024-08-24T16:07:55.643014Z"
    }
   },
   "cell_type": "code",
   "source": [
    "url = 'http://localhost:8000/sequenceset_manager/get_sequence_data'\n",
    "\n",
    "features = ['pctChgclose', 'pctChgvolume', 'pctDiff+ema50_close', 'pctDiff+ema100_close',\n",
    "'pctDiff+ema200_close', 'pctDiff+smaVol10_volume', 'pctDiff+smaVol20_volume',\n",
    "'pctDiff+bb_high_close10', 'pctDiff+bb_low_close10', 'rsi10', 'rsi20',\n",
    "'opHi', 'opCl', 'pctChgClOp', 'macd_signal']\n",
    "\n",
    "target_features = ['pctChgclose+{}'.format(i) for i in range(1, 16) ]\n",
    "\n",
    "\n",
    "indices_seq = list(range(len(features + target_features)))\n",
    "\n",
    "feature_dict = {col: index for col, index in zip(features+target_features, indices_seq)}\n"
   ],
   "id": "d118321a4ad09084",
   "outputs": [],
   "execution_count": 2
  },
  {
   "metadata": {
    "ExecuteTime": {
     "end_time": "2024-08-24T16:08:54.614129Z",
     "start_time": "2024-08-24T16:08:54.611764Z"
    }
   },
   "cell_type": "code",
   "source": "tickers = ['AAPL', 'SPY', \"QQQ\"]",
   "id": "1b367537598f79f1",
   "outputs": [],
   "execution_count": 3
  },
  {
   "metadata": {
    "ExecuteTime": {
     "end_time": "2024-08-24T16:09:36.530862Z",
     "start_time": "2024-08-24T16:09:00.197406Z"
    }
   },
   "cell_type": "code",
   "source": [
    "all_sequences = []\n",
    "for ticker in tickers:\n",
    "    params = {\n",
    "        'ticker': ticker,\n",
    "        'features': features + target_features,\n",
    "        'interval': '1d',\n",
    "    }\n",
    "\n",
    "    response = requests.get(url, params=params)\n",
    "    if response.status_code == 200:\n",
    "        try:\n",
    "            data = response.json()\n",
    "            all_sequences.append(data)\n",
    "        except json.JSONDecodeError as e:\n",
    "            print(f\"Failed to decode JSON: {e}\")\n",
    "            print(\"Response text:\", response.text)\n",
    "    else:\n",
    "        print(f\"Request failed with status code {response.status_code}\")"
   ],
   "id": "fc9023b8f52d70c0",
   "outputs": [],
   "execution_count": 4
  },
  {
   "metadata": {
    "ExecuteTime": {
     "end_time": "2024-08-24T16:09:42.959311Z",
     "start_time": "2024-08-24T16:09:42.956546Z"
    }
   },
   "cell_type": "code",
   "source": "print(len(all_sequences))",
   "id": "3a84f4e0063b09fa",
   "outputs": [
    {
     "name": "stdout",
     "output_type": "stream",
     "text": [
      "3\n"
     ]
    }
   ],
   "execution_count": 5
  },
  {
   "metadata": {
    "ExecuteTime": {
     "end_time": "2024-08-24T16:09:44.734920Z",
     "start_time": "2024-08-24T16:09:44.731631Z"
    }
   },
   "cell_type": "code",
   "source": [
    "def create_3d_array(stock_sequences):\n",
    "    # Create a 3D array to store the sequences\n",
    "    # The array will have the shape (num_sequences, sequence_length, num_features)\n",
    "    # stock sequences is a list of sequence_dicts where each sequence_dict is a dictionary \n",
    "    # we are extracting 'sliced_data' from each sequence_dict and creating 3d np array\n",
    "\n",
    "    num_sequences = len(stock_sequences)\n",
    "    sequence_length = len(stock_sequences[0]['sliced_data'])\n",
    "    num_features = len(features)\n",
    "    X = np.zeros((num_sequences, sequence_length, num_features))\n",
    "    y = np.zeros((num_sequences, len(target_features)))\n",
    "    for i, sequence_dict in enumerate(stock_sequences):\n",
    "        X_cols = [feature_dict[col] for col in features]\n",
    "        y_cols = [feature_dict[col] for col in target_features]\n",
    "\n",
    "        X[i, :, :] = np.array(sequence_dict['sliced_data'])[:, X_cols]\n",
    "        y[i, :] = np.array(sequence_dict['sliced_data'])[-1, y_cols]\n",
    "\n",
    "\n",
    "    return X, y"
   ],
   "id": "169975ffbe490022",
   "outputs": [],
   "execution_count": 6
  },
  {
   "metadata": {
    "ExecuteTime": {
     "end_time": "2024-08-24T16:09:55.656255Z",
     "start_time": "2024-08-24T16:09:55.654941Z"
    }
   },
   "cell_type": "code",
   "source": "",
   "id": "d3d5e02329891701",
   "outputs": [],
   "execution_count": null
  },
  {
   "metadata": {
    "ExecuteTime": {
     "end_time": "2024-08-24T16:13:56.334183Z",
     "start_time": "2024-08-24T16:13:56.330615Z"
    }
   },
   "cell_type": "code",
   "source": [
    "def preprocess_multi_stock(all_sequences, test_size=0.2):\n",
    "    X_train = None\n",
    "    X_test = None\n",
    "    y_train = None\n",
    "    y_test = None\n",
    "    for sequences in all_sequences:\n",
    "        print(len(sequences))\n",
    "        X, y = create_3d_array(sequences)\n",
    "\n",
    "        for i in range(len(X)-1, 0, -1):\n",
    "            if np.isnan(y[i]).any():\n",
    "                X = np.delete(X, i, axis=0)\n",
    "                y = np.delete(y, i, axis=0)\n",
    "        \n",
    "        X_train_cur, X_test_cur, y_train_cur, y_test_cur = train_test_split(X, y, test_size=test_size, random_state=42)\n",
    "\n",
    "        if X_train is None:\n",
    "            X_train = X_train_cur\n",
    "            X_test = X_test_cur\n",
    "            y_train = y_train_cur\n",
    "            y_test = y_test_cur\n",
    "        else:\n",
    "            X_train = np.vstack((X_train, X_train_cur))\n",
    "            X_test = np.vstack((X_test, X_test_cur))\n",
    "            y_train = np.vstack((y_train, y_train_cur))\n",
    "            y_test = np.vstack((y_test, y_test_cur))\n",
    "    \n",
    "    return X_train, X_test, y_train, y_test\n"
   ],
   "id": "d9cc03ffd397d217",
   "outputs": [],
   "execution_count": 12
  },
  {
   "metadata": {
    "ExecuteTime": {
     "end_time": "2024-08-24T16:13:58.671978Z",
     "start_time": "2024-08-24T16:13:56.709920Z"
    }
   },
   "cell_type": "code",
   "source": "X_train, X_test, y_train, y_test = preprocess_multi_stock(all_sequences)",
   "id": "657145e387fb418c",
   "outputs": [
    {
     "name": "stdout",
     "output_type": "stream",
     "text": [
      "10966\n",
      "7899\n",
      "6357\n"
     ]
    }
   ],
   "execution_count": 13
  },
  {
   "metadata": {
    "ExecuteTime": {
     "end_time": "2024-08-24T16:14:07.250076Z",
     "start_time": "2024-08-24T16:14:07.247795Z"
    }
   },
   "cell_type": "code",
   "source": "print(X_train.shape, X_test.shape, y_train.shape, y_test.shape)",
   "id": "3dd33a41923a5892",
   "outputs": [
    {
     "name": "stdout",
     "output_type": "stream",
     "text": [
      "(20140, 50, 15) (5037, 50, 15) (20140, 15) (5037, 15)\n"
     ]
    }
   ],
   "execution_count": 14
  },
  {
   "metadata": {
    "ExecuteTime": {
     "end_time": "2024-08-24T16:14:34.798016Z",
     "start_time": "2024-08-24T16:14:34.795461Z"
    }
   },
   "cell_type": "code",
   "source": [
    "size_in_bytes = X_train.nbytes\n",
    "size_in_mb = size_in_bytes / 1024 / 1024\n",
    "size_in_gb = size_in_mb / 1024\n",
    "print(f\"Size of the array in memory: {size_in_gb:.2f} gb\")"
   ],
   "id": "4048b5a3189aca9",
   "outputs": [
    {
     "name": "stdout",
     "output_type": "stream",
     "text": [
      "Size of the array in memory: 0.11 gb\n"
     ]
    }
   ],
   "execution_count": 15
  },
  {
   "metadata": {
    "ExecuteTime": {
     "end_time": "2024-08-24T16:14:44.915644Z",
     "start_time": "2024-08-24T16:14:43.618418Z"
    }
   },
   "cell_type": "code",
   "source": [
    "scaler = TimeSeriesScalerMeanVariance(mu=0.0, std=1.0)\n",
    "X_train_scaled = scaler.fit_transform(X_train)\n",
    "X_test_scaled = scaler.transform(X_test)\n",
    "\n",
    "y_scaler = sk.preprocessing.StandardScaler()\n",
    "y_train_scaled = y_scaler.fit_transform(y_train)\n",
    "y_test_scaled = y_scaler.transform(y_test)"
   ],
   "id": "317b8e390e30874a",
   "outputs": [],
   "execution_count": 16
  },
  {
   "metadata": {},
   "cell_type": "code",
   "outputs": [],
   "execution_count": null,
   "source": "",
   "id": "3dd57e963a01ec75"
  },
  {
   "metadata": {
    "ExecuteTime": {
     "end_time": "2024-08-24T16:14:51.150252Z",
     "start_time": "2024-08-24T16:14:50.949712Z"
    }
   },
   "cell_type": "code",
   "source": [
    "feature_values_test = X_test[:, :, 0]\n",
    "feature_values_test_scaled = X_test_scaled[:, :, 0]\n",
    "\n",
    "flattened_values_test = feature_values_test.flatten()\n",
    "flattened_values_test_scaled = feature_values_test_scaled.flatten()\n",
    "\n",
    "# Create side-by-side plots\n",
    "fig, axes = plt.subplots(1, 2, figsize=(12, 5))  # 1 row, 2 columns\n",
    "\n",
    "# Plot the original feature values\n",
    "axes[0].hist(flattened_values_test, bins=50, alpha=0.7, color='blue', edgecolor='black')\n",
    "axes[0].set_title('Original Feature Values')\n",
    "axes[0].set_xlabel('Feature Value')\n",
    "axes[0].set_ylabel('Frequency')\n",
    "\n",
    "# Plot the scaled feature values\n",
    "axes[1].hist(flattened_values_test_scaled, bins=50, alpha=0.7, color='green', edgecolor='black')\n",
    "axes[1].set_title('Scaled Feature Values')\n",
    "axes[1].set_xlabel('Feature Value')\n",
    "axes[1].set_ylabel('Frequency')\n",
    "\n",
    "# Adjust layout and show plot\n",
    "plt.tight_layout()\n",
    "plt.show()"
   ],
   "id": "ba42823bc12d7e62",
   "outputs": [
    {
     "data": {
      "text/plain": [
       "<Figure size 1200x500 with 2 Axes>"
      ],
      "image/png": "[encoded data removed]"
     },
     "metadata": {},
     "output_type": "display_data"
    }
   ],
   "execution_count": 17
  },
  {
   "metadata": {
    "ExecuteTime": {
     "end_time": "2024-08-24T16:15:54.155260Z",
     "start_time": "2024-08-24T16:15:54.153148Z"
    }
   },
   "cell_type": "code",
   "source": [
    "y_train_scaled = np.expand_dims(y_train_scaled, axis=-1)\n",
    "y_test_scaled = np.expand_dims(y_test_scaled, axis=-1)"
   ],
   "id": "b41b3f43a966aabe",
   "outputs": [],
   "execution_count": 19
  },
  {
   "metadata": {
    "ExecuteTime": {
     "end_time": "2024-08-24T16:26:06.080058Z",
     "start_time": "2024-08-24T16:26:06.072149Z"
    }
   },
   "cell_type": "code",
   "source": "baseline_model = test_utils_models.CustomSeq2SeqModel(len(target_features), X_train_scaled.shape[1], X_train_scaled.shape[2])",
   "id": "300e826cfb338469",
   "outputs": [],
   "execution_count": 28
  },
  {
   "metadata": {
    "ExecuteTime": {
     "end_time": "2024-08-24T16:26:06.210507Z",
     "start_time": "2024-08-24T16:26:06.206355Z"
    }
   },
   "cell_type": "code",
   "source": [
    "lr = 0.001\n",
    "batch_size = 64\n",
    "epochs = 250\n",
    "\n",
    "loss = 'mse'\n",
    "\n",
    "baseline_model.compile(optimizer = Adam(learning_rate=lr), loss = loss)"
   ],
   "id": "cc19fa4336169856",
   "outputs": [],
   "execution_count": 29
  },
  {
   "metadata": {
    "jupyter": {
     "is_executing": true
    },
    "ExecuteTime": {
     "start_time": "2024-08-24T16:26:06.343822Z"
    }
   },
   "cell_type": "code",
   "source": [
    "baseline_model.fit(X_train_scaled, y_train_scaled,\n",
    "                   validation_data=(X_test_scaled, y_test_scaled),\n",
    "                   batch_size=batch_size, epochs=epochs, verbose=2)"
   ],
   "id": "2079fe42cafe68a",
   "outputs": [
    {
     "name": "stdout",
     "output_type": "stream",
     "text": [
      "Epoch 1/250\n",
      "(None, 50, 63)\n",
      "decoder outputs\n",
      "(None, 15, 1)\n",
      "decoder outputs\n",
      "(None, 15, 1)\n",
      "(None, 50, 63)\n",
      "decoder outputs\n",
      "(None, 15, 1)\n",
      "(None, 50, 63)\n",
      "decoder outputs\n",
      "(None, 15, 1)\n",
      "(None, 50, 63)\n",
      "decoder outputs\n",
      "(None, 15, 1)\n",
      "Attention Weights Shape:  (None, 15, 50)\n",
      "315/315 - 13s - 40ms/step - loss: 1.0794 - val_loss: 0.9989\n",
      "Epoch 2/250\n",
      "315/315 - 11s - 34ms/step - loss: 0.9999 - val_loss: 0.9978\n",
      "Epoch 3/250\n",
      "315/315 - 11s - 34ms/step - loss: 0.9991 - val_loss: 0.9972\n",
      "Epoch 4/250\n",
      "315/315 - 11s - 34ms/step - loss: 0.9984 - val_loss: 0.9956\n",
      "Epoch 5/250\n",
      "315/315 - 11s - 34ms/step - loss: 0.9978 - val_loss: 0.9950\n",
      "Epoch 6/250\n"
     ]
    }
   ],
   "execution_count": null
  },
  {
   "metadata": {},
   "cell_type": "code",
   "outputs": [],
   "execution_count": null,
   "source": "",
   "id": "6abfe3c95d86c26b"
  }
 ],
 "metadata": {
  "kernelspec": {
   "display_name": "Python 3",
   "language": "python",
   "name": "python3"
  },
  "language_info": {
   "codemirror_mode": {
    "name": "ipython",
    "version": 2
   },
   "file_extension": ".py",
   "mimetype": "text/x-python",
   "name": "python",
   "nbconvert_exporter": "python",
   "pygments_lexer": "ipython2",
   "version": "2.7.6"
  }
 },
 "nbformat": 4,
 "nbformat_minor": 5
}
